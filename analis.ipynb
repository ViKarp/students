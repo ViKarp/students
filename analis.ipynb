{
 "cells": [
  {
   "cell_type": "code",
   "execution_count": 144,
   "metadata": {},
   "outputs": [],
   "source": [
    "## Importing required libraries\n",
    "import sqlite3\n",
    "import pandas as pd\n",
    "import numpy as np\n",
    "import math\n",
    "import seaborn as sns\n",
    "import itertools\n",
    "import matplotlib.pyplot as plt\n",
    "import sklearn\n",
    "import statsmodels.miscmodels\n",
    "from sklearn.ensemble import GradientBoostingClassifier\n",
    "from sklearn.ensemble import AdaBoostClassifier \n",
    "from sklearn.ensemble import RandomForestClassifier\n",
    "from sklearn.tree import DecisionTreeClassifier\n",
    "from sklearn.naive_bayes import GaussianNB\n",
    "from sklearn.neighbors import KNeighborsClassifier\n",
    "from sklearn import linear_model\n",
    "from sklearn.metrics import confusion_matrix\n",
    "from sklearn.metrics import classification_report, accuracy_score\n",
    "from sklearn.calibration import CalibratedClassifierCV\n",
    "from sklearn import model_selection\n",
    "from sklearn.model_selection import train_test_split\n",
    "from sklearn.metrics import make_scorer\n",
    "from time import time\n",
    "from sklearn.decomposition import PCA, FastICA\n",
    "from sklearn.pipeline import Pipeline\n",
    "from sklearn.preprocessing import LabelEncoder, OneHotEncoder\n",
    "import warnings\n",
    "\n",
    "import sklearn.linear_model as linear_model\n",
    "import sklearn.metrics as metrics\n",
    "from sklearn.ensemble import GradientBoostingRegressor\n",
    "\n",
    "warnings.simplefilter(\"ignore\")"
   ]
  },
  {
   "cell_type": "code",
   "execution_count": 2,
   "id": "8817a34a",
   "metadata": {},
   "outputs": [
    {
     "data": {
      "text/html": [
       "<div>\n",
       "<style scoped>\n",
       "    .dataframe tbody tr th:only-of-type {\n",
       "        vertical-align: middle;\n",
       "    }\n",
       "\n",
       "    .dataframe tbody tr th {\n",
       "        vertical-align: top;\n",
       "    }\n",
       "\n",
       "    .dataframe thead th {\n",
       "        text-align: right;\n",
       "    }\n",
       "</style>\n",
       "<table border=\"1\" class=\"dataframe\">\n",
       "  <thead>\n",
       "    <tr style=\"text-align: right;\">\n",
       "      <th></th>\n",
       "      <th>school</th>\n",
       "      <th>sex</th>\n",
       "      <th>age</th>\n",
       "      <th>address</th>\n",
       "      <th>famsize</th>\n",
       "      <th>Pstatus</th>\n",
       "      <th>Medu</th>\n",
       "      <th>Fedu</th>\n",
       "      <th>Mjob</th>\n",
       "      <th>Fjob</th>\n",
       "      <th>...</th>\n",
       "      <th>famrel</th>\n",
       "      <th>freetime</th>\n",
       "      <th>goout</th>\n",
       "      <th>Dalc</th>\n",
       "      <th>Walc</th>\n",
       "      <th>health</th>\n",
       "      <th>absences</th>\n",
       "      <th>G1</th>\n",
       "      <th>G2</th>\n",
       "      <th>G3</th>\n",
       "    </tr>\n",
       "  </thead>\n",
       "  <tbody>\n",
       "    <tr>\n",
       "      <th>0</th>\n",
       "      <td>GP</td>\n",
       "      <td>F</td>\n",
       "      <td>18</td>\n",
       "      <td>U</td>\n",
       "      <td>GT3</td>\n",
       "      <td>A</td>\n",
       "      <td>4</td>\n",
       "      <td>4</td>\n",
       "      <td>at_home</td>\n",
       "      <td>teacher</td>\n",
       "      <td>...</td>\n",
       "      <td>4</td>\n",
       "      <td>3</td>\n",
       "      <td>4</td>\n",
       "      <td>1</td>\n",
       "      <td>1</td>\n",
       "      <td>3</td>\n",
       "      <td>6</td>\n",
       "      <td>5</td>\n",
       "      <td>6</td>\n",
       "      <td>6</td>\n",
       "    </tr>\n",
       "    <tr>\n",
       "      <th>1</th>\n",
       "      <td>GP</td>\n",
       "      <td>F</td>\n",
       "      <td>17</td>\n",
       "      <td>U</td>\n",
       "      <td>GT3</td>\n",
       "      <td>T</td>\n",
       "      <td>1</td>\n",
       "      <td>1</td>\n",
       "      <td>at_home</td>\n",
       "      <td>other</td>\n",
       "      <td>...</td>\n",
       "      <td>5</td>\n",
       "      <td>3</td>\n",
       "      <td>3</td>\n",
       "      <td>1</td>\n",
       "      <td>1</td>\n",
       "      <td>3</td>\n",
       "      <td>4</td>\n",
       "      <td>5</td>\n",
       "      <td>5</td>\n",
       "      <td>6</td>\n",
       "    </tr>\n",
       "    <tr>\n",
       "      <th>2</th>\n",
       "      <td>GP</td>\n",
       "      <td>F</td>\n",
       "      <td>15</td>\n",
       "      <td>U</td>\n",
       "      <td>LE3</td>\n",
       "      <td>T</td>\n",
       "      <td>1</td>\n",
       "      <td>1</td>\n",
       "      <td>at_home</td>\n",
       "      <td>other</td>\n",
       "      <td>...</td>\n",
       "      <td>4</td>\n",
       "      <td>3</td>\n",
       "      <td>2</td>\n",
       "      <td>2</td>\n",
       "      <td>3</td>\n",
       "      <td>3</td>\n",
       "      <td>10</td>\n",
       "      <td>7</td>\n",
       "      <td>8</td>\n",
       "      <td>10</td>\n",
       "    </tr>\n",
       "    <tr>\n",
       "      <th>3</th>\n",
       "      <td>GP</td>\n",
       "      <td>F</td>\n",
       "      <td>15</td>\n",
       "      <td>U</td>\n",
       "      <td>GT3</td>\n",
       "      <td>T</td>\n",
       "      <td>4</td>\n",
       "      <td>2</td>\n",
       "      <td>health</td>\n",
       "      <td>services</td>\n",
       "      <td>...</td>\n",
       "      <td>3</td>\n",
       "      <td>2</td>\n",
       "      <td>2</td>\n",
       "      <td>1</td>\n",
       "      <td>1</td>\n",
       "      <td>5</td>\n",
       "      <td>2</td>\n",
       "      <td>15</td>\n",
       "      <td>14</td>\n",
       "      <td>15</td>\n",
       "    </tr>\n",
       "    <tr>\n",
       "      <th>4</th>\n",
       "      <td>GP</td>\n",
       "      <td>F</td>\n",
       "      <td>16</td>\n",
       "      <td>U</td>\n",
       "      <td>GT3</td>\n",
       "      <td>T</td>\n",
       "      <td>3</td>\n",
       "      <td>3</td>\n",
       "      <td>other</td>\n",
       "      <td>other</td>\n",
       "      <td>...</td>\n",
       "      <td>4</td>\n",
       "      <td>3</td>\n",
       "      <td>2</td>\n",
       "      <td>1</td>\n",
       "      <td>2</td>\n",
       "      <td>5</td>\n",
       "      <td>4</td>\n",
       "      <td>6</td>\n",
       "      <td>10</td>\n",
       "      <td>10</td>\n",
       "    </tr>\n",
       "    <tr>\n",
       "      <th>5</th>\n",
       "      <td>GP</td>\n",
       "      <td>M</td>\n",
       "      <td>16</td>\n",
       "      <td>U</td>\n",
       "      <td>LE3</td>\n",
       "      <td>T</td>\n",
       "      <td>4</td>\n",
       "      <td>3</td>\n",
       "      <td>services</td>\n",
       "      <td>other</td>\n",
       "      <td>...</td>\n",
       "      <td>5</td>\n",
       "      <td>4</td>\n",
       "      <td>2</td>\n",
       "      <td>1</td>\n",
       "      <td>2</td>\n",
       "      <td>5</td>\n",
       "      <td>10</td>\n",
       "      <td>15</td>\n",
       "      <td>15</td>\n",
       "      <td>15</td>\n",
       "    </tr>\n",
       "    <tr>\n",
       "      <th>6</th>\n",
       "      <td>GP</td>\n",
       "      <td>M</td>\n",
       "      <td>16</td>\n",
       "      <td>U</td>\n",
       "      <td>LE3</td>\n",
       "      <td>T</td>\n",
       "      <td>2</td>\n",
       "      <td>2</td>\n",
       "      <td>other</td>\n",
       "      <td>other</td>\n",
       "      <td>...</td>\n",
       "      <td>4</td>\n",
       "      <td>4</td>\n",
       "      <td>4</td>\n",
       "      <td>1</td>\n",
       "      <td>1</td>\n",
       "      <td>3</td>\n",
       "      <td>0</td>\n",
       "      <td>12</td>\n",
       "      <td>12</td>\n",
       "      <td>11</td>\n",
       "    </tr>\n",
       "    <tr>\n",
       "      <th>7</th>\n",
       "      <td>GP</td>\n",
       "      <td>F</td>\n",
       "      <td>17</td>\n",
       "      <td>U</td>\n",
       "      <td>GT3</td>\n",
       "      <td>A</td>\n",
       "      <td>4</td>\n",
       "      <td>4</td>\n",
       "      <td>other</td>\n",
       "      <td>teacher</td>\n",
       "      <td>...</td>\n",
       "      <td>4</td>\n",
       "      <td>1</td>\n",
       "      <td>4</td>\n",
       "      <td>1</td>\n",
       "      <td>1</td>\n",
       "      <td>1</td>\n",
       "      <td>6</td>\n",
       "      <td>6</td>\n",
       "      <td>5</td>\n",
       "      <td>6</td>\n",
       "    </tr>\n",
       "    <tr>\n",
       "      <th>8</th>\n",
       "      <td>GP</td>\n",
       "      <td>M</td>\n",
       "      <td>15</td>\n",
       "      <td>U</td>\n",
       "      <td>LE3</td>\n",
       "      <td>A</td>\n",
       "      <td>3</td>\n",
       "      <td>2</td>\n",
       "      <td>services</td>\n",
       "      <td>other</td>\n",
       "      <td>...</td>\n",
       "      <td>4</td>\n",
       "      <td>2</td>\n",
       "      <td>2</td>\n",
       "      <td>1</td>\n",
       "      <td>1</td>\n",
       "      <td>1</td>\n",
       "      <td>0</td>\n",
       "      <td>16</td>\n",
       "      <td>18</td>\n",
       "      <td>19</td>\n",
       "    </tr>\n",
       "    <tr>\n",
       "      <th>9</th>\n",
       "      <td>GP</td>\n",
       "      <td>M</td>\n",
       "      <td>15</td>\n",
       "      <td>U</td>\n",
       "      <td>GT3</td>\n",
       "      <td>T</td>\n",
       "      <td>3</td>\n",
       "      <td>4</td>\n",
       "      <td>other</td>\n",
       "      <td>other</td>\n",
       "      <td>...</td>\n",
       "      <td>5</td>\n",
       "      <td>5</td>\n",
       "      <td>1</td>\n",
       "      <td>1</td>\n",
       "      <td>1</td>\n",
       "      <td>5</td>\n",
       "      <td>0</td>\n",
       "      <td>14</td>\n",
       "      <td>15</td>\n",
       "      <td>15</td>\n",
       "    </tr>\n",
       "    <tr>\n",
       "      <th>10</th>\n",
       "      <td>GP</td>\n",
       "      <td>F</td>\n",
       "      <td>15</td>\n",
       "      <td>U</td>\n",
       "      <td>GT3</td>\n",
       "      <td>T</td>\n",
       "      <td>4</td>\n",
       "      <td>4</td>\n",
       "      <td>teacher</td>\n",
       "      <td>health</td>\n",
       "      <td>...</td>\n",
       "      <td>3</td>\n",
       "      <td>3</td>\n",
       "      <td>3</td>\n",
       "      <td>1</td>\n",
       "      <td>2</td>\n",
       "      <td>2</td>\n",
       "      <td>0</td>\n",
       "      <td>10</td>\n",
       "      <td>8</td>\n",
       "      <td>9</td>\n",
       "    </tr>\n",
       "    <tr>\n",
       "      <th>11</th>\n",
       "      <td>GP</td>\n",
       "      <td>F</td>\n",
       "      <td>15</td>\n",
       "      <td>U</td>\n",
       "      <td>GT3</td>\n",
       "      <td>T</td>\n",
       "      <td>2</td>\n",
       "      <td>1</td>\n",
       "      <td>services</td>\n",
       "      <td>other</td>\n",
       "      <td>...</td>\n",
       "      <td>5</td>\n",
       "      <td>2</td>\n",
       "      <td>2</td>\n",
       "      <td>1</td>\n",
       "      <td>1</td>\n",
       "      <td>4</td>\n",
       "      <td>4</td>\n",
       "      <td>10</td>\n",
       "      <td>12</td>\n",
       "      <td>12</td>\n",
       "    </tr>\n",
       "    <tr>\n",
       "      <th>12</th>\n",
       "      <td>GP</td>\n",
       "      <td>M</td>\n",
       "      <td>15</td>\n",
       "      <td>U</td>\n",
       "      <td>LE3</td>\n",
       "      <td>T</td>\n",
       "      <td>4</td>\n",
       "      <td>4</td>\n",
       "      <td>health</td>\n",
       "      <td>services</td>\n",
       "      <td>...</td>\n",
       "      <td>4</td>\n",
       "      <td>3</td>\n",
       "      <td>3</td>\n",
       "      <td>1</td>\n",
       "      <td>3</td>\n",
       "      <td>5</td>\n",
       "      <td>2</td>\n",
       "      <td>14</td>\n",
       "      <td>14</td>\n",
       "      <td>14</td>\n",
       "    </tr>\n",
       "    <tr>\n",
       "      <th>13</th>\n",
       "      <td>GP</td>\n",
       "      <td>M</td>\n",
       "      <td>15</td>\n",
       "      <td>U</td>\n",
       "      <td>GT3</td>\n",
       "      <td>T</td>\n",
       "      <td>4</td>\n",
       "      <td>3</td>\n",
       "      <td>teacher</td>\n",
       "      <td>other</td>\n",
       "      <td>...</td>\n",
       "      <td>5</td>\n",
       "      <td>4</td>\n",
       "      <td>3</td>\n",
       "      <td>1</td>\n",
       "      <td>2</td>\n",
       "      <td>3</td>\n",
       "      <td>2</td>\n",
       "      <td>10</td>\n",
       "      <td>10</td>\n",
       "      <td>11</td>\n",
       "    </tr>\n",
       "    <tr>\n",
       "      <th>14</th>\n",
       "      <td>GP</td>\n",
       "      <td>M</td>\n",
       "      <td>15</td>\n",
       "      <td>U</td>\n",
       "      <td>GT3</td>\n",
       "      <td>A</td>\n",
       "      <td>2</td>\n",
       "      <td>2</td>\n",
       "      <td>other</td>\n",
       "      <td>other</td>\n",
       "      <td>...</td>\n",
       "      <td>4</td>\n",
       "      <td>5</td>\n",
       "      <td>2</td>\n",
       "      <td>1</td>\n",
       "      <td>1</td>\n",
       "      <td>3</td>\n",
       "      <td>0</td>\n",
       "      <td>14</td>\n",
       "      <td>16</td>\n",
       "      <td>16</td>\n",
       "    </tr>\n",
       "  </tbody>\n",
       "</table>\n",
       "<p>15 rows × 33 columns</p>\n",
       "</div>"
      ],
      "text/plain": [
       "   school sex  age address famsize Pstatus  Medu  Fedu      Mjob      Fjob  \\\n",
       "0      GP   F   18       U     GT3       A     4     4   at_home   teacher   \n",
       "1      GP   F   17       U     GT3       T     1     1   at_home     other   \n",
       "2      GP   F   15       U     LE3       T     1     1   at_home     other   \n",
       "3      GP   F   15       U     GT3       T     4     2    health  services   \n",
       "4      GP   F   16       U     GT3       T     3     3     other     other   \n",
       "5      GP   M   16       U     LE3       T     4     3  services     other   \n",
       "6      GP   M   16       U     LE3       T     2     2     other     other   \n",
       "7      GP   F   17       U     GT3       A     4     4     other   teacher   \n",
       "8      GP   M   15       U     LE3       A     3     2  services     other   \n",
       "9      GP   M   15       U     GT3       T     3     4     other     other   \n",
       "10     GP   F   15       U     GT3       T     4     4   teacher    health   \n",
       "11     GP   F   15       U     GT3       T     2     1  services     other   \n",
       "12     GP   M   15       U     LE3       T     4     4    health  services   \n",
       "13     GP   M   15       U     GT3       T     4     3   teacher     other   \n",
       "14     GP   M   15       U     GT3       A     2     2     other     other   \n",
       "\n",
       "    ... famrel freetime  goout  Dalc  Walc health absences  G1  G2  G3  \n",
       "0   ...      4        3      4     1     1      3        6   5   6   6  \n",
       "1   ...      5        3      3     1     1      3        4   5   5   6  \n",
       "2   ...      4        3      2     2     3      3       10   7   8  10  \n",
       "3   ...      3        2      2     1     1      5        2  15  14  15  \n",
       "4   ...      4        3      2     1     2      5        4   6  10  10  \n",
       "5   ...      5        4      2     1     2      5       10  15  15  15  \n",
       "6   ...      4        4      4     1     1      3        0  12  12  11  \n",
       "7   ...      4        1      4     1     1      1        6   6   5   6  \n",
       "8   ...      4        2      2     1     1      1        0  16  18  19  \n",
       "9   ...      5        5      1     1     1      5        0  14  15  15  \n",
       "10  ...      3        3      3     1     2      2        0  10   8   9  \n",
       "11  ...      5        2      2     1     1      4        4  10  12  12  \n",
       "12  ...      4        3      3     1     3      5        2  14  14  14  \n",
       "13  ...      5        4      3     1     2      3        2  10  10  11  \n",
       "14  ...      4        5      2     1     1      3        0  14  16  16  \n",
       "\n",
       "[15 rows x 33 columns]"
      ]
     },
     "execution_count": 2,
     "metadata": {},
     "output_type": "execute_result"
    }
   ],
   "source": [
    "df_mat = pd.read_csv('student-mat.csv')\n",
    "df_mat.head(15)"
   ]
  },
  {
   "cell_type": "code",
   "execution_count": 3,
   "id": "a5377243",
   "metadata": {},
   "outputs": [
    {
     "data": {
      "text/html": [
       "<div>\n",
       "<style scoped>\n",
       "    .dataframe tbody tr th:only-of-type {\n",
       "        vertical-align: middle;\n",
       "    }\n",
       "\n",
       "    .dataframe tbody tr th {\n",
       "        vertical-align: top;\n",
       "    }\n",
       "\n",
       "    .dataframe thead th {\n",
       "        text-align: right;\n",
       "    }\n",
       "</style>\n",
       "<table border=\"1\" class=\"dataframe\">\n",
       "  <thead>\n",
       "    <tr style=\"text-align: right;\">\n",
       "      <th></th>\n",
       "      <th>school</th>\n",
       "      <th>sex</th>\n",
       "      <th>age</th>\n",
       "      <th>address</th>\n",
       "      <th>famsize</th>\n",
       "      <th>Pstatus</th>\n",
       "      <th>Medu</th>\n",
       "      <th>Fedu</th>\n",
       "      <th>Mjob</th>\n",
       "      <th>Fjob</th>\n",
       "      <th>...</th>\n",
       "      <th>famrel</th>\n",
       "      <th>freetime</th>\n",
       "      <th>goout</th>\n",
       "      <th>Dalc</th>\n",
       "      <th>Walc</th>\n",
       "      <th>health</th>\n",
       "      <th>absences</th>\n",
       "      <th>G1</th>\n",
       "      <th>G2</th>\n",
       "      <th>G3</th>\n",
       "    </tr>\n",
       "  </thead>\n",
       "  <tbody>\n",
       "    <tr>\n",
       "      <th>0</th>\n",
       "      <td>GP</td>\n",
       "      <td>F</td>\n",
       "      <td>18</td>\n",
       "      <td>U</td>\n",
       "      <td>GT3</td>\n",
       "      <td>A</td>\n",
       "      <td>4</td>\n",
       "      <td>4</td>\n",
       "      <td>at_home</td>\n",
       "      <td>teacher</td>\n",
       "      <td>...</td>\n",
       "      <td>4</td>\n",
       "      <td>3</td>\n",
       "      <td>4</td>\n",
       "      <td>1</td>\n",
       "      <td>1</td>\n",
       "      <td>3</td>\n",
       "      <td>4</td>\n",
       "      <td>0</td>\n",
       "      <td>11</td>\n",
       "      <td>11</td>\n",
       "    </tr>\n",
       "    <tr>\n",
       "      <th>1</th>\n",
       "      <td>GP</td>\n",
       "      <td>F</td>\n",
       "      <td>17</td>\n",
       "      <td>U</td>\n",
       "      <td>GT3</td>\n",
       "      <td>T</td>\n",
       "      <td>1</td>\n",
       "      <td>1</td>\n",
       "      <td>at_home</td>\n",
       "      <td>other</td>\n",
       "      <td>...</td>\n",
       "      <td>5</td>\n",
       "      <td>3</td>\n",
       "      <td>3</td>\n",
       "      <td>1</td>\n",
       "      <td>1</td>\n",
       "      <td>3</td>\n",
       "      <td>2</td>\n",
       "      <td>9</td>\n",
       "      <td>11</td>\n",
       "      <td>11</td>\n",
       "    </tr>\n",
       "    <tr>\n",
       "      <th>2</th>\n",
       "      <td>GP</td>\n",
       "      <td>F</td>\n",
       "      <td>15</td>\n",
       "      <td>U</td>\n",
       "      <td>LE3</td>\n",
       "      <td>T</td>\n",
       "      <td>1</td>\n",
       "      <td>1</td>\n",
       "      <td>at_home</td>\n",
       "      <td>other</td>\n",
       "      <td>...</td>\n",
       "      <td>4</td>\n",
       "      <td>3</td>\n",
       "      <td>2</td>\n",
       "      <td>2</td>\n",
       "      <td>3</td>\n",
       "      <td>3</td>\n",
       "      <td>6</td>\n",
       "      <td>12</td>\n",
       "      <td>13</td>\n",
       "      <td>12</td>\n",
       "    </tr>\n",
       "    <tr>\n",
       "      <th>3</th>\n",
       "      <td>GP</td>\n",
       "      <td>F</td>\n",
       "      <td>15</td>\n",
       "      <td>U</td>\n",
       "      <td>GT3</td>\n",
       "      <td>T</td>\n",
       "      <td>4</td>\n",
       "      <td>2</td>\n",
       "      <td>health</td>\n",
       "      <td>services</td>\n",
       "      <td>...</td>\n",
       "      <td>3</td>\n",
       "      <td>2</td>\n",
       "      <td>2</td>\n",
       "      <td>1</td>\n",
       "      <td>1</td>\n",
       "      <td>5</td>\n",
       "      <td>0</td>\n",
       "      <td>14</td>\n",
       "      <td>14</td>\n",
       "      <td>14</td>\n",
       "    </tr>\n",
       "    <tr>\n",
       "      <th>4</th>\n",
       "      <td>GP</td>\n",
       "      <td>F</td>\n",
       "      <td>16</td>\n",
       "      <td>U</td>\n",
       "      <td>GT3</td>\n",
       "      <td>T</td>\n",
       "      <td>3</td>\n",
       "      <td>3</td>\n",
       "      <td>other</td>\n",
       "      <td>other</td>\n",
       "      <td>...</td>\n",
       "      <td>4</td>\n",
       "      <td>3</td>\n",
       "      <td>2</td>\n",
       "      <td>1</td>\n",
       "      <td>2</td>\n",
       "      <td>5</td>\n",
       "      <td>0</td>\n",
       "      <td>11</td>\n",
       "      <td>13</td>\n",
       "      <td>13</td>\n",
       "    </tr>\n",
       "  </tbody>\n",
       "</table>\n",
       "<p>5 rows × 33 columns</p>\n",
       "</div>"
      ],
      "text/plain": [
       "  school sex  age address famsize Pstatus  Medu  Fedu     Mjob      Fjob  ...  \\\n",
       "0     GP   F   18       U     GT3       A     4     4  at_home   teacher  ...   \n",
       "1     GP   F   17       U     GT3       T     1     1  at_home     other  ...   \n",
       "2     GP   F   15       U     LE3       T     1     1  at_home     other  ...   \n",
       "3     GP   F   15       U     GT3       T     4     2   health  services  ...   \n",
       "4     GP   F   16       U     GT3       T     3     3    other     other  ...   \n",
       "\n",
       "  famrel freetime  goout  Dalc  Walc health absences  G1  G2  G3  \n",
       "0      4        3      4     1     1      3        4   0  11  11  \n",
       "1      5        3      3     1     1      3        2   9  11  11  \n",
       "2      4        3      2     2     3      3        6  12  13  12  \n",
       "3      3        2      2     1     1      5        0  14  14  14  \n",
       "4      4        3      2     1     2      5        0  11  13  13  \n",
       "\n",
       "[5 rows x 33 columns]"
      ]
     },
     "execution_count": 3,
     "metadata": {},
     "output_type": "execute_result"
    }
   ],
   "source": [
    "df_por = pd.read_csv('student-por.csv')\n",
    "df_por.head()"
   ]
  },
  {
   "cell_type": "code",
   "execution_count": 4,
   "id": "dc7536d5",
   "metadata": {},
   "outputs": [
    {
     "data": {
      "text/html": [
       "<div>\n",
       "<style scoped>\n",
       "    .dataframe tbody tr th:only-of-type {\n",
       "        vertical-align: middle;\n",
       "    }\n",
       "\n",
       "    .dataframe tbody tr th {\n",
       "        vertical-align: top;\n",
       "    }\n",
       "\n",
       "    .dataframe thead th {\n",
       "        text-align: right;\n",
       "    }\n",
       "</style>\n",
       "<table border=\"1\" class=\"dataframe\">\n",
       "  <thead>\n",
       "    <tr style=\"text-align: right;\">\n",
       "      <th></th>\n",
       "      <th>school</th>\n",
       "      <th>sex</th>\n",
       "      <th>age</th>\n",
       "      <th>address</th>\n",
       "      <th>famsize</th>\n",
       "      <th>Pstatus</th>\n",
       "      <th>Medu</th>\n",
       "      <th>Fedu</th>\n",
       "      <th>Mjob</th>\n",
       "      <th>Fjob</th>\n",
       "      <th>...</th>\n",
       "      <th>famrel</th>\n",
       "      <th>freetime</th>\n",
       "      <th>goout</th>\n",
       "      <th>Dalc</th>\n",
       "      <th>Walc</th>\n",
       "      <th>health</th>\n",
       "      <th>absences</th>\n",
       "      <th>G1</th>\n",
       "      <th>G2</th>\n",
       "      <th>G3</th>\n",
       "    </tr>\n",
       "  </thead>\n",
       "  <tbody>\n",
       "    <tr>\n",
       "      <th>0</th>\n",
       "      <td>GP</td>\n",
       "      <td>F</td>\n",
       "      <td>18</td>\n",
       "      <td>U</td>\n",
       "      <td>GT3</td>\n",
       "      <td>A</td>\n",
       "      <td>4</td>\n",
       "      <td>4</td>\n",
       "      <td>at_home</td>\n",
       "      <td>teacher</td>\n",
       "      <td>...</td>\n",
       "      <td>4</td>\n",
       "      <td>3</td>\n",
       "      <td>4</td>\n",
       "      <td>1</td>\n",
       "      <td>1</td>\n",
       "      <td>3</td>\n",
       "      <td>4</td>\n",
       "      <td>0</td>\n",
       "      <td>11</td>\n",
       "      <td>11</td>\n",
       "    </tr>\n",
       "    <tr>\n",
       "      <th>1</th>\n",
       "      <td>GP</td>\n",
       "      <td>F</td>\n",
       "      <td>17</td>\n",
       "      <td>U</td>\n",
       "      <td>GT3</td>\n",
       "      <td>T</td>\n",
       "      <td>1</td>\n",
       "      <td>1</td>\n",
       "      <td>at_home</td>\n",
       "      <td>other</td>\n",
       "      <td>...</td>\n",
       "      <td>5</td>\n",
       "      <td>3</td>\n",
       "      <td>3</td>\n",
       "      <td>1</td>\n",
       "      <td>1</td>\n",
       "      <td>3</td>\n",
       "      <td>2</td>\n",
       "      <td>9</td>\n",
       "      <td>11</td>\n",
       "      <td>11</td>\n",
       "    </tr>\n",
       "    <tr>\n",
       "      <th>2</th>\n",
       "      <td>GP</td>\n",
       "      <td>F</td>\n",
       "      <td>15</td>\n",
       "      <td>U</td>\n",
       "      <td>LE3</td>\n",
       "      <td>T</td>\n",
       "      <td>1</td>\n",
       "      <td>1</td>\n",
       "      <td>at_home</td>\n",
       "      <td>other</td>\n",
       "      <td>...</td>\n",
       "      <td>4</td>\n",
       "      <td>3</td>\n",
       "      <td>2</td>\n",
       "      <td>2</td>\n",
       "      <td>3</td>\n",
       "      <td>3</td>\n",
       "      <td>6</td>\n",
       "      <td>12</td>\n",
       "      <td>13</td>\n",
       "      <td>12</td>\n",
       "    </tr>\n",
       "    <tr>\n",
       "      <th>3</th>\n",
       "      <td>GP</td>\n",
       "      <td>F</td>\n",
       "      <td>15</td>\n",
       "      <td>U</td>\n",
       "      <td>GT3</td>\n",
       "      <td>T</td>\n",
       "      <td>4</td>\n",
       "      <td>2</td>\n",
       "      <td>health</td>\n",
       "      <td>services</td>\n",
       "      <td>...</td>\n",
       "      <td>3</td>\n",
       "      <td>2</td>\n",
       "      <td>2</td>\n",
       "      <td>1</td>\n",
       "      <td>1</td>\n",
       "      <td>5</td>\n",
       "      <td>0</td>\n",
       "      <td>14</td>\n",
       "      <td>14</td>\n",
       "      <td>14</td>\n",
       "    </tr>\n",
       "    <tr>\n",
       "      <th>4</th>\n",
       "      <td>GP</td>\n",
       "      <td>F</td>\n",
       "      <td>16</td>\n",
       "      <td>U</td>\n",
       "      <td>GT3</td>\n",
       "      <td>T</td>\n",
       "      <td>3</td>\n",
       "      <td>3</td>\n",
       "      <td>other</td>\n",
       "      <td>other</td>\n",
       "      <td>...</td>\n",
       "      <td>4</td>\n",
       "      <td>3</td>\n",
       "      <td>2</td>\n",
       "      <td>1</td>\n",
       "      <td>2</td>\n",
       "      <td>5</td>\n",
       "      <td>0</td>\n",
       "      <td>11</td>\n",
       "      <td>13</td>\n",
       "      <td>13</td>\n",
       "    </tr>\n",
       "  </tbody>\n",
       "</table>\n",
       "<p>5 rows × 33 columns</p>\n",
       "</div>"
      ],
      "text/plain": [
       "  school sex  age address famsize Pstatus  Medu  Fedu     Mjob      Fjob  ...  \\\n",
       "0     GP   F   18       U     GT3       A     4     4  at_home   teacher  ...   \n",
       "1     GP   F   17       U     GT3       T     1     1  at_home     other  ...   \n",
       "2     GP   F   15       U     LE3       T     1     1  at_home     other  ...   \n",
       "3     GP   F   15       U     GT3       T     4     2   health  services  ...   \n",
       "4     GP   F   16       U     GT3       T     3     3    other     other  ...   \n",
       "\n",
       "  famrel freetime  goout  Dalc  Walc health absences  G1  G2  G3  \n",
       "0      4        3      4     1     1      3        4   0  11  11  \n",
       "1      5        3      3     1     1      3        2   9  11  11  \n",
       "2      4        3      2     2     3      3        6  12  13  12  \n",
       "3      3        2      2     1     1      5        0  14  14  14  \n",
       "4      4        3      2     1     2      5        0  11  13  13  \n",
       "\n",
       "[5 rows x 33 columns]"
      ]
     },
     "execution_count": 4,
     "metadata": {},
     "output_type": "execute_result"
    }
   ],
   "source": [
    "df = pd.concat([df_por, df_mat])\n",
    "df.head()"
   ]
  },
  {
   "cell_type": "code",
   "execution_count": 5,
   "id": "4546f84c",
   "metadata": {},
   "outputs": [
    {
     "data": {
      "text/plain": [
       "Index(['school', 'sex', 'age', 'address', 'famsize', 'Pstatus', 'Medu', 'Fedu',\n",
       "       'Mjob', 'Fjob', 'reason', 'guardian', 'traveltime', 'studytime',\n",
       "       'failures', 'schoolsup', 'famsup', 'paid', 'activities', 'nursery',\n",
       "       'higher', 'internet', 'romantic', 'famrel', 'freetime', 'goout', 'Dalc',\n",
       "       'Walc', 'health', 'absences', 'G1', 'G2', 'G3'],\n",
       "      dtype='object')"
      ]
     },
     "execution_count": 5,
     "metadata": {},
     "output_type": "execute_result"
    }
   ],
   "source": [
    "df.columns"
   ]
  },
  {
   "cell_type": "code",
   "execution_count": 6,
   "id": "baf1cffe",
   "metadata": {},
   "outputs": [
    {
     "name": "stdout",
     "output_type": "stream",
     "text": [
      "0 (53, 33)\n",
      "1 (1, 33)\n",
      "4 (1, 33)\n",
      "5 (8, 33)\n",
      "6 (18, 33)\n",
      "7 (19, 33)\n",
      "8 (67, 33)\n",
      "9 (63, 33)\n",
      "10 (153, 33)\n",
      "11 (151, 33)\n",
      "12 (103, 33)\n",
      "13 (113, 33)\n",
      "14 (90, 33)\n",
      "15 (82, 33)\n",
      "16 (52, 33)\n",
      "17 (35, 33)\n",
      "18 (27, 33)\n",
      "19 (7, 33)\n",
      "20 (1, 33)\n"
     ]
    }
   ],
   "source": [
    "for i in np.unique(df['G3']):\n",
    "    print(i, df[df['G3'] == i].shape)"
   ]
  },
  {
   "cell_type": "code",
   "execution_count": 7,
   "id": "55b44909",
   "metadata": {},
   "outputs": [
    {
     "data": {
      "text/html": [
       "<div>\n",
       "<style scoped>\n",
       "    .dataframe tbody tr th:only-of-type {\n",
       "        vertical-align: middle;\n",
       "    }\n",
       "\n",
       "    .dataframe tbody tr th {\n",
       "        vertical-align: top;\n",
       "    }\n",
       "\n",
       "    .dataframe thead th {\n",
       "        text-align: right;\n",
       "    }\n",
       "</style>\n",
       "<table border=\"1\" class=\"dataframe\">\n",
       "  <thead>\n",
       "    <tr style=\"text-align: right;\">\n",
       "      <th></th>\n",
       "      <th>school</th>\n",
       "      <th>sex</th>\n",
       "      <th>age</th>\n",
       "      <th>address</th>\n",
       "      <th>famsize</th>\n",
       "      <th>Pstatus</th>\n",
       "      <th>Medu</th>\n",
       "      <th>Fedu</th>\n",
       "      <th>Mjob</th>\n",
       "      <th>Fjob</th>\n",
       "      <th>...</th>\n",
       "      <th>famrel</th>\n",
       "      <th>freetime</th>\n",
       "      <th>goout</th>\n",
       "      <th>Dalc</th>\n",
       "      <th>Walc</th>\n",
       "      <th>health</th>\n",
       "      <th>absences</th>\n",
       "      <th>G1</th>\n",
       "      <th>G2</th>\n",
       "      <th>G3</th>\n",
       "    </tr>\n",
       "  </thead>\n",
       "  <tbody>\n",
       "    <tr>\n",
       "      <th>155</th>\n",
       "      <td>GP</td>\n",
       "      <td>M</td>\n",
       "      <td>17</td>\n",
       "      <td>U</td>\n",
       "      <td>GT3</td>\n",
       "      <td>T</td>\n",
       "      <td>2</td>\n",
       "      <td>1</td>\n",
       "      <td>other</td>\n",
       "      <td>other</td>\n",
       "      <td>...</td>\n",
       "      <td>5</td>\n",
       "      <td>4</td>\n",
       "      <td>5</td>\n",
       "      <td>1</td>\n",
       "      <td>2</td>\n",
       "      <td>5</td>\n",
       "      <td>22</td>\n",
       "      <td>9</td>\n",
       "      <td>7</td>\n",
       "      <td>6</td>\n",
       "    </tr>\n",
       "    <tr>\n",
       "      <th>161</th>\n",
       "      <td>GP</td>\n",
       "      <td>M</td>\n",
       "      <td>16</td>\n",
       "      <td>U</td>\n",
       "      <td>GT3</td>\n",
       "      <td>T</td>\n",
       "      <td>4</td>\n",
       "      <td>4</td>\n",
       "      <td>teacher</td>\n",
       "      <td>teacher</td>\n",
       "      <td>...</td>\n",
       "      <td>3</td>\n",
       "      <td>3</td>\n",
       "      <td>2</td>\n",
       "      <td>2</td>\n",
       "      <td>1</td>\n",
       "      <td>5</td>\n",
       "      <td>16</td>\n",
       "      <td>9</td>\n",
       "      <td>9</td>\n",
       "      <td>8</td>\n",
       "    </tr>\n",
       "    <tr>\n",
       "      <th>195</th>\n",
       "      <td>GP</td>\n",
       "      <td>M</td>\n",
       "      <td>16</td>\n",
       "      <td>U</td>\n",
       "      <td>GT3</td>\n",
       "      <td>T</td>\n",
       "      <td>3</td>\n",
       "      <td>3</td>\n",
       "      <td>services</td>\n",
       "      <td>other</td>\n",
       "      <td>...</td>\n",
       "      <td>4</td>\n",
       "      <td>2</td>\n",
       "      <td>3</td>\n",
       "      <td>1</td>\n",
       "      <td>2</td>\n",
       "      <td>3</td>\n",
       "      <td>0</td>\n",
       "      <td>11</td>\n",
       "      <td>12</td>\n",
       "      <td>13</td>\n",
       "    </tr>\n",
       "    <tr>\n",
       "      <th>270</th>\n",
       "      <td>GP</td>\n",
       "      <td>M</td>\n",
       "      <td>16</td>\n",
       "      <td>U</td>\n",
       "      <td>GT3</td>\n",
       "      <td>T</td>\n",
       "      <td>4</td>\n",
       "      <td>4</td>\n",
       "      <td>services</td>\n",
       "      <td>services</td>\n",
       "      <td>...</td>\n",
       "      <td>5</td>\n",
       "      <td>3</td>\n",
       "      <td>2</td>\n",
       "      <td>1</td>\n",
       "      <td>2</td>\n",
       "      <td>5</td>\n",
       "      <td>4</td>\n",
       "      <td>14</td>\n",
       "      <td>15</td>\n",
       "      <td>15</td>\n",
       "    </tr>\n",
       "    <tr>\n",
       "      <th>376</th>\n",
       "      <td>GP</td>\n",
       "      <td>F</td>\n",
       "      <td>18</td>\n",
       "      <td>U</td>\n",
       "      <td>GT3</td>\n",
       "      <td>T</td>\n",
       "      <td>1</td>\n",
       "      <td>1</td>\n",
       "      <td>other</td>\n",
       "      <td>other</td>\n",
       "      <td>...</td>\n",
       "      <td>4</td>\n",
       "      <td>5</td>\n",
       "      <td>5</td>\n",
       "      <td>1</td>\n",
       "      <td>2</td>\n",
       "      <td>2</td>\n",
       "      <td>0</td>\n",
       "      <td>14</td>\n",
       "      <td>14</td>\n",
       "      <td>14</td>\n",
       "    </tr>\n",
       "    <tr>\n",
       "      <th>...</th>\n",
       "      <td>...</td>\n",
       "      <td>...</td>\n",
       "      <td>...</td>\n",
       "      <td>...</td>\n",
       "      <td>...</td>\n",
       "      <td>...</td>\n",
       "      <td>...</td>\n",
       "      <td>...</td>\n",
       "      <td>...</td>\n",
       "      <td>...</td>\n",
       "      <td>...</td>\n",
       "      <td>...</td>\n",
       "      <td>...</td>\n",
       "      <td>...</td>\n",
       "      <td>...</td>\n",
       "      <td>...</td>\n",
       "      <td>...</td>\n",
       "      <td>...</td>\n",
       "      <td>...</td>\n",
       "      <td>...</td>\n",
       "      <td>...</td>\n",
       "    </tr>\n",
       "    <tr>\n",
       "      <th>387</th>\n",
       "      <td>MS</td>\n",
       "      <td>F</td>\n",
       "      <td>19</td>\n",
       "      <td>R</td>\n",
       "      <td>GT3</td>\n",
       "      <td>T</td>\n",
       "      <td>2</td>\n",
       "      <td>3</td>\n",
       "      <td>services</td>\n",
       "      <td>other</td>\n",
       "      <td>...</td>\n",
       "      <td>5</td>\n",
       "      <td>4</td>\n",
       "      <td>2</td>\n",
       "      <td>1</td>\n",
       "      <td>2</td>\n",
       "      <td>5</td>\n",
       "      <td>0</td>\n",
       "      <td>7</td>\n",
       "      <td>5</td>\n",
       "      <td>0</td>\n",
       "    </tr>\n",
       "    <tr>\n",
       "      <th>388</th>\n",
       "      <td>MS</td>\n",
       "      <td>F</td>\n",
       "      <td>18</td>\n",
       "      <td>U</td>\n",
       "      <td>LE3</td>\n",
       "      <td>T</td>\n",
       "      <td>3</td>\n",
       "      <td>1</td>\n",
       "      <td>teacher</td>\n",
       "      <td>services</td>\n",
       "      <td>...</td>\n",
       "      <td>4</td>\n",
       "      <td>3</td>\n",
       "      <td>4</td>\n",
       "      <td>1</td>\n",
       "      <td>1</td>\n",
       "      <td>1</td>\n",
       "      <td>0</td>\n",
       "      <td>7</td>\n",
       "      <td>9</td>\n",
       "      <td>8</td>\n",
       "    </tr>\n",
       "    <tr>\n",
       "      <th>389</th>\n",
       "      <td>MS</td>\n",
       "      <td>F</td>\n",
       "      <td>18</td>\n",
       "      <td>U</td>\n",
       "      <td>GT3</td>\n",
       "      <td>T</td>\n",
       "      <td>1</td>\n",
       "      <td>1</td>\n",
       "      <td>other</td>\n",
       "      <td>other</td>\n",
       "      <td>...</td>\n",
       "      <td>1</td>\n",
       "      <td>1</td>\n",
       "      <td>1</td>\n",
       "      <td>1</td>\n",
       "      <td>1</td>\n",
       "      <td>5</td>\n",
       "      <td>0</td>\n",
       "      <td>6</td>\n",
       "      <td>5</td>\n",
       "      <td>0</td>\n",
       "    </tr>\n",
       "    <tr>\n",
       "      <th>391</th>\n",
       "      <td>MS</td>\n",
       "      <td>M</td>\n",
       "      <td>17</td>\n",
       "      <td>U</td>\n",
       "      <td>LE3</td>\n",
       "      <td>T</td>\n",
       "      <td>3</td>\n",
       "      <td>1</td>\n",
       "      <td>services</td>\n",
       "      <td>services</td>\n",
       "      <td>...</td>\n",
       "      <td>2</td>\n",
       "      <td>4</td>\n",
       "      <td>5</td>\n",
       "      <td>3</td>\n",
       "      <td>4</td>\n",
       "      <td>2</td>\n",
       "      <td>3</td>\n",
       "      <td>14</td>\n",
       "      <td>16</td>\n",
       "      <td>16</td>\n",
       "    </tr>\n",
       "    <tr>\n",
       "      <th>393</th>\n",
       "      <td>MS</td>\n",
       "      <td>M</td>\n",
       "      <td>18</td>\n",
       "      <td>R</td>\n",
       "      <td>LE3</td>\n",
       "      <td>T</td>\n",
       "      <td>3</td>\n",
       "      <td>2</td>\n",
       "      <td>services</td>\n",
       "      <td>other</td>\n",
       "      <td>...</td>\n",
       "      <td>4</td>\n",
       "      <td>4</td>\n",
       "      <td>1</td>\n",
       "      <td>3</td>\n",
       "      <td>4</td>\n",
       "      <td>5</td>\n",
       "      <td>0</td>\n",
       "      <td>11</td>\n",
       "      <td>12</td>\n",
       "      <td>10</td>\n",
       "    </tr>\n",
       "  </tbody>\n",
       "</table>\n",
       "<p>382 rows × 33 columns</p>\n",
       "</div>"
      ],
      "text/plain": [
       "    school sex  age address famsize Pstatus  Medu  Fedu      Mjob      Fjob  \\\n",
       "155     GP   M   17       U     GT3       T     2     1     other     other   \n",
       "161     GP   M   16       U     GT3       T     4     4   teacher   teacher   \n",
       "195     GP   M   16       U     GT3       T     3     3  services     other   \n",
       "270     GP   M   16       U     GT3       T     4     4  services  services   \n",
       "376     GP   F   18       U     GT3       T     1     1     other     other   \n",
       "..     ...  ..  ...     ...     ...     ...   ...   ...       ...       ...   \n",
       "387     MS   F   19       R     GT3       T     2     3  services     other   \n",
       "388     MS   F   18       U     LE3       T     3     1   teacher  services   \n",
       "389     MS   F   18       U     GT3       T     1     1     other     other   \n",
       "391     MS   M   17       U     LE3       T     3     1  services  services   \n",
       "393     MS   M   18       R     LE3       T     3     2  services     other   \n",
       "\n",
       "     ... famrel freetime  goout  Dalc  Walc health absences  G1  G2  G3  \n",
       "155  ...      5        4      5     1     2      5       22   9   7   6  \n",
       "161  ...      3        3      2     2     1      5       16   9   9   8  \n",
       "195  ...      4        2      3     1     2      3        0  11  12  13  \n",
       "270  ...      5        3      2     1     2      5        4  14  15  15  \n",
       "376  ...      4        5      5     1     2      2        0  14  14  14  \n",
       "..   ...    ...      ...    ...   ...   ...    ...      ...  ..  ..  ..  \n",
       "387  ...      5        4      2     1     2      5        0   7   5   0  \n",
       "388  ...      4        3      4     1     1      1        0   7   9   8  \n",
       "389  ...      1        1      1     1     1      5        0   6   5   0  \n",
       "391  ...      2        4      5     3     4      2        3  14  16  16  \n",
       "393  ...      4        4      1     3     4      5        0  11  12  10  \n",
       "\n",
       "[382 rows x 33 columns]"
      ]
     },
     "execution_count": 7,
     "metadata": {},
     "output_type": "execute_result"
    }
   ],
   "source": [
    "duplicates = df[df.duplicated(subset=[\"school\",\"sex\",\"age\",\"address\",\"famsize\",\"Pstatus\",\"Medu\",\"Fedu\",\"Mjob\",\"Fjob\",\"reason\",\"nursery\",\"internet\"], keep='first')]\n",
    "duplicates"
   ]
  },
  {
   "cell_type": "code",
   "execution_count": 8,
   "id": "3ab5d7cf",
   "metadata": {},
   "outputs": [
    {
     "name": "stdout",
     "output_type": "stream",
     "text": [
      "(1044, 32)\n",
      "(980, 32)\n"
     ]
    }
   ],
   "source": [
    "df.drop(\"school\", axis=1, inplace=True)\n",
    "print(df.shape)\n",
    "df.drop_duplicates()\n",
    "df = df[df.G3 > 5]\n",
    "df = df[df.G3 < 20]\n",
    "print(df.shape)"
   ]
  },
  {
   "cell_type": "code",
   "execution_count": 9,
   "id": "bf91e5d7",
   "metadata": {},
   "outputs": [
    {
     "name": "stdout",
     "output_type": "stream",
     "text": [
      "6 (18, 32)\n",
      "7 (19, 32)\n",
      "8 (67, 32)\n",
      "9 (63, 32)\n",
      "10 (153, 32)\n",
      "11 (151, 32)\n",
      "12 (103, 32)\n",
      "13 (113, 32)\n",
      "14 (90, 32)\n",
      "15 (82, 32)\n",
      "16 (52, 32)\n",
      "17 (35, 32)\n",
      "18 (27, 32)\n",
      "19 (7, 32)\n"
     ]
    }
   ],
   "source": [
    "for i in np.unique(df['G3']):\n",
    "    print(i, df[df['G3'] == i].shape)"
   ]
  },
  {
   "cell_type": "code",
   "execution_count": 10,
   "id": "83126ed6",
   "metadata": {},
   "outputs": [
    {
     "data": {
      "text/plain": [
       "Index(['age', 'Medu', 'Fedu', 'traveltime', 'studytime', 'failures', 'famrel',\n",
       "       'freetime', 'goout', 'Dalc', 'Walc', 'health', 'absences', 'G1', 'G2',\n",
       "       'G3'],\n",
       "      dtype='object')"
      ]
     },
     "execution_count": 10,
     "metadata": {},
     "output_type": "execute_result"
    }
   ],
   "source": [
    "num_df = df.select_dtypes(exclude=['object'])\n",
    "cat_df = df.select_dtypes(include=['object'])\n",
    "num_df.columns"
   ]
  },
  {
   "cell_type": "code",
   "execution_count": 11,
   "id": "9924019a",
   "metadata": {},
   "outputs": [],
   "source": [
    "# fig, axes = plt.subplots(4, 4, figsize=(20, 20))\n",
    "# axes_flattened = axes.reshape(-1)\n",
    "# for i in range(len(num_df.columns)):\n",
    "#     ax = axes_flattened[i]\n",
    "#     sns.scatterplot(\n",
    "#         x=num_df.iloc[:, i],\n",
    "#         y='G1',\n",
    "#         data=num_df.dropna(),\n",
    "#         ax=ax,\n",
    "#     )\n",
    "# fig.tight_layout(pad=1.0)"
   ]
  },
  {
   "cell_type": "code",
   "execution_count": 12,
   "id": "e9dedc4c",
   "metadata": {},
   "outputs": [],
   "source": [
    "# fig, axes = plt.subplots(4, 4, figsize=(20, 20))\n",
    "# axes_flattened = axes.reshape(-1)\n",
    "# for i in range(len(num_df.columns)):\n",
    "#     ax = axes_flattened[i]\n",
    "#     sns.scatterplot(\n",
    "#         x=num_df.iloc[:, i],\n",
    "#         y='G2',\n",
    "#         data=num_df.dropna(),\n",
    "#         ax=ax,\n",
    "#     )\n",
    "# fig.tight_layout(pad=1.0)"
   ]
  },
  {
   "cell_type": "code",
   "execution_count": 13,
   "id": "ae2df1fc",
   "metadata": {},
   "outputs": [
    {
     "data": {
      "image/png": "[encoded data removed]",
      "text/plain": [
       "<Figure size 1440x1440 with 16 Axes>"
      ]
     },
     "metadata": {
      "needs_background": "light"
     },
     "output_type": "display_data"
    }
   ],
   "source": [
    "fig, axes = plt.subplots(4, 4, figsize=(20, 20))\n",
    "axes_flattened = axes.reshape(-1)\n",
    "for i in range(len(num_df.columns)):\n",
    "    ax = axes_flattened[i]\n",
    "    sns.scatterplot(\n",
    "        x=num_df.iloc[:, i],\n",
    "        y='G3',\n",
    "        data=num_df.dropna(),\n",
    "        ax=ax,\n",
    "    )\n",
    "fig.tight_layout(pad=1.0)"
   ]
  },
  {
   "cell_type": "code",
   "execution_count": 14,
   "id": "f6baa212",
   "metadata": {},
   "outputs": [
    {
     "data": {
      "image/png": "[encoded data removed]",
      "text/plain": [
       "<Figure size 720x720 with 4 Axes>"
      ]
     },
     "metadata": {
      "needs_background": "light"
     },
     "output_type": "display_data"
    }
   ],
   "source": [
    "def corrplot(df, method=\"pearson\", annot=True, **kwargs):\n",
    "    sns.clustermap(\n",
    "        df.corr(method),\n",
    "        vmin=-1.0,\n",
    "        vmax=1.0,\n",
    "        cmap=\"icefire\",\n",
    "        method=\"complete\",\n",
    "        annot=annot,\n",
    "        **kwargs,\n",
    "    )\n",
    "\n",
    "\n",
    "corrplot(num_df, annot=None)\n"
   ]
  },
  {
   "cell_type": "code",
   "execution_count": 15,
   "id": "eee6663b",
   "metadata": {},
   "outputs": [
    {
     "data": {
      "text/plain": [
       "<AxesSubplot:>"
      ]
     },
     "execution_count": 15,
     "metadata": {},
     "output_type": "execute_result"
    },
    {
     "data": {
      "image/png": "[encoded data removed]",
      "text/plain": [
       "<Figure size 432x288 with 1 Axes>"
      ]
     },
     "metadata": {
      "needs_background": "light"
     },
     "output_type": "display_data"
    }
   ],
   "source": [
    "df.sex.value_counts().plot.barh()"
   ]
  },
  {
   "cell_type": "code",
   "execution_count": null,
   "id": "06ac7f77",
   "metadata": {},
   "outputs": [],
   "source": []
  },
  {
   "cell_type": "code",
   "execution_count": 16,
   "id": "33131c12",
   "metadata": {},
   "outputs": [
    {
     "data": {
      "text/html": [
       "<div>\n",
       "<style scoped>\n",
       "    .dataframe tbody tr th:only-of-type {\n",
       "        vertical-align: middle;\n",
       "    }\n",
       "\n",
       "    .dataframe tbody tr th {\n",
       "        vertical-align: top;\n",
       "    }\n",
       "\n",
       "    .dataframe thead th {\n",
       "        text-align: right;\n",
       "    }\n",
       "</style>\n",
       "<table border=\"1\" class=\"dataframe\">\n",
       "  <thead>\n",
       "    <tr style=\"text-align: right;\">\n",
       "      <th></th>\n",
       "      <th>sex</th>\n",
       "      <th>age</th>\n",
       "      <th>address</th>\n",
       "      <th>famsize</th>\n",
       "      <th>Pstatus</th>\n",
       "      <th>Medu</th>\n",
       "      <th>Fedu</th>\n",
       "      <th>Mjob</th>\n",
       "      <th>Fjob</th>\n",
       "      <th>reason</th>\n",
       "      <th>...</th>\n",
       "      <th>famrel</th>\n",
       "      <th>freetime</th>\n",
       "      <th>goout</th>\n",
       "      <th>Dalc</th>\n",
       "      <th>Walc</th>\n",
       "      <th>health</th>\n",
       "      <th>absences</th>\n",
       "      <th>G1</th>\n",
       "      <th>G2</th>\n",
       "      <th>G3</th>\n",
       "    </tr>\n",
       "  </thead>\n",
       "  <tbody>\n",
       "    <tr>\n",
       "      <th>0</th>\n",
       "      <td>0</td>\n",
       "      <td>18</td>\n",
       "      <td>1</td>\n",
       "      <td>0</td>\n",
       "      <td>0</td>\n",
       "      <td>4</td>\n",
       "      <td>4</td>\n",
       "      <td>at_home</td>\n",
       "      <td>teacher</td>\n",
       "      <td>course</td>\n",
       "      <td>...</td>\n",
       "      <td>4</td>\n",
       "      <td>3</td>\n",
       "      <td>4</td>\n",
       "      <td>1</td>\n",
       "      <td>1</td>\n",
       "      <td>3</td>\n",
       "      <td>4</td>\n",
       "      <td>0</td>\n",
       "      <td>11</td>\n",
       "      <td>11</td>\n",
       "    </tr>\n",
       "    <tr>\n",
       "      <th>1</th>\n",
       "      <td>0</td>\n",
       "      <td>17</td>\n",
       "      <td>1</td>\n",
       "      <td>0</td>\n",
       "      <td>1</td>\n",
       "      <td>1</td>\n",
       "      <td>1</td>\n",
       "      <td>at_home</td>\n",
       "      <td>other</td>\n",
       "      <td>course</td>\n",
       "      <td>...</td>\n",
       "      <td>5</td>\n",
       "      <td>3</td>\n",
       "      <td>3</td>\n",
       "      <td>1</td>\n",
       "      <td>1</td>\n",
       "      <td>3</td>\n",
       "      <td>2</td>\n",
       "      <td>9</td>\n",
       "      <td>11</td>\n",
       "      <td>11</td>\n",
       "    </tr>\n",
       "    <tr>\n",
       "      <th>2</th>\n",
       "      <td>0</td>\n",
       "      <td>15</td>\n",
       "      <td>1</td>\n",
       "      <td>1</td>\n",
       "      <td>1</td>\n",
       "      <td>1</td>\n",
       "      <td>1</td>\n",
       "      <td>at_home</td>\n",
       "      <td>other</td>\n",
       "      <td>other</td>\n",
       "      <td>...</td>\n",
       "      <td>4</td>\n",
       "      <td>3</td>\n",
       "      <td>2</td>\n",
       "      <td>2</td>\n",
       "      <td>3</td>\n",
       "      <td>3</td>\n",
       "      <td>6</td>\n",
       "      <td>12</td>\n",
       "      <td>13</td>\n",
       "      <td>12</td>\n",
       "    </tr>\n",
       "    <tr>\n",
       "      <th>3</th>\n",
       "      <td>0</td>\n",
       "      <td>15</td>\n",
       "      <td>1</td>\n",
       "      <td>0</td>\n",
       "      <td>1</td>\n",
       "      <td>4</td>\n",
       "      <td>2</td>\n",
       "      <td>health</td>\n",
       "      <td>services</td>\n",
       "      <td>home</td>\n",
       "      <td>...</td>\n",
       "      <td>3</td>\n",
       "      <td>2</td>\n",
       "      <td>2</td>\n",
       "      <td>1</td>\n",
       "      <td>1</td>\n",
       "      <td>5</td>\n",
       "      <td>0</td>\n",
       "      <td>14</td>\n",
       "      <td>14</td>\n",
       "      <td>14</td>\n",
       "    </tr>\n",
       "    <tr>\n",
       "      <th>4</th>\n",
       "      <td>0</td>\n",
       "      <td>16</td>\n",
       "      <td>1</td>\n",
       "      <td>0</td>\n",
       "      <td>1</td>\n",
       "      <td>3</td>\n",
       "      <td>3</td>\n",
       "      <td>other</td>\n",
       "      <td>other</td>\n",
       "      <td>home</td>\n",
       "      <td>...</td>\n",
       "      <td>4</td>\n",
       "      <td>3</td>\n",
       "      <td>2</td>\n",
       "      <td>1</td>\n",
       "      <td>2</td>\n",
       "      <td>5</td>\n",
       "      <td>0</td>\n",
       "      <td>11</td>\n",
       "      <td>13</td>\n",
       "      <td>13</td>\n",
       "    </tr>\n",
       "    <tr>\n",
       "      <th>...</th>\n",
       "      <td>...</td>\n",
       "      <td>...</td>\n",
       "      <td>...</td>\n",
       "      <td>...</td>\n",
       "      <td>...</td>\n",
       "      <td>...</td>\n",
       "      <td>...</td>\n",
       "      <td>...</td>\n",
       "      <td>...</td>\n",
       "      <td>...</td>\n",
       "      <td>...</td>\n",
       "      <td>...</td>\n",
       "      <td>...</td>\n",
       "      <td>...</td>\n",
       "      <td>...</td>\n",
       "      <td>...</td>\n",
       "      <td>...</td>\n",
       "      <td>...</td>\n",
       "      <td>...</td>\n",
       "      <td>...</td>\n",
       "      <td>...</td>\n",
       "    </tr>\n",
       "    <tr>\n",
       "      <th>390</th>\n",
       "      <td>1</td>\n",
       "      <td>20</td>\n",
       "      <td>1</td>\n",
       "      <td>1</td>\n",
       "      <td>0</td>\n",
       "      <td>2</td>\n",
       "      <td>2</td>\n",
       "      <td>services</td>\n",
       "      <td>services</td>\n",
       "      <td>course</td>\n",
       "      <td>...</td>\n",
       "      <td>5</td>\n",
       "      <td>5</td>\n",
       "      <td>4</td>\n",
       "      <td>4</td>\n",
       "      <td>5</td>\n",
       "      <td>4</td>\n",
       "      <td>11</td>\n",
       "      <td>9</td>\n",
       "      <td>9</td>\n",
       "      <td>9</td>\n",
       "    </tr>\n",
       "    <tr>\n",
       "      <th>391</th>\n",
       "      <td>1</td>\n",
       "      <td>17</td>\n",
       "      <td>1</td>\n",
       "      <td>1</td>\n",
       "      <td>1</td>\n",
       "      <td>3</td>\n",
       "      <td>1</td>\n",
       "      <td>services</td>\n",
       "      <td>services</td>\n",
       "      <td>course</td>\n",
       "      <td>...</td>\n",
       "      <td>2</td>\n",
       "      <td>4</td>\n",
       "      <td>5</td>\n",
       "      <td>3</td>\n",
       "      <td>4</td>\n",
       "      <td>2</td>\n",
       "      <td>3</td>\n",
       "      <td>14</td>\n",
       "      <td>16</td>\n",
       "      <td>16</td>\n",
       "    </tr>\n",
       "    <tr>\n",
       "      <th>392</th>\n",
       "      <td>1</td>\n",
       "      <td>21</td>\n",
       "      <td>0</td>\n",
       "      <td>0</td>\n",
       "      <td>1</td>\n",
       "      <td>1</td>\n",
       "      <td>1</td>\n",
       "      <td>other</td>\n",
       "      <td>other</td>\n",
       "      <td>course</td>\n",
       "      <td>...</td>\n",
       "      <td>5</td>\n",
       "      <td>5</td>\n",
       "      <td>3</td>\n",
       "      <td>3</td>\n",
       "      <td>3</td>\n",
       "      <td>3</td>\n",
       "      <td>3</td>\n",
       "      <td>10</td>\n",
       "      <td>8</td>\n",
       "      <td>7</td>\n",
       "    </tr>\n",
       "    <tr>\n",
       "      <th>393</th>\n",
       "      <td>1</td>\n",
       "      <td>18</td>\n",
       "      <td>0</td>\n",
       "      <td>1</td>\n",
       "      <td>1</td>\n",
       "      <td>3</td>\n",
       "      <td>2</td>\n",
       "      <td>services</td>\n",
       "      <td>other</td>\n",
       "      <td>course</td>\n",
       "      <td>...</td>\n",
       "      <td>4</td>\n",
       "      <td>4</td>\n",
       "      <td>1</td>\n",
       "      <td>3</td>\n",
       "      <td>4</td>\n",
       "      <td>5</td>\n",
       "      <td>0</td>\n",
       "      <td>11</td>\n",
       "      <td>12</td>\n",
       "      <td>10</td>\n",
       "    </tr>\n",
       "    <tr>\n",
       "      <th>394</th>\n",
       "      <td>1</td>\n",
       "      <td>19</td>\n",
       "      <td>1</td>\n",
       "      <td>1</td>\n",
       "      <td>1</td>\n",
       "      <td>1</td>\n",
       "      <td>1</td>\n",
       "      <td>other</td>\n",
       "      <td>at_home</td>\n",
       "      <td>course</td>\n",
       "      <td>...</td>\n",
       "      <td>3</td>\n",
       "      <td>2</td>\n",
       "      <td>3</td>\n",
       "      <td>3</td>\n",
       "      <td>3</td>\n",
       "      <td>5</td>\n",
       "      <td>5</td>\n",
       "      <td>8</td>\n",
       "      <td>9</td>\n",
       "      <td>9</td>\n",
       "    </tr>\n",
       "  </tbody>\n",
       "</table>\n",
       "<p>980 rows × 32 columns</p>\n",
       "</div>"
      ],
      "text/plain": [
       "     sex  age  address  famsize  Pstatus  Medu  Fedu      Mjob      Fjob  \\\n",
       "0      0   18        1        0        0     4     4   at_home   teacher   \n",
       "1      0   17        1        0        1     1     1   at_home     other   \n",
       "2      0   15        1        1        1     1     1   at_home     other   \n",
       "3      0   15        1        0        1     4     2    health  services   \n",
       "4      0   16        1        0        1     3     3     other     other   \n",
       "..   ...  ...      ...      ...      ...   ...   ...       ...       ...   \n",
       "390    1   20        1        1        0     2     2  services  services   \n",
       "391    1   17        1        1        1     3     1  services  services   \n",
       "392    1   21        0        0        1     1     1     other     other   \n",
       "393    1   18        0        1        1     3     2  services     other   \n",
       "394    1   19        1        1        1     1     1     other   at_home   \n",
       "\n",
       "     reason  ... famrel  freetime  goout  Dalc  Walc  health  absences  G1  \\\n",
       "0    course  ...      4         3      4     1     1       3         4   0   \n",
       "1    course  ...      5         3      3     1     1       3         2   9   \n",
       "2     other  ...      4         3      2     2     3       3         6  12   \n",
       "3      home  ...      3         2      2     1     1       5         0  14   \n",
       "4      home  ...      4         3      2     1     2       5         0  11   \n",
       "..      ...  ...    ...       ...    ...   ...   ...     ...       ...  ..   \n",
       "390  course  ...      5         5      4     4     5       4        11   9   \n",
       "391  course  ...      2         4      5     3     4       2         3  14   \n",
       "392  course  ...      5         5      3     3     3       3         3  10   \n",
       "393  course  ...      4         4      1     3     4       5         0  11   \n",
       "394  course  ...      3         2      3     3     3       5         5   8   \n",
       "\n",
       "     G2  G3  \n",
       "0    11  11  \n",
       "1    11  11  \n",
       "2    13  12  \n",
       "3    14  14  \n",
       "4    13  13  \n",
       "..   ..  ..  \n",
       "390   9   9  \n",
       "391  16  16  \n",
       "392   8   7  \n",
       "393  12  10  \n",
       "394   9   9  \n",
       "\n",
       "[980 rows x 32 columns]"
      ]
     },
     "execution_count": 16,
     "metadata": {},
     "output_type": "execute_result"
    }
   ],
   "source": [
    "label_encoder = LabelEncoder()\n",
    "categ = ['sex', 'address','famsize','Pstatus','schoolsup','famsup','paid','activities','nursery','higher','internet','romantic']\n",
    "df[categ] = df[categ].apply(label_encoder.fit_transform)\n",
    "df"
   ]
  },
  {
   "cell_type": "code",
   "execution_count": 17,
   "id": "9f401e81",
   "metadata": {},
   "outputs": [
    {
     "data": {
      "text/html": [
       "<div>\n",
       "<style scoped>\n",
       "    .dataframe tbody tr th:only-of-type {\n",
       "        vertical-align: middle;\n",
       "    }\n",
       "\n",
       "    .dataframe tbody tr th {\n",
       "        vertical-align: top;\n",
       "    }\n",
       "\n",
       "    .dataframe thead th {\n",
       "        text-align: right;\n",
       "    }\n",
       "</style>\n",
       "<table border=\"1\" class=\"dataframe\">\n",
       "  <thead>\n",
       "    <tr style=\"text-align: right;\">\n",
       "      <th></th>\n",
       "      <th>sex</th>\n",
       "      <th>age</th>\n",
       "      <th>address</th>\n",
       "      <th>famsize</th>\n",
       "      <th>Pstatus</th>\n",
       "      <th>Medu</th>\n",
       "      <th>Fedu</th>\n",
       "      <th>traveltime</th>\n",
       "      <th>studytime</th>\n",
       "      <th>failures</th>\n",
       "      <th>...</th>\n",
       "      <th>Fjob_other</th>\n",
       "      <th>Fjob_services</th>\n",
       "      <th>Fjob_teacher</th>\n",
       "      <th>reason_course</th>\n",
       "      <th>reason_home</th>\n",
       "      <th>reason_other</th>\n",
       "      <th>reason_reputation</th>\n",
       "      <th>guardian_father</th>\n",
       "      <th>guardian_mother</th>\n",
       "      <th>guardian_other</th>\n",
       "    </tr>\n",
       "  </thead>\n",
       "  <tbody>\n",
       "    <tr>\n",
       "      <th>0</th>\n",
       "      <td>0</td>\n",
       "      <td>18</td>\n",
       "      <td>1</td>\n",
       "      <td>0</td>\n",
       "      <td>0</td>\n",
       "      <td>4</td>\n",
       "      <td>4</td>\n",
       "      <td>2</td>\n",
       "      <td>2</td>\n",
       "      <td>0</td>\n",
       "      <td>...</td>\n",
       "      <td>0</td>\n",
       "      <td>0</td>\n",
       "      <td>1</td>\n",
       "      <td>1</td>\n",
       "      <td>0</td>\n",
       "      <td>0</td>\n",
       "      <td>0</td>\n",
       "      <td>0</td>\n",
       "      <td>1</td>\n",
       "      <td>0</td>\n",
       "    </tr>\n",
       "    <tr>\n",
       "      <th>1</th>\n",
       "      <td>0</td>\n",
       "      <td>17</td>\n",
       "      <td>1</td>\n",
       "      <td>0</td>\n",
       "      <td>1</td>\n",
       "      <td>1</td>\n",
       "      <td>1</td>\n",
       "      <td>1</td>\n",
       "      <td>2</td>\n",
       "      <td>0</td>\n",
       "      <td>...</td>\n",
       "      <td>1</td>\n",
       "      <td>0</td>\n",
       "      <td>0</td>\n",
       "      <td>1</td>\n",
       "      <td>0</td>\n",
       "      <td>0</td>\n",
       "      <td>0</td>\n",
       "      <td>1</td>\n",
       "      <td>0</td>\n",
       "      <td>0</td>\n",
       "    </tr>\n",
       "    <tr>\n",
       "      <th>2</th>\n",
       "      <td>0</td>\n",
       "      <td>15</td>\n",
       "      <td>1</td>\n",
       "      <td>1</td>\n",
       "      <td>1</td>\n",
       "      <td>1</td>\n",
       "      <td>1</td>\n",
       "      <td>1</td>\n",
       "      <td>2</td>\n",
       "      <td>0</td>\n",
       "      <td>...</td>\n",
       "      <td>1</td>\n",
       "      <td>0</td>\n",
       "      <td>0</td>\n",
       "      <td>0</td>\n",
       "      <td>0</td>\n",
       "      <td>1</td>\n",
       "      <td>0</td>\n",
       "      <td>0</td>\n",
       "      <td>1</td>\n",
       "      <td>0</td>\n",
       "    </tr>\n",
       "    <tr>\n",
       "      <th>3</th>\n",
       "      <td>0</td>\n",
       "      <td>15</td>\n",
       "      <td>1</td>\n",
       "      <td>0</td>\n",
       "      <td>1</td>\n",
       "      <td>4</td>\n",
       "      <td>2</td>\n",
       "      <td>1</td>\n",
       "      <td>3</td>\n",
       "      <td>0</td>\n",
       "      <td>...</td>\n",
       "      <td>0</td>\n",
       "      <td>1</td>\n",
       "      <td>0</td>\n",
       "      <td>0</td>\n",
       "      <td>1</td>\n",
       "      <td>0</td>\n",
       "      <td>0</td>\n",
       "      <td>0</td>\n",
       "      <td>1</td>\n",
       "      <td>0</td>\n",
       "    </tr>\n",
       "    <tr>\n",
       "      <th>4</th>\n",
       "      <td>0</td>\n",
       "      <td>16</td>\n",
       "      <td>1</td>\n",
       "      <td>0</td>\n",
       "      <td>1</td>\n",
       "      <td>3</td>\n",
       "      <td>3</td>\n",
       "      <td>1</td>\n",
       "      <td>2</td>\n",
       "      <td>0</td>\n",
       "      <td>...</td>\n",
       "      <td>1</td>\n",
       "      <td>0</td>\n",
       "      <td>0</td>\n",
       "      <td>0</td>\n",
       "      <td>1</td>\n",
       "      <td>0</td>\n",
       "      <td>0</td>\n",
       "      <td>1</td>\n",
       "      <td>0</td>\n",
       "      <td>0</td>\n",
       "    </tr>\n",
       "    <tr>\n",
       "      <th>...</th>\n",
       "      <td>...</td>\n",
       "      <td>...</td>\n",
       "      <td>...</td>\n",
       "      <td>...</td>\n",
       "      <td>...</td>\n",
       "      <td>...</td>\n",
       "      <td>...</td>\n",
       "      <td>...</td>\n",
       "      <td>...</td>\n",
       "      <td>...</td>\n",
       "      <td>...</td>\n",
       "      <td>...</td>\n",
       "      <td>...</td>\n",
       "      <td>...</td>\n",
       "      <td>...</td>\n",
       "      <td>...</td>\n",
       "      <td>...</td>\n",
       "      <td>...</td>\n",
       "      <td>...</td>\n",
       "      <td>...</td>\n",
       "      <td>...</td>\n",
       "    </tr>\n",
       "    <tr>\n",
       "      <th>390</th>\n",
       "      <td>1</td>\n",
       "      <td>20</td>\n",
       "      <td>1</td>\n",
       "      <td>1</td>\n",
       "      <td>0</td>\n",
       "      <td>2</td>\n",
       "      <td>2</td>\n",
       "      <td>1</td>\n",
       "      <td>2</td>\n",
       "      <td>2</td>\n",
       "      <td>...</td>\n",
       "      <td>0</td>\n",
       "      <td>1</td>\n",
       "      <td>0</td>\n",
       "      <td>1</td>\n",
       "      <td>0</td>\n",
       "      <td>0</td>\n",
       "      <td>0</td>\n",
       "      <td>0</td>\n",
       "      <td>0</td>\n",
       "      <td>1</td>\n",
       "    </tr>\n",
       "    <tr>\n",
       "      <th>391</th>\n",
       "      <td>1</td>\n",
       "      <td>17</td>\n",
       "      <td>1</td>\n",
       "      <td>1</td>\n",
       "      <td>1</td>\n",
       "      <td>3</td>\n",
       "      <td>1</td>\n",
       "      <td>2</td>\n",
       "      <td>1</td>\n",
       "      <td>0</td>\n",
       "      <td>...</td>\n",
       "      <td>0</td>\n",
       "      <td>1</td>\n",
       "      <td>0</td>\n",
       "      <td>1</td>\n",
       "      <td>0</td>\n",
       "      <td>0</td>\n",
       "      <td>0</td>\n",
       "      <td>0</td>\n",
       "      <td>1</td>\n",
       "      <td>0</td>\n",
       "    </tr>\n",
       "    <tr>\n",
       "      <th>392</th>\n",
       "      <td>1</td>\n",
       "      <td>21</td>\n",
       "      <td>0</td>\n",
       "      <td>0</td>\n",
       "      <td>1</td>\n",
       "      <td>1</td>\n",
       "      <td>1</td>\n",
       "      <td>1</td>\n",
       "      <td>1</td>\n",
       "      <td>3</td>\n",
       "      <td>...</td>\n",
       "      <td>1</td>\n",
       "      <td>0</td>\n",
       "      <td>0</td>\n",
       "      <td>1</td>\n",
       "      <td>0</td>\n",
       "      <td>0</td>\n",
       "      <td>0</td>\n",
       "      <td>0</td>\n",
       "      <td>0</td>\n",
       "      <td>1</td>\n",
       "    </tr>\n",
       "    <tr>\n",
       "      <th>393</th>\n",
       "      <td>1</td>\n",
       "      <td>18</td>\n",
       "      <td>0</td>\n",
       "      <td>1</td>\n",
       "      <td>1</td>\n",
       "      <td>3</td>\n",
       "      <td>2</td>\n",
       "      <td>3</td>\n",
       "      <td>1</td>\n",
       "      <td>0</td>\n",
       "      <td>...</td>\n",
       "      <td>1</td>\n",
       "      <td>0</td>\n",
       "      <td>0</td>\n",
       "      <td>1</td>\n",
       "      <td>0</td>\n",
       "      <td>0</td>\n",
       "      <td>0</td>\n",
       "      <td>0</td>\n",
       "      <td>1</td>\n",
       "      <td>0</td>\n",
       "    </tr>\n",
       "    <tr>\n",
       "      <th>394</th>\n",
       "      <td>1</td>\n",
       "      <td>19</td>\n",
       "      <td>1</td>\n",
       "      <td>1</td>\n",
       "      <td>1</td>\n",
       "      <td>1</td>\n",
       "      <td>1</td>\n",
       "      <td>1</td>\n",
       "      <td>1</td>\n",
       "      <td>0</td>\n",
       "      <td>...</td>\n",
       "      <td>0</td>\n",
       "      <td>0</td>\n",
       "      <td>0</td>\n",
       "      <td>1</td>\n",
       "      <td>0</td>\n",
       "      <td>0</td>\n",
       "      <td>0</td>\n",
       "      <td>1</td>\n",
       "      <td>0</td>\n",
       "      <td>0</td>\n",
       "    </tr>\n",
       "  </tbody>\n",
       "</table>\n",
       "<p>980 rows × 45 columns</p>\n",
       "</div>"
      ],
      "text/plain": [
       "     sex  age  address  famsize  Pstatus  Medu  Fedu  traveltime  studytime  \\\n",
       "0      0   18        1        0        0     4     4           2          2   \n",
       "1      0   17        1        0        1     1     1           1          2   \n",
       "2      0   15        1        1        1     1     1           1          2   \n",
       "3      0   15        1        0        1     4     2           1          3   \n",
       "4      0   16        1        0        1     3     3           1          2   \n",
       "..   ...  ...      ...      ...      ...   ...   ...         ...        ...   \n",
       "390    1   20        1        1        0     2     2           1          2   \n",
       "391    1   17        1        1        1     3     1           2          1   \n",
       "392    1   21        0        0        1     1     1           1          1   \n",
       "393    1   18        0        1        1     3     2           3          1   \n",
       "394    1   19        1        1        1     1     1           1          1   \n",
       "\n",
       "     failures  ...  Fjob_other  Fjob_services  Fjob_teacher  reason_course  \\\n",
       "0           0  ...           0              0             1              1   \n",
       "1           0  ...           1              0             0              1   \n",
       "2           0  ...           1              0             0              0   \n",
       "3           0  ...           0              1             0              0   \n",
       "4           0  ...           1              0             0              0   \n",
       "..        ...  ...         ...            ...           ...            ...   \n",
       "390         2  ...           0              1             0              1   \n",
       "391         0  ...           0              1             0              1   \n",
       "392         3  ...           1              0             0              1   \n",
       "393         0  ...           1              0             0              1   \n",
       "394         0  ...           0              0             0              1   \n",
       "\n",
       "     reason_home  reason_other  reason_reputation  guardian_father  \\\n",
       "0              0             0                  0                0   \n",
       "1              0             0                  0                1   \n",
       "2              0             1                  0                0   \n",
       "3              1             0                  0                0   \n",
       "4              1             0                  0                1   \n",
       "..           ...           ...                ...              ...   \n",
       "390            0             0                  0                0   \n",
       "391            0             0                  0                0   \n",
       "392            0             0                  0                0   \n",
       "393            0             0                  0                0   \n",
       "394            0             0                  0                1   \n",
       "\n",
       "     guardian_mother  guardian_other  \n",
       "0                  1               0  \n",
       "1                  0               0  \n",
       "2                  1               0  \n",
       "3                  1               0  \n",
       "4                  0               0  \n",
       "..               ...             ...  \n",
       "390                0               1  \n",
       "391                1               0  \n",
       "392                0               1  \n",
       "393                1               0  \n",
       "394                0               0  \n",
       "\n",
       "[980 rows x 45 columns]"
      ]
     },
     "execution_count": 17,
     "metadata": {},
     "output_type": "execute_result"
    }
   ],
   "source": [
    "df = pd.get_dummies(data =df, columns=[\"Mjob\",\"Fjob\", 'reason','guardian'])\n",
    "df"
   ]
  },
  {
   "cell_type": "code",
   "execution_count": 18,
   "id": "58d81c6b",
   "metadata": {},
   "outputs": [
    {
     "data": {
      "text/html": [
       "<div>\n",
       "<style scoped>\n",
       "    .dataframe tbody tr th:only-of-type {\n",
       "        vertical-align: middle;\n",
       "    }\n",
       "\n",
       "    .dataframe tbody tr th {\n",
       "        vertical-align: top;\n",
       "    }\n",
       "\n",
       "    .dataframe thead th {\n",
       "        text-align: right;\n",
       "    }\n",
       "</style>\n",
       "<table border=\"1\" class=\"dataframe\">\n",
       "  <thead>\n",
       "    <tr style=\"text-align: right;\">\n",
       "      <th></th>\n",
       "      <th>sex</th>\n",
       "      <th>age</th>\n",
       "      <th>address</th>\n",
       "      <th>famsize</th>\n",
       "      <th>Pstatus</th>\n",
       "      <th>Medu</th>\n",
       "      <th>Fedu</th>\n",
       "      <th>traveltime</th>\n",
       "      <th>studytime</th>\n",
       "      <th>failures</th>\n",
       "      <th>...</th>\n",
       "      <th>Fjob_other</th>\n",
       "      <th>Fjob_services</th>\n",
       "      <th>Fjob_teacher</th>\n",
       "      <th>reason_course</th>\n",
       "      <th>reason_home</th>\n",
       "      <th>reason_other</th>\n",
       "      <th>reason_reputation</th>\n",
       "      <th>guardian_father</th>\n",
       "      <th>guardian_mother</th>\n",
       "      <th>guardian_other</th>\n",
       "    </tr>\n",
       "  </thead>\n",
       "  <tbody>\n",
       "    <tr>\n",
       "      <th>0</th>\n",
       "      <td>0</td>\n",
       "      <td>0.428571</td>\n",
       "      <td>1</td>\n",
       "      <td>0</td>\n",
       "      <td>0</td>\n",
       "      <td>1.00</td>\n",
       "      <td>1.00</td>\n",
       "      <td>0.333333</td>\n",
       "      <td>0.333333</td>\n",
       "      <td>0.000000</td>\n",
       "      <td>...</td>\n",
       "      <td>0</td>\n",
       "      <td>0</td>\n",
       "      <td>1</td>\n",
       "      <td>1</td>\n",
       "      <td>0</td>\n",
       "      <td>0</td>\n",
       "      <td>0</td>\n",
       "      <td>0</td>\n",
       "      <td>1</td>\n",
       "      <td>0</td>\n",
       "    </tr>\n",
       "    <tr>\n",
       "      <th>1</th>\n",
       "      <td>0</td>\n",
       "      <td>0.285714</td>\n",
       "      <td>1</td>\n",
       "      <td>0</td>\n",
       "      <td>1</td>\n",
       "      <td>0.25</td>\n",
       "      <td>0.25</td>\n",
       "      <td>0.000000</td>\n",
       "      <td>0.333333</td>\n",
       "      <td>0.000000</td>\n",
       "      <td>...</td>\n",
       "      <td>1</td>\n",
       "      <td>0</td>\n",
       "      <td>0</td>\n",
       "      <td>1</td>\n",
       "      <td>0</td>\n",
       "      <td>0</td>\n",
       "      <td>0</td>\n",
       "      <td>1</td>\n",
       "      <td>0</td>\n",
       "      <td>0</td>\n",
       "    </tr>\n",
       "    <tr>\n",
       "      <th>2</th>\n",
       "      <td>0</td>\n",
       "      <td>0.000000</td>\n",
       "      <td>1</td>\n",
       "      <td>1</td>\n",
       "      <td>1</td>\n",
       "      <td>0.25</td>\n",
       "      <td>0.25</td>\n",
       "      <td>0.000000</td>\n",
       "      <td>0.333333</td>\n",
       "      <td>0.000000</td>\n",
       "      <td>...</td>\n",
       "      <td>1</td>\n",
       "      <td>0</td>\n",
       "      <td>0</td>\n",
       "      <td>0</td>\n",
       "      <td>0</td>\n",
       "      <td>1</td>\n",
       "      <td>0</td>\n",
       "      <td>0</td>\n",
       "      <td>1</td>\n",
       "      <td>0</td>\n",
       "    </tr>\n",
       "    <tr>\n",
       "      <th>3</th>\n",
       "      <td>0</td>\n",
       "      <td>0.000000</td>\n",
       "      <td>1</td>\n",
       "      <td>0</td>\n",
       "      <td>1</td>\n",
       "      <td>1.00</td>\n",
       "      <td>0.50</td>\n",
       "      <td>0.000000</td>\n",
       "      <td>0.666667</td>\n",
       "      <td>0.000000</td>\n",
       "      <td>...</td>\n",
       "      <td>0</td>\n",
       "      <td>1</td>\n",
       "      <td>0</td>\n",
       "      <td>0</td>\n",
       "      <td>1</td>\n",
       "      <td>0</td>\n",
       "      <td>0</td>\n",
       "      <td>0</td>\n",
       "      <td>1</td>\n",
       "      <td>0</td>\n",
       "    </tr>\n",
       "    <tr>\n",
       "      <th>4</th>\n",
       "      <td>0</td>\n",
       "      <td>0.142857</td>\n",
       "      <td>1</td>\n",
       "      <td>0</td>\n",
       "      <td>1</td>\n",
       "      <td>0.75</td>\n",
       "      <td>0.75</td>\n",
       "      <td>0.000000</td>\n",
       "      <td>0.333333</td>\n",
       "      <td>0.000000</td>\n",
       "      <td>...</td>\n",
       "      <td>1</td>\n",
       "      <td>0</td>\n",
       "      <td>0</td>\n",
       "      <td>0</td>\n",
       "      <td>1</td>\n",
       "      <td>0</td>\n",
       "      <td>0</td>\n",
       "      <td>1</td>\n",
       "      <td>0</td>\n",
       "      <td>0</td>\n",
       "    </tr>\n",
       "    <tr>\n",
       "      <th>...</th>\n",
       "      <td>...</td>\n",
       "      <td>...</td>\n",
       "      <td>...</td>\n",
       "      <td>...</td>\n",
       "      <td>...</td>\n",
       "      <td>...</td>\n",
       "      <td>...</td>\n",
       "      <td>...</td>\n",
       "      <td>...</td>\n",
       "      <td>...</td>\n",
       "      <td>...</td>\n",
       "      <td>...</td>\n",
       "      <td>...</td>\n",
       "      <td>...</td>\n",
       "      <td>...</td>\n",
       "      <td>...</td>\n",
       "      <td>...</td>\n",
       "      <td>...</td>\n",
       "      <td>...</td>\n",
       "      <td>...</td>\n",
       "      <td>...</td>\n",
       "    </tr>\n",
       "    <tr>\n",
       "      <th>390</th>\n",
       "      <td>1</td>\n",
       "      <td>0.714286</td>\n",
       "      <td>1</td>\n",
       "      <td>1</td>\n",
       "      <td>0</td>\n",
       "      <td>0.50</td>\n",
       "      <td>0.50</td>\n",
       "      <td>0.000000</td>\n",
       "      <td>0.333333</td>\n",
       "      <td>0.666667</td>\n",
       "      <td>...</td>\n",
       "      <td>0</td>\n",
       "      <td>1</td>\n",
       "      <td>0</td>\n",
       "      <td>1</td>\n",
       "      <td>0</td>\n",
       "      <td>0</td>\n",
       "      <td>0</td>\n",
       "      <td>0</td>\n",
       "      <td>0</td>\n",
       "      <td>1</td>\n",
       "    </tr>\n",
       "    <tr>\n",
       "      <th>391</th>\n",
       "      <td>1</td>\n",
       "      <td>0.285714</td>\n",
       "      <td>1</td>\n",
       "      <td>1</td>\n",
       "      <td>1</td>\n",
       "      <td>0.75</td>\n",
       "      <td>0.25</td>\n",
       "      <td>0.333333</td>\n",
       "      <td>0.000000</td>\n",
       "      <td>0.000000</td>\n",
       "      <td>...</td>\n",
       "      <td>0</td>\n",
       "      <td>1</td>\n",
       "      <td>0</td>\n",
       "      <td>1</td>\n",
       "      <td>0</td>\n",
       "      <td>0</td>\n",
       "      <td>0</td>\n",
       "      <td>0</td>\n",
       "      <td>1</td>\n",
       "      <td>0</td>\n",
       "    </tr>\n",
       "    <tr>\n",
       "      <th>392</th>\n",
       "      <td>1</td>\n",
       "      <td>0.857143</td>\n",
       "      <td>0</td>\n",
       "      <td>0</td>\n",
       "      <td>1</td>\n",
       "      <td>0.25</td>\n",
       "      <td>0.25</td>\n",
       "      <td>0.000000</td>\n",
       "      <td>0.000000</td>\n",
       "      <td>1.000000</td>\n",
       "      <td>...</td>\n",
       "      <td>1</td>\n",
       "      <td>0</td>\n",
       "      <td>0</td>\n",
       "      <td>1</td>\n",
       "      <td>0</td>\n",
       "      <td>0</td>\n",
       "      <td>0</td>\n",
       "      <td>0</td>\n",
       "      <td>0</td>\n",
       "      <td>1</td>\n",
       "    </tr>\n",
       "    <tr>\n",
       "      <th>393</th>\n",
       "      <td>1</td>\n",
       "      <td>0.428571</td>\n",
       "      <td>0</td>\n",
       "      <td>1</td>\n",
       "      <td>1</td>\n",
       "      <td>0.75</td>\n",
       "      <td>0.50</td>\n",
       "      <td>0.666667</td>\n",
       "      <td>0.000000</td>\n",
       "      <td>0.000000</td>\n",
       "      <td>...</td>\n",
       "      <td>1</td>\n",
       "      <td>0</td>\n",
       "      <td>0</td>\n",
       "      <td>1</td>\n",
       "      <td>0</td>\n",
       "      <td>0</td>\n",
       "      <td>0</td>\n",
       "      <td>0</td>\n",
       "      <td>1</td>\n",
       "      <td>0</td>\n",
       "    </tr>\n",
       "    <tr>\n",
       "      <th>394</th>\n",
       "      <td>1</td>\n",
       "      <td>0.571429</td>\n",
       "      <td>1</td>\n",
       "      <td>1</td>\n",
       "      <td>1</td>\n",
       "      <td>0.25</td>\n",
       "      <td>0.25</td>\n",
       "      <td>0.000000</td>\n",
       "      <td>0.000000</td>\n",
       "      <td>0.000000</td>\n",
       "      <td>...</td>\n",
       "      <td>0</td>\n",
       "      <td>0</td>\n",
       "      <td>0</td>\n",
       "      <td>1</td>\n",
       "      <td>0</td>\n",
       "      <td>0</td>\n",
       "      <td>0</td>\n",
       "      <td>1</td>\n",
       "      <td>0</td>\n",
       "      <td>0</td>\n",
       "    </tr>\n",
       "  </tbody>\n",
       "</table>\n",
       "<p>980 rows × 45 columns</p>\n",
       "</div>"
      ],
      "text/plain": [
       "     sex       age  address  famsize  Pstatus  Medu  Fedu  traveltime  \\\n",
       "0      0  0.428571        1        0        0  1.00  1.00    0.333333   \n",
       "1      0  0.285714        1        0        1  0.25  0.25    0.000000   \n",
       "2      0  0.000000        1        1        1  0.25  0.25    0.000000   \n",
       "3      0  0.000000        1        0        1  1.00  0.50    0.000000   \n",
       "4      0  0.142857        1        0        1  0.75  0.75    0.000000   \n",
       "..   ...       ...      ...      ...      ...   ...   ...         ...   \n",
       "390    1  0.714286        1        1        0  0.50  0.50    0.000000   \n",
       "391    1  0.285714        1        1        1  0.75  0.25    0.333333   \n",
       "392    1  0.857143        0        0        1  0.25  0.25    0.000000   \n",
       "393    1  0.428571        0        1        1  0.75  0.50    0.666667   \n",
       "394    1  0.571429        1        1        1  0.25  0.25    0.000000   \n",
       "\n",
       "     studytime  failures  ...  Fjob_other  Fjob_services  Fjob_teacher  \\\n",
       "0     0.333333  0.000000  ...           0              0             1   \n",
       "1     0.333333  0.000000  ...           1              0             0   \n",
       "2     0.333333  0.000000  ...           1              0             0   \n",
       "3     0.666667  0.000000  ...           0              1             0   \n",
       "4     0.333333  0.000000  ...           1              0             0   \n",
       "..         ...       ...  ...         ...            ...           ...   \n",
       "390   0.333333  0.666667  ...           0              1             0   \n",
       "391   0.000000  0.000000  ...           0              1             0   \n",
       "392   0.000000  1.000000  ...           1              0             0   \n",
       "393   0.000000  0.000000  ...           1              0             0   \n",
       "394   0.000000  0.000000  ...           0              0             0   \n",
       "\n",
       "     reason_course  reason_home  reason_other  reason_reputation  \\\n",
       "0                1            0             0                  0   \n",
       "1                1            0             0                  0   \n",
       "2                0            0             1                  0   \n",
       "3                0            1             0                  0   \n",
       "4                0            1             0                  0   \n",
       "..             ...          ...           ...                ...   \n",
       "390              1            0             0                  0   \n",
       "391              1            0             0                  0   \n",
       "392              1            0             0                  0   \n",
       "393              1            0             0                  0   \n",
       "394              1            0             0                  0   \n",
       "\n",
       "     guardian_father  guardian_mother  guardian_other  \n",
       "0                  0                1               0  \n",
       "1                  1                0               0  \n",
       "2                  0                1               0  \n",
       "3                  0                1               0  \n",
       "4                  1                0               0  \n",
       "..               ...              ...             ...  \n",
       "390                0                0               1  \n",
       "391                0                1               0  \n",
       "392                0                0               1  \n",
       "393                0                1               0  \n",
       "394                1                0               0  \n",
       "\n",
       "[980 rows x 45 columns]"
      ]
     },
     "execution_count": 18,
     "metadata": {},
     "output_type": "execute_result"
    }
   ],
   "source": [
    "col = ['age','Medu', 'Fedu','traveltime', 'studytime','famrel','freetime', 'goout','Dalc','Walc','health','absences','failures']\n",
    "df[col]= df[col].apply(lambda x: (x-x.min())/(x.max()-x.min()), axis=0)\n",
    "df"
   ]
  },
  {
   "cell_type": "code",
   "execution_count": 19,
   "id": "15c953f4",
   "metadata": {},
   "outputs": [
    {
     "data": {
      "image/png": "[encoded data removed]",
      "text/plain": [
       "<Figure size 720x720 with 4 Axes>"
      ]
     },
     "metadata": {
      "needs_background": "light"
     },
     "output_type": "display_data"
    }
   ],
   "source": [
    "num_df = df.select_dtypes(exclude='object')\n",
    "corrplot(num_df, annot=None)"
   ]
  },
  {
   "cell_type": "code",
   "execution_count": 20,
   "id": "0bd733cd",
   "metadata": {},
   "outputs": [
    {
     "data": {
      "text/plain": [
       "Index(['sex', 'age', 'address', 'famsize', 'Pstatus', 'Medu', 'Fedu',\n",
       "       'traveltime', 'studytime', 'failures', 'schoolsup', 'famsup', 'paid',\n",
       "       'activities', 'nursery', 'higher', 'internet', 'romantic', 'famrel',\n",
       "       'freetime', 'goout', 'Dalc', 'Walc', 'health', 'absences', 'G1', 'G2',\n",
       "       'G3', 'Mjob_at_home', 'Mjob_health', 'Mjob_other', 'Mjob_services',\n",
       "       'Mjob_teacher', 'Fjob_at_home', 'Fjob_health', 'Fjob_other',\n",
       "       'Fjob_services', 'Fjob_teacher', 'reason_course', 'reason_home',\n",
       "       'reason_other', 'reason_reputation', 'guardian_father',\n",
       "       'guardian_mother', 'guardian_other'],\n",
       "      dtype='object')"
      ]
     },
     "execution_count": 20,
     "metadata": {},
     "output_type": "execute_result"
    }
   ],
   "source": [
    "num_df.columns"
   ]
  },
  {
   "cell_type": "code",
   "execution_count": 21,
   "id": "f249cd00",
   "metadata": {},
   "outputs": [
    {
     "data": {
      "text/plain": [
       "<AxesSubplot:xlabel='edu', ylabel='G3'>"
      ]
     },
     "execution_count": 21,
     "metadata": {},
     "output_type": "execute_result"
    },
    {
     "data": {
      "image/png": "[encoded data removed]",
      "text/plain": [
       "<Figure size 432x288 with 1 Axes>"
      ]
     },
     "metadata": {
      "needs_background": "light"
     },
     "output_type": "display_data"
    }
   ],
   "source": [
    "new_df = num_df.copy()\n",
    "new_df['edu'] = (new_df['Fedu'])*(new_df['Medu'])\n",
    "sns.scatterplot(x=new_df['edu'], y='G3',data=new_df)"
   ]
  },
  {
   "cell_type": "code",
   "execution_count": 22,
   "id": "309397b6",
   "metadata": {},
   "outputs": [
    {
     "data": {
      "image/png": "[encoded data removed]",
      "text/plain": [
       "<Figure size 432x288 with 1 Axes>"
      ]
     },
     "metadata": {
      "needs_background": "light"
     },
     "output_type": "display_data"
    }
   ],
   "source": [
    "new_df['fail'] = (new_df['failures'])*(new_df['traveltime'])\n",
    "sns.scatterplot(x=new_df['fail'], y='G3',data=new_df)\n",
    "df['fail'] = new_df['fail']"
   ]
  },
  {
   "cell_type": "code",
   "execution_count": 23,
   "id": "48271c40",
   "metadata": {},
   "outputs": [
    {
     "data": {
      "image/png": "[encoded data removed]",
      "text/plain": [
       "<Figure size 1440x1440 with 45 Axes>"
      ]
     },
     "metadata": {
      "needs_background": "light"
     },
     "output_type": "display_data"
    }
   ],
   "source": [
    "fig, axes = plt.subplots(9, 5, figsize=(20, 20))\n",
    "axes_flattened = axes.reshape(-1)\n",
    "for i in range(len(num_df.columns)):\n",
    "    ax = axes_flattened[i]\n",
    "    sns.scatterplot(\n",
    "        x=num_df.iloc[:, i],\n",
    "        y='G3',\n",
    "        data=num_df.dropna(),\n",
    "        ax=ax,\n",
    "    )\n",
    "fig.tight_layout(pad=1.0)"
   ]
  },
  {
   "cell_type": "code",
   "execution_count": 24,
   "metadata": {},
   "outputs": [
    {
     "name": "stdout",
     "output_type": "stream",
     "text": [
      "6 (18, 46)\n",
      "7 (19, 46)\n",
      "8 (67, 46)\n",
      "9 (63, 46)\n",
      "10 (153, 46)\n",
      "11 (151, 46)\n",
      "12 (103, 46)\n",
      "13 (113, 46)\n",
      "14 (90, 46)\n",
      "15 (82, 46)\n",
      "16 (52, 46)\n",
      "17 (35, 46)\n",
      "18 (27, 46)\n",
      "19 (7, 46)\n"
     ]
    }
   ],
   "source": [
    "for i in np.unique(df['G3']):\n",
    "    print(i, df[df['G3'] == i].shape)"
   ]
  },
  {
   "cell_type": "code",
   "execution_count": 25,
   "id": "d18d7b1d",
   "metadata": {},
   "outputs": [],
   "source": [
    "X = df.drop([\"G1\",\"G2\",\"G3\"], axis = 1)\n",
    "y = df[[\"G1\",\"G2\",\"G3\"]]\n",
    "X_train, X_test, y_train, y_test = train_test_split(X, y,test_size=0.25, random_state=12, stratify=y['G3'])\n",
    "train_df = pd.concat([X_train, y_train])\n",
    "train_df = X_train.copy()\n",
    "train_df[\"G1\"] = y_train[\"G1\"]\n",
    "train_df[\"G2\"] = y_train[\"G2\"]\n",
    "train_df[\"G3\"] = y_train[\"G3\"]\n",
    "test_df = pd.concat([X_test, y_test],axis=1)"
   ]
  },
  {
   "cell_type": "code",
   "execution_count": 26,
   "id": "dcf79cf1",
   "metadata": {},
   "outputs": [
    {
     "data": {
      "text/html": [
       "<div>\n",
       "<style scoped>\n",
       "    .dataframe tbody tr th:only-of-type {\n",
       "        vertical-align: middle;\n",
       "    }\n",
       "\n",
       "    .dataframe tbody tr th {\n",
       "        vertical-align: top;\n",
       "    }\n",
       "\n",
       "    .dataframe thead th {\n",
       "        text-align: right;\n",
       "    }\n",
       "</style>\n",
       "<table border=\"1\" class=\"dataframe\">\n",
       "  <thead>\n",
       "    <tr style=\"text-align: right;\">\n",
       "      <th></th>\n",
       "      <th>sex</th>\n",
       "      <th>age</th>\n",
       "      <th>address</th>\n",
       "      <th>famsize</th>\n",
       "      <th>Pstatus</th>\n",
       "      <th>Medu</th>\n",
       "      <th>Fedu</th>\n",
       "      <th>traveltime</th>\n",
       "      <th>studytime</th>\n",
       "      <th>failures</th>\n",
       "      <th>...</th>\n",
       "      <th>Fjob_services</th>\n",
       "      <th>Fjob_teacher</th>\n",
       "      <th>reason_course</th>\n",
       "      <th>reason_home</th>\n",
       "      <th>reason_other</th>\n",
       "      <th>reason_reputation</th>\n",
       "      <th>guardian_father</th>\n",
       "      <th>guardian_mother</th>\n",
       "      <th>guardian_other</th>\n",
       "      <th>fail</th>\n",
       "    </tr>\n",
       "  </thead>\n",
       "  <tbody>\n",
       "    <tr>\n",
       "      <th>625</th>\n",
       "      <td>0</td>\n",
       "      <td>0.428571</td>\n",
       "      <td>1</td>\n",
       "      <td>0</td>\n",
       "      <td>1</td>\n",
       "      <td>0.50</td>\n",
       "      <td>0.75</td>\n",
       "      <td>0.333333</td>\n",
       "      <td>0.000000</td>\n",
       "      <td>0.000000</td>\n",
       "      <td>...</td>\n",
       "      <td>1</td>\n",
       "      <td>0</td>\n",
       "      <td>1</td>\n",
       "      <td>0</td>\n",
       "      <td>0</td>\n",
       "      <td>0</td>\n",
       "      <td>1</td>\n",
       "      <td>0</td>\n",
       "      <td>0</td>\n",
       "      <td>0.0</td>\n",
       "    </tr>\n",
       "    <tr>\n",
       "      <th>365</th>\n",
       "      <td>0</td>\n",
       "      <td>0.285714</td>\n",
       "      <td>1</td>\n",
       "      <td>0</td>\n",
       "      <td>0</td>\n",
       "      <td>1.00</td>\n",
       "      <td>0.75</td>\n",
       "      <td>0.000000</td>\n",
       "      <td>0.333333</td>\n",
       "      <td>0.000000</td>\n",
       "      <td>...</td>\n",
       "      <td>1</td>\n",
       "      <td>0</td>\n",
       "      <td>1</td>\n",
       "      <td>0</td>\n",
       "      <td>0</td>\n",
       "      <td>0</td>\n",
       "      <td>0</td>\n",
       "      <td>1</td>\n",
       "      <td>0</td>\n",
       "      <td>0.0</td>\n",
       "    </tr>\n",
       "    <tr>\n",
       "      <th>302</th>\n",
       "      <td>1</td>\n",
       "      <td>0.428571</td>\n",
       "      <td>0</td>\n",
       "      <td>0</td>\n",
       "      <td>1</td>\n",
       "      <td>0.75</td>\n",
       "      <td>0.50</td>\n",
       "      <td>0.000000</td>\n",
       "      <td>0.666667</td>\n",
       "      <td>0.000000</td>\n",
       "      <td>...</td>\n",
       "      <td>0</td>\n",
       "      <td>0</td>\n",
       "      <td>1</td>\n",
       "      <td>0</td>\n",
       "      <td>0</td>\n",
       "      <td>0</td>\n",
       "      <td>0</td>\n",
       "      <td>1</td>\n",
       "      <td>0</td>\n",
       "      <td>0.0</td>\n",
       "    </tr>\n",
       "    <tr>\n",
       "      <th>521</th>\n",
       "      <td>0</td>\n",
       "      <td>0.142857</td>\n",
       "      <td>0</td>\n",
       "      <td>0</td>\n",
       "      <td>1</td>\n",
       "      <td>0.50</td>\n",
       "      <td>0.75</td>\n",
       "      <td>0.333333</td>\n",
       "      <td>0.333333</td>\n",
       "      <td>0.000000</td>\n",
       "      <td>...</td>\n",
       "      <td>1</td>\n",
       "      <td>0</td>\n",
       "      <td>0</td>\n",
       "      <td>0</td>\n",
       "      <td>1</td>\n",
       "      <td>0</td>\n",
       "      <td>0</td>\n",
       "      <td>1</td>\n",
       "      <td>0</td>\n",
       "      <td>0.0</td>\n",
       "    </tr>\n",
       "    <tr>\n",
       "      <th>157</th>\n",
       "      <td>0</td>\n",
       "      <td>0.000000</td>\n",
       "      <td>1</td>\n",
       "      <td>1</td>\n",
       "      <td>0</td>\n",
       "      <td>0.50</td>\n",
       "      <td>0.25</td>\n",
       "      <td>0.333333</td>\n",
       "      <td>0.000000</td>\n",
       "      <td>0.000000</td>\n",
       "      <td>...</td>\n",
       "      <td>0</td>\n",
       "      <td>0</td>\n",
       "      <td>0</td>\n",
       "      <td>1</td>\n",
       "      <td>0</td>\n",
       "      <td>0</td>\n",
       "      <td>0</td>\n",
       "      <td>1</td>\n",
       "      <td>0</td>\n",
       "      <td>0.0</td>\n",
       "    </tr>\n",
       "    <tr>\n",
       "      <th>...</th>\n",
       "      <td>...</td>\n",
       "      <td>...</td>\n",
       "      <td>...</td>\n",
       "      <td>...</td>\n",
       "      <td>...</td>\n",
       "      <td>...</td>\n",
       "      <td>...</td>\n",
       "      <td>...</td>\n",
       "      <td>...</td>\n",
       "      <td>...</td>\n",
       "      <td>...</td>\n",
       "      <td>...</td>\n",
       "      <td>...</td>\n",
       "      <td>...</td>\n",
       "      <td>...</td>\n",
       "      <td>...</td>\n",
       "      <td>...</td>\n",
       "      <td>...</td>\n",
       "      <td>...</td>\n",
       "      <td>...</td>\n",
       "      <td>...</td>\n",
       "    </tr>\n",
       "    <tr>\n",
       "      <th>425</th>\n",
       "      <td>0</td>\n",
       "      <td>0.000000</td>\n",
       "      <td>0</td>\n",
       "      <td>0</td>\n",
       "      <td>1</td>\n",
       "      <td>0.25</td>\n",
       "      <td>0.25</td>\n",
       "      <td>0.000000</td>\n",
       "      <td>0.000000</td>\n",
       "      <td>0.333333</td>\n",
       "      <td>...</td>\n",
       "      <td>1</td>\n",
       "      <td>0</td>\n",
       "      <td>0</td>\n",
       "      <td>0</td>\n",
       "      <td>1</td>\n",
       "      <td>0</td>\n",
       "      <td>0</td>\n",
       "      <td>1</td>\n",
       "      <td>0</td>\n",
       "      <td>0.0</td>\n",
       "    </tr>\n",
       "    <tr>\n",
       "      <th>12</th>\n",
       "      <td>1</td>\n",
       "      <td>0.000000</td>\n",
       "      <td>1</td>\n",
       "      <td>1</td>\n",
       "      <td>1</td>\n",
       "      <td>1.00</td>\n",
       "      <td>1.00</td>\n",
       "      <td>0.000000</td>\n",
       "      <td>0.000000</td>\n",
       "      <td>0.000000</td>\n",
       "      <td>...</td>\n",
       "      <td>1</td>\n",
       "      <td>0</td>\n",
       "      <td>1</td>\n",
       "      <td>0</td>\n",
       "      <td>0</td>\n",
       "      <td>0</td>\n",
       "      <td>1</td>\n",
       "      <td>0</td>\n",
       "      <td>0</td>\n",
       "      <td>0.0</td>\n",
       "    </tr>\n",
       "    <tr>\n",
       "      <th>290</th>\n",
       "      <td>0</td>\n",
       "      <td>0.571429</td>\n",
       "      <td>1</td>\n",
       "      <td>0</td>\n",
       "      <td>1</td>\n",
       "      <td>0.50</td>\n",
       "      <td>0.50</td>\n",
       "      <td>0.000000</td>\n",
       "      <td>0.333333</td>\n",
       "      <td>0.000000</td>\n",
       "      <td>...</td>\n",
       "      <td>1</td>\n",
       "      <td>0</td>\n",
       "      <td>0</td>\n",
       "      <td>1</td>\n",
       "      <td>0</td>\n",
       "      <td>0</td>\n",
       "      <td>0</td>\n",
       "      <td>1</td>\n",
       "      <td>0</td>\n",
       "      <td>0.0</td>\n",
       "    </tr>\n",
       "    <tr>\n",
       "      <th>107</th>\n",
       "      <td>1</td>\n",
       "      <td>0.142857</td>\n",
       "      <td>1</td>\n",
       "      <td>0</td>\n",
       "      <td>1</td>\n",
       "      <td>0.75</td>\n",
       "      <td>0.75</td>\n",
       "      <td>0.000000</td>\n",
       "      <td>0.666667</td>\n",
       "      <td>0.000000</td>\n",
       "      <td>...</td>\n",
       "      <td>0</td>\n",
       "      <td>0</td>\n",
       "      <td>0</td>\n",
       "      <td>1</td>\n",
       "      <td>0</td>\n",
       "      <td>0</td>\n",
       "      <td>1</td>\n",
       "      <td>0</td>\n",
       "      <td>0</td>\n",
       "      <td>0.0</td>\n",
       "    </tr>\n",
       "    <tr>\n",
       "      <th>52</th>\n",
       "      <td>1</td>\n",
       "      <td>0.000000</td>\n",
       "      <td>1</td>\n",
       "      <td>1</td>\n",
       "      <td>0</td>\n",
       "      <td>1.00</td>\n",
       "      <td>0.50</td>\n",
       "      <td>0.333333</td>\n",
       "      <td>0.000000</td>\n",
       "      <td>0.000000</td>\n",
       "      <td>...</td>\n",
       "      <td>0</td>\n",
       "      <td>0</td>\n",
       "      <td>0</td>\n",
       "      <td>0</td>\n",
       "      <td>1</td>\n",
       "      <td>0</td>\n",
       "      <td>1</td>\n",
       "      <td>0</td>\n",
       "      <td>0</td>\n",
       "      <td>0.0</td>\n",
       "    </tr>\n",
       "  </tbody>\n",
       "</table>\n",
       "<p>735 rows × 43 columns</p>\n",
       "</div>"
      ],
      "text/plain": [
       "     sex       age  address  famsize  Pstatus  Medu  Fedu  traveltime  \\\n",
       "625    0  0.428571        1        0        1  0.50  0.75    0.333333   \n",
       "365    0  0.285714        1        0        0  1.00  0.75    0.000000   \n",
       "302    1  0.428571        0        0        1  0.75  0.50    0.000000   \n",
       "521    0  0.142857        0        0        1  0.50  0.75    0.333333   \n",
       "157    0  0.000000        1        1        0  0.50  0.25    0.333333   \n",
       "..   ...       ...      ...      ...      ...   ...   ...         ...   \n",
       "425    0  0.000000        0        0        1  0.25  0.25    0.000000   \n",
       "12     1  0.000000        1        1        1  1.00  1.00    0.000000   \n",
       "290    0  0.571429        1        0        1  0.50  0.50    0.000000   \n",
       "107    1  0.142857        1        0        1  0.75  0.75    0.000000   \n",
       "52     1  0.000000        1        1        0  1.00  0.50    0.333333   \n",
       "\n",
       "     studytime  failures  ...  Fjob_services  Fjob_teacher  reason_course  \\\n",
       "625   0.000000  0.000000  ...              1             0              1   \n",
       "365   0.333333  0.000000  ...              1             0              1   \n",
       "302   0.666667  0.000000  ...              0             0              1   \n",
       "521   0.333333  0.000000  ...              1             0              0   \n",
       "157   0.000000  0.000000  ...              0             0              0   \n",
       "..         ...       ...  ...            ...           ...            ...   \n",
       "425   0.000000  0.333333  ...              1             0              0   \n",
       "12    0.000000  0.000000  ...              1             0              1   \n",
       "290   0.333333  0.000000  ...              1             0              0   \n",
       "107   0.666667  0.000000  ...              0             0              0   \n",
       "52    0.000000  0.000000  ...              0             0              0   \n",
       "\n",
       "     reason_home  reason_other  reason_reputation  guardian_father  \\\n",
       "625            0             0                  0                1   \n",
       "365            0             0                  0                0   \n",
       "302            0             0                  0                0   \n",
       "521            0             1                  0                0   \n",
       "157            1             0                  0                0   \n",
       "..           ...           ...                ...              ...   \n",
       "425            0             1                  0                0   \n",
       "12             0             0                  0                1   \n",
       "290            1             0                  0                0   \n",
       "107            1             0                  0                1   \n",
       "52             0             1                  0                1   \n",
       "\n",
       "     guardian_mother  guardian_other  fail  \n",
       "625                0               0   0.0  \n",
       "365                1               0   0.0  \n",
       "302                1               0   0.0  \n",
       "521                1               0   0.0  \n",
       "157                1               0   0.0  \n",
       "..               ...             ...   ...  \n",
       "425                1               0   0.0  \n",
       "12                 0               0   0.0  \n",
       "290                1               0   0.0  \n",
       "107                0               0   0.0  \n",
       "52                 0               0   0.0  \n",
       "\n",
       "[735 rows x 43 columns]"
      ]
     },
     "execution_count": 26,
     "metadata": {},
     "output_type": "execute_result"
    }
   ],
   "source": [
    "X_train"
   ]
  },
  {
   "cell_type": "code",
   "execution_count": 27,
   "id": "aef8d0c4",
   "metadata": {},
   "outputs": [
    {
     "name": "stdout",
     "output_type": "stream",
     "text": [
      "(735, 43)\n"
     ]
    },
    {
     "data": {
      "text/html": [
       "<div>\n",
       "<style scoped>\n",
       "    .dataframe tbody tr th:only-of-type {\n",
       "        vertical-align: middle;\n",
       "    }\n",
       "\n",
       "    .dataframe tbody tr th {\n",
       "        vertical-align: top;\n",
       "    }\n",
       "\n",
       "    .dataframe thead th {\n",
       "        text-align: right;\n",
       "    }\n",
       "</style>\n",
       "<table border=\"1\" class=\"dataframe\">\n",
       "  <thead>\n",
       "    <tr style=\"text-align: right;\">\n",
       "      <th></th>\n",
       "      <th>sex</th>\n",
       "      <th>age</th>\n",
       "      <th>address</th>\n",
       "      <th>famsize</th>\n",
       "      <th>Pstatus</th>\n",
       "      <th>Medu</th>\n",
       "      <th>Fedu</th>\n",
       "      <th>traveltime</th>\n",
       "      <th>studytime</th>\n",
       "      <th>failures</th>\n",
       "      <th>...</th>\n",
       "      <th>Fjob_services</th>\n",
       "      <th>Fjob_teacher</th>\n",
       "      <th>reason_course</th>\n",
       "      <th>reason_home</th>\n",
       "      <th>reason_other</th>\n",
       "      <th>reason_reputation</th>\n",
       "      <th>guardian_father</th>\n",
       "      <th>guardian_mother</th>\n",
       "      <th>guardian_other</th>\n",
       "      <th>fail</th>\n",
       "    </tr>\n",
       "  </thead>\n",
       "  <tbody>\n",
       "    <tr>\n",
       "      <th>625</th>\n",
       "      <td>0</td>\n",
       "      <td>0.428571</td>\n",
       "      <td>1</td>\n",
       "      <td>0</td>\n",
       "      <td>1</td>\n",
       "      <td>0.50</td>\n",
       "      <td>0.75</td>\n",
       "      <td>0.333333</td>\n",
       "      <td>0.000000</td>\n",
       "      <td>0.0</td>\n",
       "      <td>...</td>\n",
       "      <td>1</td>\n",
       "      <td>0</td>\n",
       "      <td>1</td>\n",
       "      <td>0</td>\n",
       "      <td>0</td>\n",
       "      <td>0</td>\n",
       "      <td>1</td>\n",
       "      <td>0</td>\n",
       "      <td>0</td>\n",
       "      <td>0.0</td>\n",
       "    </tr>\n",
       "    <tr>\n",
       "      <th>365</th>\n",
       "      <td>0</td>\n",
       "      <td>0.285714</td>\n",
       "      <td>1</td>\n",
       "      <td>0</td>\n",
       "      <td>0</td>\n",
       "      <td>1.00</td>\n",
       "      <td>0.75</td>\n",
       "      <td>0.000000</td>\n",
       "      <td>0.333333</td>\n",
       "      <td>0.0</td>\n",
       "      <td>...</td>\n",
       "      <td>1</td>\n",
       "      <td>0</td>\n",
       "      <td>1</td>\n",
       "      <td>0</td>\n",
       "      <td>0</td>\n",
       "      <td>0</td>\n",
       "      <td>0</td>\n",
       "      <td>1</td>\n",
       "      <td>0</td>\n",
       "      <td>0.0</td>\n",
       "    </tr>\n",
       "    <tr>\n",
       "      <th>302</th>\n",
       "      <td>1</td>\n",
       "      <td>0.428571</td>\n",
       "      <td>0</td>\n",
       "      <td>0</td>\n",
       "      <td>1</td>\n",
       "      <td>0.75</td>\n",
       "      <td>0.50</td>\n",
       "      <td>0.000000</td>\n",
       "      <td>0.666667</td>\n",
       "      <td>0.0</td>\n",
       "      <td>...</td>\n",
       "      <td>0</td>\n",
       "      <td>0</td>\n",
       "      <td>1</td>\n",
       "      <td>0</td>\n",
       "      <td>0</td>\n",
       "      <td>0</td>\n",
       "      <td>0</td>\n",
       "      <td>1</td>\n",
       "      <td>0</td>\n",
       "      <td>0.0</td>\n",
       "    </tr>\n",
       "    <tr>\n",
       "      <th>521</th>\n",
       "      <td>0</td>\n",
       "      <td>0.142857</td>\n",
       "      <td>0</td>\n",
       "      <td>0</td>\n",
       "      <td>1</td>\n",
       "      <td>0.50</td>\n",
       "      <td>0.75</td>\n",
       "      <td>0.333333</td>\n",
       "      <td>0.333333</td>\n",
       "      <td>0.0</td>\n",
       "      <td>...</td>\n",
       "      <td>1</td>\n",
       "      <td>0</td>\n",
       "      <td>0</td>\n",
       "      <td>0</td>\n",
       "      <td>1</td>\n",
       "      <td>0</td>\n",
       "      <td>0</td>\n",
       "      <td>1</td>\n",
       "      <td>0</td>\n",
       "      <td>0.0</td>\n",
       "    </tr>\n",
       "    <tr>\n",
       "      <th>157</th>\n",
       "      <td>0</td>\n",
       "      <td>0.000000</td>\n",
       "      <td>1</td>\n",
       "      <td>1</td>\n",
       "      <td>0</td>\n",
       "      <td>0.50</td>\n",
       "      <td>0.25</td>\n",
       "      <td>0.333333</td>\n",
       "      <td>0.000000</td>\n",
       "      <td>0.0</td>\n",
       "      <td>...</td>\n",
       "      <td>0</td>\n",
       "      <td>0</td>\n",
       "      <td>0</td>\n",
       "      <td>1</td>\n",
       "      <td>0</td>\n",
       "      <td>0</td>\n",
       "      <td>0</td>\n",
       "      <td>1</td>\n",
       "      <td>0</td>\n",
       "      <td>0.0</td>\n",
       "    </tr>\n",
       "  </tbody>\n",
       "</table>\n",
       "<p>5 rows × 43 columns</p>\n",
       "</div>"
      ],
      "text/plain": [
       "     sex       age  address  famsize  Pstatus  Medu  Fedu  traveltime  \\\n",
       "625    0  0.428571        1        0        1  0.50  0.75    0.333333   \n",
       "365    0  0.285714        1        0        0  1.00  0.75    0.000000   \n",
       "302    1  0.428571        0        0        1  0.75  0.50    0.000000   \n",
       "521    0  0.142857        0        0        1  0.50  0.75    0.333333   \n",
       "157    0  0.000000        1        1        0  0.50  0.25    0.333333   \n",
       "\n",
       "     studytime  failures  ...  Fjob_services  Fjob_teacher  reason_course  \\\n",
       "625   0.000000       0.0  ...              1             0              1   \n",
       "365   0.333333       0.0  ...              1             0              1   \n",
       "302   0.666667       0.0  ...              0             0              1   \n",
       "521   0.333333       0.0  ...              1             0              0   \n",
       "157   0.000000       0.0  ...              0             0              0   \n",
       "\n",
       "     reason_home  reason_other  reason_reputation  guardian_father  \\\n",
       "625            0             0                  0                1   \n",
       "365            0             0                  0                0   \n",
       "302            0             0                  0                0   \n",
       "521            0             1                  0                0   \n",
       "157            1             0                  0                0   \n",
       "\n",
       "     guardian_mother  guardian_other  fail  \n",
       "625                0               0   0.0  \n",
       "365                1               0   0.0  \n",
       "302                1               0   0.0  \n",
       "521                1               0   0.0  \n",
       "157                1               0   0.0  \n",
       "\n",
       "[5 rows x 43 columns]"
      ]
     },
     "execution_count": 27,
     "metadata": {},
     "output_type": "execute_result"
    }
   ],
   "source": [
    "print(X_train.shape)\n",
    "X_train.head()"
   ]
  },
  {
   "cell_type": "code",
   "execution_count": 28,
   "id": "381558b5",
   "metadata": {},
   "outputs": [
    {
     "name": "stdout",
     "output_type": "stream",
     "text": [
      "(245, 3)\n"
     ]
    },
    {
     "data": {
      "text/html": [
       "<div>\n",
       "<style scoped>\n",
       "    .dataframe tbody tr th:only-of-type {\n",
       "        vertical-align: middle;\n",
       "    }\n",
       "\n",
       "    .dataframe tbody tr th {\n",
       "        vertical-align: top;\n",
       "    }\n",
       "\n",
       "    .dataframe thead th {\n",
       "        text-align: right;\n",
       "    }\n",
       "</style>\n",
       "<table border=\"1\" class=\"dataframe\">\n",
       "  <thead>\n",
       "    <tr style=\"text-align: right;\">\n",
       "      <th></th>\n",
       "      <th>G1</th>\n",
       "      <th>G2</th>\n",
       "      <th>G3</th>\n",
       "    </tr>\n",
       "  </thead>\n",
       "  <tbody>\n",
       "    <tr>\n",
       "      <th>89</th>\n",
       "      <td>9</td>\n",
       "      <td>9</td>\n",
       "      <td>10</td>\n",
       "    </tr>\n",
       "    <tr>\n",
       "      <th>192</th>\n",
       "      <td>10</td>\n",
       "      <td>9</td>\n",
       "      <td>11</td>\n",
       "    </tr>\n",
       "    <tr>\n",
       "      <th>185</th>\n",
       "      <td>12</td>\n",
       "      <td>12</td>\n",
       "      <td>11</td>\n",
       "    </tr>\n",
       "    <tr>\n",
       "      <th>394</th>\n",
       "      <td>14</td>\n",
       "      <td>14</td>\n",
       "      <td>16</td>\n",
       "    </tr>\n",
       "    <tr>\n",
       "      <th>493</th>\n",
       "      <td>9</td>\n",
       "      <td>9</td>\n",
       "      <td>10</td>\n",
       "    </tr>\n",
       "  </tbody>\n",
       "</table>\n",
       "</div>"
      ],
      "text/plain": [
       "     G1  G2  G3\n",
       "89    9   9  10\n",
       "192  10   9  11\n",
       "185  12  12  11\n",
       "394  14  14  16\n",
       "493   9   9  10"
      ]
     },
     "execution_count": 28,
     "metadata": {},
     "output_type": "execute_result"
    }
   ],
   "source": [
    "print(y_test.shape)\n",
    "y_test.head()"
   ]
  },
  {
   "cell_type": "code",
   "execution_count": 29,
   "id": "a4f88ccc",
   "metadata": {},
   "outputs": [
    {
     "data": {
      "text/html": [
       "<div>\n",
       "<style scoped>\n",
       "    .dataframe tbody tr th:only-of-type {\n",
       "        vertical-align: middle;\n",
       "    }\n",
       "\n",
       "    .dataframe tbody tr th {\n",
       "        vertical-align: top;\n",
       "    }\n",
       "\n",
       "    .dataframe thead th {\n",
       "        text-align: right;\n",
       "    }\n",
       "</style>\n",
       "<table border=\"1\" class=\"dataframe\">\n",
       "  <thead>\n",
       "    <tr style=\"text-align: right;\">\n",
       "      <th></th>\n",
       "      <th>index</th>\n",
       "      <th>0</th>\n",
       "    </tr>\n",
       "  </thead>\n",
       "  <tbody>\n",
       "    <tr>\n",
       "      <th>0</th>\n",
       "      <td>sex</td>\n",
       "      <td>0.0</td>\n",
       "    </tr>\n",
       "    <tr>\n",
       "      <th>1</th>\n",
       "      <td>age</td>\n",
       "      <td>0.0</td>\n",
       "    </tr>\n",
       "    <tr>\n",
       "      <th>2</th>\n",
       "      <td>address</td>\n",
       "      <td>0.0</td>\n",
       "    </tr>\n",
       "    <tr>\n",
       "      <th>3</th>\n",
       "      <td>famsize</td>\n",
       "      <td>0.0</td>\n",
       "    </tr>\n",
       "    <tr>\n",
       "      <th>4</th>\n",
       "      <td>Pstatus</td>\n",
       "      <td>0.0</td>\n",
       "    </tr>\n",
       "    <tr>\n",
       "      <th>5</th>\n",
       "      <td>Medu</td>\n",
       "      <td>0.0</td>\n",
       "    </tr>\n",
       "    <tr>\n",
       "      <th>6</th>\n",
       "      <td>Fedu</td>\n",
       "      <td>0.0</td>\n",
       "    </tr>\n",
       "    <tr>\n",
       "      <th>7</th>\n",
       "      <td>traveltime</td>\n",
       "      <td>0.0</td>\n",
       "    </tr>\n",
       "    <tr>\n",
       "      <th>8</th>\n",
       "      <td>studytime</td>\n",
       "      <td>0.0</td>\n",
       "    </tr>\n",
       "    <tr>\n",
       "      <th>9</th>\n",
       "      <td>failures</td>\n",
       "      <td>0.0</td>\n",
       "    </tr>\n",
       "    <tr>\n",
       "      <th>10</th>\n",
       "      <td>schoolsup</td>\n",
       "      <td>0.0</td>\n",
       "    </tr>\n",
       "    <tr>\n",
       "      <th>11</th>\n",
       "      <td>famsup</td>\n",
       "      <td>0.0</td>\n",
       "    </tr>\n",
       "    <tr>\n",
       "      <th>12</th>\n",
       "      <td>paid</td>\n",
       "      <td>0.0</td>\n",
       "    </tr>\n",
       "    <tr>\n",
       "      <th>13</th>\n",
       "      <td>activities</td>\n",
       "      <td>0.0</td>\n",
       "    </tr>\n",
       "    <tr>\n",
       "      <th>14</th>\n",
       "      <td>nursery</td>\n",
       "      <td>0.0</td>\n",
       "    </tr>\n",
       "    <tr>\n",
       "      <th>15</th>\n",
       "      <td>higher</td>\n",
       "      <td>0.0</td>\n",
       "    </tr>\n",
       "    <tr>\n",
       "      <th>16</th>\n",
       "      <td>internet</td>\n",
       "      <td>0.0</td>\n",
       "    </tr>\n",
       "    <tr>\n",
       "      <th>17</th>\n",
       "      <td>romantic</td>\n",
       "      <td>0.0</td>\n",
       "    </tr>\n",
       "    <tr>\n",
       "      <th>18</th>\n",
       "      <td>famrel</td>\n",
       "      <td>0.0</td>\n",
       "    </tr>\n",
       "    <tr>\n",
       "      <th>19</th>\n",
       "      <td>freetime</td>\n",
       "      <td>0.0</td>\n",
       "    </tr>\n",
       "    <tr>\n",
       "      <th>20</th>\n",
       "      <td>goout</td>\n",
       "      <td>0.0</td>\n",
       "    </tr>\n",
       "    <tr>\n",
       "      <th>21</th>\n",
       "      <td>Dalc</td>\n",
       "      <td>0.0</td>\n",
       "    </tr>\n",
       "    <tr>\n",
       "      <th>22</th>\n",
       "      <td>Walc</td>\n",
       "      <td>0.0</td>\n",
       "    </tr>\n",
       "    <tr>\n",
       "      <th>23</th>\n",
       "      <td>health</td>\n",
       "      <td>0.0</td>\n",
       "    </tr>\n",
       "    <tr>\n",
       "      <th>24</th>\n",
       "      <td>absences</td>\n",
       "      <td>0.0</td>\n",
       "    </tr>\n",
       "    <tr>\n",
       "      <th>25</th>\n",
       "      <td>G1</td>\n",
       "      <td>0.0</td>\n",
       "    </tr>\n",
       "    <tr>\n",
       "      <th>26</th>\n",
       "      <td>G2</td>\n",
       "      <td>0.0</td>\n",
       "    </tr>\n",
       "    <tr>\n",
       "      <th>27</th>\n",
       "      <td>G3</td>\n",
       "      <td>0.0</td>\n",
       "    </tr>\n",
       "    <tr>\n",
       "      <th>28</th>\n",
       "      <td>Mjob_at_home</td>\n",
       "      <td>0.0</td>\n",
       "    </tr>\n",
       "    <tr>\n",
       "      <th>29</th>\n",
       "      <td>Mjob_health</td>\n",
       "      <td>0.0</td>\n",
       "    </tr>\n",
       "    <tr>\n",
       "      <th>30</th>\n",
       "      <td>Mjob_other</td>\n",
       "      <td>0.0</td>\n",
       "    </tr>\n",
       "    <tr>\n",
       "      <th>31</th>\n",
       "      <td>Mjob_services</td>\n",
       "      <td>0.0</td>\n",
       "    </tr>\n",
       "    <tr>\n",
       "      <th>32</th>\n",
       "      <td>Mjob_teacher</td>\n",
       "      <td>0.0</td>\n",
       "    </tr>\n",
       "    <tr>\n",
       "      <th>33</th>\n",
       "      <td>Fjob_at_home</td>\n",
       "      <td>0.0</td>\n",
       "    </tr>\n",
       "    <tr>\n",
       "      <th>34</th>\n",
       "      <td>Fjob_health</td>\n",
       "      <td>0.0</td>\n",
       "    </tr>\n",
       "    <tr>\n",
       "      <th>35</th>\n",
       "      <td>Fjob_other</td>\n",
       "      <td>0.0</td>\n",
       "    </tr>\n",
       "    <tr>\n",
       "      <th>36</th>\n",
       "      <td>Fjob_services</td>\n",
       "      <td>0.0</td>\n",
       "    </tr>\n",
       "    <tr>\n",
       "      <th>37</th>\n",
       "      <td>Fjob_teacher</td>\n",
       "      <td>0.0</td>\n",
       "    </tr>\n",
       "    <tr>\n",
       "      <th>38</th>\n",
       "      <td>reason_course</td>\n",
       "      <td>0.0</td>\n",
       "    </tr>\n",
       "    <tr>\n",
       "      <th>39</th>\n",
       "      <td>reason_home</td>\n",
       "      <td>0.0</td>\n",
       "    </tr>\n",
       "    <tr>\n",
       "      <th>40</th>\n",
       "      <td>reason_other</td>\n",
       "      <td>0.0</td>\n",
       "    </tr>\n",
       "    <tr>\n",
       "      <th>41</th>\n",
       "      <td>reason_reputation</td>\n",
       "      <td>0.0</td>\n",
       "    </tr>\n",
       "    <tr>\n",
       "      <th>42</th>\n",
       "      <td>guardian_father</td>\n",
       "      <td>0.0</td>\n",
       "    </tr>\n",
       "    <tr>\n",
       "      <th>43</th>\n",
       "      <td>guardian_mother</td>\n",
       "      <td>0.0</td>\n",
       "    </tr>\n",
       "    <tr>\n",
       "      <th>44</th>\n",
       "      <td>guardian_other</td>\n",
       "      <td>0.0</td>\n",
       "    </tr>\n",
       "    <tr>\n",
       "      <th>45</th>\n",
       "      <td>fail</td>\n",
       "      <td>0.0</td>\n",
       "    </tr>\n",
       "  </tbody>\n",
       "</table>\n",
       "</div>"
      ],
      "text/plain": [
       "                index    0\n",
       "0                 sex  0.0\n",
       "1                 age  0.0\n",
       "2             address  0.0\n",
       "3             famsize  0.0\n",
       "4             Pstatus  0.0\n",
       "5                Medu  0.0\n",
       "6                Fedu  0.0\n",
       "7          traveltime  0.0\n",
       "8           studytime  0.0\n",
       "9            failures  0.0\n",
       "10          schoolsup  0.0\n",
       "11             famsup  0.0\n",
       "12               paid  0.0\n",
       "13         activities  0.0\n",
       "14            nursery  0.0\n",
       "15             higher  0.0\n",
       "16           internet  0.0\n",
       "17           romantic  0.0\n",
       "18             famrel  0.0\n",
       "19           freetime  0.0\n",
       "20              goout  0.0\n",
       "21               Dalc  0.0\n",
       "22               Walc  0.0\n",
       "23             health  0.0\n",
       "24           absences  0.0\n",
       "25                 G1  0.0\n",
       "26                 G2  0.0\n",
       "27                 G3  0.0\n",
       "28       Mjob_at_home  0.0\n",
       "29        Mjob_health  0.0\n",
       "30         Mjob_other  0.0\n",
       "31      Mjob_services  0.0\n",
       "32       Mjob_teacher  0.0\n",
       "33       Fjob_at_home  0.0\n",
       "34        Fjob_health  0.0\n",
       "35         Fjob_other  0.0\n",
       "36      Fjob_services  0.0\n",
       "37       Fjob_teacher  0.0\n",
       "38      reason_course  0.0\n",
       "39        reason_home  0.0\n",
       "40       reason_other  0.0\n",
       "41  reason_reputation  0.0\n",
       "42    guardian_father  0.0\n",
       "43    guardian_mother  0.0\n",
       "44     guardian_other  0.0\n",
       "45               fail  0.0"
      ]
     },
     "execution_count": 29,
     "metadata": {},
     "output_type": "execute_result"
    }
   ],
   "source": [
    "nan_df = (df.isnull().mean() * 100).reset_index()\n",
    "nan_df"
   ]
  },
  {
   "cell_type": "code",
   "execution_count": 30,
   "id": "2740429d",
   "metadata": {},
   "outputs": [],
   "source": [
    "def get_almost_constant_columns(df, dropna=True):\n",
    "    cols = []\n",
    "    for i in df:\n",
    "        if dropna:\n",
    "            counts = df[i].dropna().value_counts()\n",
    "        else:\n",
    "            counts = df[i].value_counts()\n",
    "        most_popular_value_count = counts.iloc[0]\n",
    "        if (most_popular_value_count / len(df)) * 100 > 96:\n",
    "            cols.append(i)\n",
    "    return cols"
   ]
  },
  {
   "cell_type": "code",
   "execution_count": 31,
   "id": "5eae503c",
   "metadata": {},
   "outputs": [
    {
     "data": {
      "text/plain": [
       "[]"
      ]
     },
     "execution_count": 31,
     "metadata": {},
     "output_type": "execute_result"
    }
   ],
   "source": [
    "overfit_cat = get_almost_constant_columns(cat_df)\n",
    "overfit_cat"
   ]
  },
  {
   "cell_type": "code",
   "execution_count": 32,
   "id": "769ea490",
   "metadata": {},
   "outputs": [
    {
     "data": {
      "text/plain": [
       "[]"
      ]
     },
     "execution_count": 32,
     "metadata": {},
     "output_type": "execute_result"
    }
   ],
   "source": [
    "overfit_num = get_almost_constant_columns(num_df, dropna=True)\n",
    "overfit_num"
   ]
  },
  {
   "cell_type": "code",
   "execution_count": 33,
   "id": "46ff780f",
   "metadata": {},
   "outputs": [],
   "source": [
    "train_df = train_df.drop(overfit_num, axis=1)\n",
    "test_df = test_df.drop(overfit_num, axis=1)\n",
    "X_train = X_train.drop(overfit_num, axis=1)\n",
    "X_test = X_test.drop(overfit_num, axis=1)"
   ]
  },
  {
   "cell_type": "code",
   "execution_count": 34,
   "id": "e0cb3928",
   "metadata": {},
   "outputs": [
    {
     "data": {
      "text/html": [
       "<div>\n",
       "<style scoped>\n",
       "    .dataframe tbody tr th:only-of-type {\n",
       "        vertical-align: middle;\n",
       "    }\n",
       "\n",
       "    .dataframe tbody tr th {\n",
       "        vertical-align: top;\n",
       "    }\n",
       "\n",
       "    .dataframe thead th {\n",
       "        text-align: right;\n",
       "    }\n",
       "</style>\n",
       "<table border=\"1\" class=\"dataframe\">\n",
       "  <thead>\n",
       "    <tr style=\"text-align: right;\">\n",
       "      <th></th>\n",
       "      <th>sex</th>\n",
       "      <th>age</th>\n",
       "      <th>address</th>\n",
       "      <th>famsize</th>\n",
       "      <th>Pstatus</th>\n",
       "      <th>Medu</th>\n",
       "      <th>Fedu</th>\n",
       "      <th>traveltime</th>\n",
       "      <th>studytime</th>\n",
       "      <th>failures</th>\n",
       "      <th>...</th>\n",
       "      <th>reason_home</th>\n",
       "      <th>reason_other</th>\n",
       "      <th>reason_reputation</th>\n",
       "      <th>guardian_father</th>\n",
       "      <th>guardian_mother</th>\n",
       "      <th>guardian_other</th>\n",
       "      <th>fail</th>\n",
       "      <th>G1</th>\n",
       "      <th>G2</th>\n",
       "      <th>G3</th>\n",
       "    </tr>\n",
       "  </thead>\n",
       "  <tbody>\n",
       "    <tr>\n",
       "      <th>625</th>\n",
       "      <td>0</td>\n",
       "      <td>0.428571</td>\n",
       "      <td>1</td>\n",
       "      <td>0</td>\n",
       "      <td>1</td>\n",
       "      <td>0.50</td>\n",
       "      <td>0.75</td>\n",
       "      <td>0.333333</td>\n",
       "      <td>0.000000</td>\n",
       "      <td>0.0</td>\n",
       "      <td>...</td>\n",
       "      <td>0</td>\n",
       "      <td>0</td>\n",
       "      <td>0</td>\n",
       "      <td>1</td>\n",
       "      <td>0</td>\n",
       "      <td>0</td>\n",
       "      <td>0.0</td>\n",
       "      <td>10</td>\n",
       "      <td>10</td>\n",
       "      <td>10</td>\n",
       "    </tr>\n",
       "    <tr>\n",
       "      <th>365</th>\n",
       "      <td>0</td>\n",
       "      <td>0.285714</td>\n",
       "      <td>1</td>\n",
       "      <td>0</td>\n",
       "      <td>0</td>\n",
       "      <td>1.00</td>\n",
       "      <td>0.75</td>\n",
       "      <td>0.000000</td>\n",
       "      <td>0.333333</td>\n",
       "      <td>0.0</td>\n",
       "      <td>...</td>\n",
       "      <td>0</td>\n",
       "      <td>0</td>\n",
       "      <td>0</td>\n",
       "      <td>0</td>\n",
       "      <td>1</td>\n",
       "      <td>0</td>\n",
       "      <td>0.0</td>\n",
       "      <td>15</td>\n",
       "      <td>14</td>\n",
       "      <td>17</td>\n",
       "    </tr>\n",
       "    <tr>\n",
       "      <th>302</th>\n",
       "      <td>1</td>\n",
       "      <td>0.428571</td>\n",
       "      <td>0</td>\n",
       "      <td>0</td>\n",
       "      <td>1</td>\n",
       "      <td>0.75</td>\n",
       "      <td>0.50</td>\n",
       "      <td>0.000000</td>\n",
       "      <td>0.666667</td>\n",
       "      <td>0.0</td>\n",
       "      <td>...</td>\n",
       "      <td>0</td>\n",
       "      <td>0</td>\n",
       "      <td>0</td>\n",
       "      <td>0</td>\n",
       "      <td>1</td>\n",
       "      <td>0</td>\n",
       "      <td>0.0</td>\n",
       "      <td>10</td>\n",
       "      <td>11</td>\n",
       "      <td>12</td>\n",
       "    </tr>\n",
       "    <tr>\n",
       "      <th>521</th>\n",
       "      <td>0</td>\n",
       "      <td>0.142857</td>\n",
       "      <td>0</td>\n",
       "      <td>0</td>\n",
       "      <td>1</td>\n",
       "      <td>0.50</td>\n",
       "      <td>0.75</td>\n",
       "      <td>0.333333</td>\n",
       "      <td>0.333333</td>\n",
       "      <td>0.0</td>\n",
       "      <td>...</td>\n",
       "      <td>0</td>\n",
       "      <td>1</td>\n",
       "      <td>0</td>\n",
       "      <td>0</td>\n",
       "      <td>1</td>\n",
       "      <td>0</td>\n",
       "      <td>0.0</td>\n",
       "      <td>8</td>\n",
       "      <td>10</td>\n",
       "      <td>10</td>\n",
       "    </tr>\n",
       "    <tr>\n",
       "      <th>157</th>\n",
       "      <td>0</td>\n",
       "      <td>0.000000</td>\n",
       "      <td>1</td>\n",
       "      <td>1</td>\n",
       "      <td>0</td>\n",
       "      <td>0.50</td>\n",
       "      <td>0.25</td>\n",
       "      <td>0.333333</td>\n",
       "      <td>0.000000</td>\n",
       "      <td>0.0</td>\n",
       "      <td>...</td>\n",
       "      <td>1</td>\n",
       "      <td>0</td>\n",
       "      <td>0</td>\n",
       "      <td>0</td>\n",
       "      <td>1</td>\n",
       "      <td>0</td>\n",
       "      <td>0.0</td>\n",
       "      <td>11</td>\n",
       "      <td>10</td>\n",
       "      <td>10</td>\n",
       "    </tr>\n",
       "  </tbody>\n",
       "</table>\n",
       "<p>5 rows × 46 columns</p>\n",
       "</div>"
      ],
      "text/plain": [
       "     sex       age  address  famsize  Pstatus  Medu  Fedu  traveltime  \\\n",
       "625    0  0.428571        1        0        1  0.50  0.75    0.333333   \n",
       "365    0  0.285714        1        0        0  1.00  0.75    0.000000   \n",
       "302    1  0.428571        0        0        1  0.75  0.50    0.000000   \n",
       "521    0  0.142857        0        0        1  0.50  0.75    0.333333   \n",
       "157    0  0.000000        1        1        0  0.50  0.25    0.333333   \n",
       "\n",
       "     studytime  failures  ...  reason_home  reason_other  reason_reputation  \\\n",
       "625   0.000000       0.0  ...            0             0                  0   \n",
       "365   0.333333       0.0  ...            0             0                  0   \n",
       "302   0.666667       0.0  ...            0             0                  0   \n",
       "521   0.333333       0.0  ...            0             1                  0   \n",
       "157   0.000000       0.0  ...            1             0                  0   \n",
       "\n",
       "     guardian_father  guardian_mother  guardian_other  fail  G1  G2  G3  \n",
       "625                1                0               0   0.0  10  10  10  \n",
       "365                0                1               0   0.0  15  14  17  \n",
       "302                0                1               0   0.0  10  11  12  \n",
       "521                0                1               0   0.0   8  10  10  \n",
       "157                0                1               0   0.0  11  10  10  \n",
       "\n",
       "[5 rows x 46 columns]"
      ]
     },
     "execution_count": 34,
     "metadata": {},
     "output_type": "execute_result"
    }
   ],
   "source": [
    "train_df.head()"
   ]
  },
  {
   "cell_type": "code",
   "execution_count": 35,
   "id": "a346df12",
   "metadata": {},
   "outputs": [
    {
     "data": {
      "text/html": [
       "<div>\n",
       "<style scoped>\n",
       "    .dataframe tbody tr th:only-of-type {\n",
       "        vertical-align: middle;\n",
       "    }\n",
       "\n",
       "    .dataframe tbody tr th {\n",
       "        vertical-align: top;\n",
       "    }\n",
       "\n",
       "    .dataframe thead th {\n",
       "        text-align: right;\n",
       "    }\n",
       "</style>\n",
       "<table border=\"1\" class=\"dataframe\">\n",
       "  <thead>\n",
       "    <tr style=\"text-align: right;\">\n",
       "      <th></th>\n",
       "      <th>sex</th>\n",
       "      <th>age</th>\n",
       "      <th>address</th>\n",
       "      <th>famsize</th>\n",
       "      <th>Pstatus</th>\n",
       "      <th>Medu</th>\n",
       "      <th>Fedu</th>\n",
       "      <th>traveltime</th>\n",
       "      <th>studytime</th>\n",
       "      <th>failures</th>\n",
       "      <th>...</th>\n",
       "      <th>Fjob_services</th>\n",
       "      <th>Fjob_teacher</th>\n",
       "      <th>reason_course</th>\n",
       "      <th>reason_home</th>\n",
       "      <th>reason_other</th>\n",
       "      <th>reason_reputation</th>\n",
       "      <th>guardian_father</th>\n",
       "      <th>guardian_mother</th>\n",
       "      <th>guardian_other</th>\n",
       "      <th>fail</th>\n",
       "    </tr>\n",
       "  </thead>\n",
       "  <tbody>\n",
       "    <tr>\n",
       "      <th>625</th>\n",
       "      <td>0</td>\n",
       "      <td>0.428571</td>\n",
       "      <td>1</td>\n",
       "      <td>0</td>\n",
       "      <td>1</td>\n",
       "      <td>0.50</td>\n",
       "      <td>0.75</td>\n",
       "      <td>0.333333</td>\n",
       "      <td>0.000000</td>\n",
       "      <td>0.000000</td>\n",
       "      <td>...</td>\n",
       "      <td>1</td>\n",
       "      <td>0</td>\n",
       "      <td>1</td>\n",
       "      <td>0</td>\n",
       "      <td>0</td>\n",
       "      <td>0</td>\n",
       "      <td>1</td>\n",
       "      <td>0</td>\n",
       "      <td>0</td>\n",
       "      <td>0.0</td>\n",
       "    </tr>\n",
       "    <tr>\n",
       "      <th>365</th>\n",
       "      <td>0</td>\n",
       "      <td>0.285714</td>\n",
       "      <td>1</td>\n",
       "      <td>0</td>\n",
       "      <td>0</td>\n",
       "      <td>1.00</td>\n",
       "      <td>0.75</td>\n",
       "      <td>0.000000</td>\n",
       "      <td>0.333333</td>\n",
       "      <td>0.000000</td>\n",
       "      <td>...</td>\n",
       "      <td>1</td>\n",
       "      <td>0</td>\n",
       "      <td>1</td>\n",
       "      <td>0</td>\n",
       "      <td>0</td>\n",
       "      <td>0</td>\n",
       "      <td>0</td>\n",
       "      <td>1</td>\n",
       "      <td>0</td>\n",
       "      <td>0.0</td>\n",
       "    </tr>\n",
       "    <tr>\n",
       "      <th>302</th>\n",
       "      <td>1</td>\n",
       "      <td>0.428571</td>\n",
       "      <td>0</td>\n",
       "      <td>0</td>\n",
       "      <td>1</td>\n",
       "      <td>0.75</td>\n",
       "      <td>0.50</td>\n",
       "      <td>0.000000</td>\n",
       "      <td>0.666667</td>\n",
       "      <td>0.000000</td>\n",
       "      <td>...</td>\n",
       "      <td>0</td>\n",
       "      <td>0</td>\n",
       "      <td>1</td>\n",
       "      <td>0</td>\n",
       "      <td>0</td>\n",
       "      <td>0</td>\n",
       "      <td>0</td>\n",
       "      <td>1</td>\n",
       "      <td>0</td>\n",
       "      <td>0.0</td>\n",
       "    </tr>\n",
       "    <tr>\n",
       "      <th>521</th>\n",
       "      <td>0</td>\n",
       "      <td>0.142857</td>\n",
       "      <td>0</td>\n",
       "      <td>0</td>\n",
       "      <td>1</td>\n",
       "      <td>0.50</td>\n",
       "      <td>0.75</td>\n",
       "      <td>0.333333</td>\n",
       "      <td>0.333333</td>\n",
       "      <td>0.000000</td>\n",
       "      <td>...</td>\n",
       "      <td>1</td>\n",
       "      <td>0</td>\n",
       "      <td>0</td>\n",
       "      <td>0</td>\n",
       "      <td>1</td>\n",
       "      <td>0</td>\n",
       "      <td>0</td>\n",
       "      <td>1</td>\n",
       "      <td>0</td>\n",
       "      <td>0.0</td>\n",
       "    </tr>\n",
       "    <tr>\n",
       "      <th>157</th>\n",
       "      <td>0</td>\n",
       "      <td>0.000000</td>\n",
       "      <td>1</td>\n",
       "      <td>1</td>\n",
       "      <td>0</td>\n",
       "      <td>0.50</td>\n",
       "      <td>0.25</td>\n",
       "      <td>0.333333</td>\n",
       "      <td>0.000000</td>\n",
       "      <td>0.000000</td>\n",
       "      <td>...</td>\n",
       "      <td>0</td>\n",
       "      <td>0</td>\n",
       "      <td>0</td>\n",
       "      <td>1</td>\n",
       "      <td>0</td>\n",
       "      <td>0</td>\n",
       "      <td>0</td>\n",
       "      <td>1</td>\n",
       "      <td>0</td>\n",
       "      <td>0.0</td>\n",
       "    </tr>\n",
       "    <tr>\n",
       "      <th>...</th>\n",
       "      <td>...</td>\n",
       "      <td>...</td>\n",
       "      <td>...</td>\n",
       "      <td>...</td>\n",
       "      <td>...</td>\n",
       "      <td>...</td>\n",
       "      <td>...</td>\n",
       "      <td>...</td>\n",
       "      <td>...</td>\n",
       "      <td>...</td>\n",
       "      <td>...</td>\n",
       "      <td>...</td>\n",
       "      <td>...</td>\n",
       "      <td>...</td>\n",
       "      <td>...</td>\n",
       "      <td>...</td>\n",
       "      <td>...</td>\n",
       "      <td>...</td>\n",
       "      <td>...</td>\n",
       "      <td>...</td>\n",
       "      <td>...</td>\n",
       "    </tr>\n",
       "    <tr>\n",
       "      <th>425</th>\n",
       "      <td>0</td>\n",
       "      <td>0.000000</td>\n",
       "      <td>0</td>\n",
       "      <td>0</td>\n",
       "      <td>1</td>\n",
       "      <td>0.25</td>\n",
       "      <td>0.25</td>\n",
       "      <td>0.000000</td>\n",
       "      <td>0.000000</td>\n",
       "      <td>0.333333</td>\n",
       "      <td>...</td>\n",
       "      <td>1</td>\n",
       "      <td>0</td>\n",
       "      <td>0</td>\n",
       "      <td>0</td>\n",
       "      <td>1</td>\n",
       "      <td>0</td>\n",
       "      <td>0</td>\n",
       "      <td>1</td>\n",
       "      <td>0</td>\n",
       "      <td>0.0</td>\n",
       "    </tr>\n",
       "    <tr>\n",
       "      <th>12</th>\n",
       "      <td>1</td>\n",
       "      <td>0.000000</td>\n",
       "      <td>1</td>\n",
       "      <td>1</td>\n",
       "      <td>1</td>\n",
       "      <td>1.00</td>\n",
       "      <td>1.00</td>\n",
       "      <td>0.000000</td>\n",
       "      <td>0.000000</td>\n",
       "      <td>0.000000</td>\n",
       "      <td>...</td>\n",
       "      <td>1</td>\n",
       "      <td>0</td>\n",
       "      <td>1</td>\n",
       "      <td>0</td>\n",
       "      <td>0</td>\n",
       "      <td>0</td>\n",
       "      <td>1</td>\n",
       "      <td>0</td>\n",
       "      <td>0</td>\n",
       "      <td>0.0</td>\n",
       "    </tr>\n",
       "    <tr>\n",
       "      <th>290</th>\n",
       "      <td>0</td>\n",
       "      <td>0.571429</td>\n",
       "      <td>1</td>\n",
       "      <td>0</td>\n",
       "      <td>1</td>\n",
       "      <td>0.50</td>\n",
       "      <td>0.50</td>\n",
       "      <td>0.000000</td>\n",
       "      <td>0.333333</td>\n",
       "      <td>0.000000</td>\n",
       "      <td>...</td>\n",
       "      <td>1</td>\n",
       "      <td>0</td>\n",
       "      <td>0</td>\n",
       "      <td>1</td>\n",
       "      <td>0</td>\n",
       "      <td>0</td>\n",
       "      <td>0</td>\n",
       "      <td>1</td>\n",
       "      <td>0</td>\n",
       "      <td>0.0</td>\n",
       "    </tr>\n",
       "    <tr>\n",
       "      <th>107</th>\n",
       "      <td>1</td>\n",
       "      <td>0.142857</td>\n",
       "      <td>1</td>\n",
       "      <td>0</td>\n",
       "      <td>1</td>\n",
       "      <td>0.75</td>\n",
       "      <td>0.75</td>\n",
       "      <td>0.000000</td>\n",
       "      <td>0.666667</td>\n",
       "      <td>0.000000</td>\n",
       "      <td>...</td>\n",
       "      <td>0</td>\n",
       "      <td>0</td>\n",
       "      <td>0</td>\n",
       "      <td>1</td>\n",
       "      <td>0</td>\n",
       "      <td>0</td>\n",
       "      <td>1</td>\n",
       "      <td>0</td>\n",
       "      <td>0</td>\n",
       "      <td>0.0</td>\n",
       "    </tr>\n",
       "    <tr>\n",
       "      <th>52</th>\n",
       "      <td>1</td>\n",
       "      <td>0.000000</td>\n",
       "      <td>1</td>\n",
       "      <td>1</td>\n",
       "      <td>0</td>\n",
       "      <td>1.00</td>\n",
       "      <td>0.50</td>\n",
       "      <td>0.333333</td>\n",
       "      <td>0.000000</td>\n",
       "      <td>0.000000</td>\n",
       "      <td>...</td>\n",
       "      <td>0</td>\n",
       "      <td>0</td>\n",
       "      <td>0</td>\n",
       "      <td>0</td>\n",
       "      <td>1</td>\n",
       "      <td>0</td>\n",
       "      <td>1</td>\n",
       "      <td>0</td>\n",
       "      <td>0</td>\n",
       "      <td>0.0</td>\n",
       "    </tr>\n",
       "  </tbody>\n",
       "</table>\n",
       "<p>735 rows × 43 columns</p>\n",
       "</div>"
      ],
      "text/plain": [
       "     sex       age  address  famsize  Pstatus  Medu  Fedu  traveltime  \\\n",
       "625    0  0.428571        1        0        1  0.50  0.75    0.333333   \n",
       "365    0  0.285714        1        0        0  1.00  0.75    0.000000   \n",
       "302    1  0.428571        0        0        1  0.75  0.50    0.000000   \n",
       "521    0  0.142857        0        0        1  0.50  0.75    0.333333   \n",
       "157    0  0.000000        1        1        0  0.50  0.25    0.333333   \n",
       "..   ...       ...      ...      ...      ...   ...   ...         ...   \n",
       "425    0  0.000000        0        0        1  0.25  0.25    0.000000   \n",
       "12     1  0.000000        1        1        1  1.00  1.00    0.000000   \n",
       "290    0  0.571429        1        0        1  0.50  0.50    0.000000   \n",
       "107    1  0.142857        1        0        1  0.75  0.75    0.000000   \n",
       "52     1  0.000000        1        1        0  1.00  0.50    0.333333   \n",
       "\n",
       "     studytime  failures  ...  Fjob_services  Fjob_teacher  reason_course  \\\n",
       "625   0.000000  0.000000  ...              1             0              1   \n",
       "365   0.333333  0.000000  ...              1             0              1   \n",
       "302   0.666667  0.000000  ...              0             0              1   \n",
       "521   0.333333  0.000000  ...              1             0              0   \n",
       "157   0.000000  0.000000  ...              0             0              0   \n",
       "..         ...       ...  ...            ...           ...            ...   \n",
       "425   0.000000  0.333333  ...              1             0              0   \n",
       "12    0.000000  0.000000  ...              1             0              1   \n",
       "290   0.333333  0.000000  ...              1             0              0   \n",
       "107   0.666667  0.000000  ...              0             0              0   \n",
       "52    0.000000  0.000000  ...              0             0              0   \n",
       "\n",
       "     reason_home  reason_other  reason_reputation  guardian_father  \\\n",
       "625            0             0                  0                1   \n",
       "365            0             0                  0                0   \n",
       "302            0             0                  0                0   \n",
       "521            0             1                  0                0   \n",
       "157            1             0                  0                0   \n",
       "..           ...           ...                ...              ...   \n",
       "425            0             1                  0                0   \n",
       "12             0             0                  0                1   \n",
       "290            1             0                  0                0   \n",
       "107            1             0                  0                1   \n",
       "52             0             1                  0                1   \n",
       "\n",
       "     guardian_mother  guardian_other  fail  \n",
       "625                0               0   0.0  \n",
       "365                1               0   0.0  \n",
       "302                1               0   0.0  \n",
       "521                1               0   0.0  \n",
       "157                1               0   0.0  \n",
       "..               ...             ...   ...  \n",
       "425                1               0   0.0  \n",
       "12                 0               0   0.0  \n",
       "290                1               0   0.0  \n",
       "107                0               0   0.0  \n",
       "52                 0               0   0.0  \n",
       "\n",
       "[735 rows x 43 columns]"
      ]
     },
     "execution_count": 35,
     "metadata": {},
     "output_type": "execute_result"
    }
   ],
   "source": [
    "X_train"
   ]
  },
  {
   "cell_type": "code",
   "execution_count": 36,
   "id": "2c86788e",
   "metadata": {},
   "outputs": [
    {
     "data": {
      "text/html": [
       "<div>\n",
       "<style scoped>\n",
       "    .dataframe tbody tr th:only-of-type {\n",
       "        vertical-align: middle;\n",
       "    }\n",
       "\n",
       "    .dataframe tbody tr th {\n",
       "        vertical-align: top;\n",
       "    }\n",
       "\n",
       "    .dataframe thead th {\n",
       "        text-align: right;\n",
       "    }\n",
       "</style>\n",
       "<table border=\"1\" class=\"dataframe\">\n",
       "  <thead>\n",
       "    <tr style=\"text-align: right;\">\n",
       "      <th></th>\n",
       "      <th>sex</th>\n",
       "      <th>age</th>\n",
       "      <th>address</th>\n",
       "      <th>famsize</th>\n",
       "      <th>Pstatus</th>\n",
       "      <th>Medu</th>\n",
       "      <th>Fedu</th>\n",
       "      <th>traveltime</th>\n",
       "      <th>studytime</th>\n",
       "      <th>failures</th>\n",
       "      <th>...</th>\n",
       "      <th>Fjob_services</th>\n",
       "      <th>Fjob_teacher</th>\n",
       "      <th>reason_course</th>\n",
       "      <th>reason_home</th>\n",
       "      <th>reason_other</th>\n",
       "      <th>reason_reputation</th>\n",
       "      <th>guardian_father</th>\n",
       "      <th>guardian_mother</th>\n",
       "      <th>guardian_other</th>\n",
       "      <th>fail</th>\n",
       "    </tr>\n",
       "  </thead>\n",
       "  <tbody>\n",
       "    <tr>\n",
       "      <th>89</th>\n",
       "      <td>1</td>\n",
       "      <td>0.142857</td>\n",
       "      <td>1</td>\n",
       "      <td>1</td>\n",
       "      <td>0</td>\n",
       "      <td>1.00</td>\n",
       "      <td>1.00</td>\n",
       "      <td>0.000000</td>\n",
       "      <td>0.333333</td>\n",
       "      <td>0.000000</td>\n",
       "      <td>...</td>\n",
       "      <td>0</td>\n",
       "      <td>0</td>\n",
       "      <td>0</td>\n",
       "      <td>0</td>\n",
       "      <td>0</td>\n",
       "      <td>1</td>\n",
       "      <td>0</td>\n",
       "      <td>1</td>\n",
       "      <td>0</td>\n",
       "      <td>0.000000</td>\n",
       "    </tr>\n",
       "    <tr>\n",
       "      <th>192</th>\n",
       "      <td>1</td>\n",
       "      <td>0.142857</td>\n",
       "      <td>0</td>\n",
       "      <td>0</td>\n",
       "      <td>1</td>\n",
       "      <td>1.00</td>\n",
       "      <td>0.50</td>\n",
       "      <td>0.000000</td>\n",
       "      <td>0.000000</td>\n",
       "      <td>0.000000</td>\n",
       "      <td>...</td>\n",
       "      <td>1</td>\n",
       "      <td>0</td>\n",
       "      <td>0</td>\n",
       "      <td>0</td>\n",
       "      <td>1</td>\n",
       "      <td>0</td>\n",
       "      <td>0</td>\n",
       "      <td>1</td>\n",
       "      <td>0</td>\n",
       "      <td>0.000000</td>\n",
       "    </tr>\n",
       "    <tr>\n",
       "      <th>185</th>\n",
       "      <td>1</td>\n",
       "      <td>0.285714</td>\n",
       "      <td>1</td>\n",
       "      <td>0</td>\n",
       "      <td>1</td>\n",
       "      <td>0.75</td>\n",
       "      <td>0.75</td>\n",
       "      <td>0.000000</td>\n",
       "      <td>0.333333</td>\n",
       "      <td>0.000000</td>\n",
       "      <td>...</td>\n",
       "      <td>1</td>\n",
       "      <td>0</td>\n",
       "      <td>0</td>\n",
       "      <td>0</td>\n",
       "      <td>1</td>\n",
       "      <td>0</td>\n",
       "      <td>0</td>\n",
       "      <td>1</td>\n",
       "      <td>0</td>\n",
       "      <td>0.000000</td>\n",
       "    </tr>\n",
       "    <tr>\n",
       "      <th>394</th>\n",
       "      <td>0</td>\n",
       "      <td>0.285714</td>\n",
       "      <td>0</td>\n",
       "      <td>0</td>\n",
       "      <td>0</td>\n",
       "      <td>0.75</td>\n",
       "      <td>0.50</td>\n",
       "      <td>0.000000</td>\n",
       "      <td>0.333333</td>\n",
       "      <td>0.000000</td>\n",
       "      <td>...</td>\n",
       "      <td>0</td>\n",
       "      <td>0</td>\n",
       "      <td>0</td>\n",
       "      <td>1</td>\n",
       "      <td>0</td>\n",
       "      <td>0</td>\n",
       "      <td>0</td>\n",
       "      <td>1</td>\n",
       "      <td>0</td>\n",
       "      <td>0.000000</td>\n",
       "    </tr>\n",
       "    <tr>\n",
       "      <th>493</th>\n",
       "      <td>0</td>\n",
       "      <td>0.285714</td>\n",
       "      <td>1</td>\n",
       "      <td>0</td>\n",
       "      <td>1</td>\n",
       "      <td>0.00</td>\n",
       "      <td>0.25</td>\n",
       "      <td>0.333333</td>\n",
       "      <td>0.000000</td>\n",
       "      <td>0.000000</td>\n",
       "      <td>...</td>\n",
       "      <td>0</td>\n",
       "      <td>0</td>\n",
       "      <td>1</td>\n",
       "      <td>0</td>\n",
       "      <td>0</td>\n",
       "      <td>0</td>\n",
       "      <td>1</td>\n",
       "      <td>0</td>\n",
       "      <td>0</td>\n",
       "      <td>0.000000</td>\n",
       "    </tr>\n",
       "    <tr>\n",
       "      <th>...</th>\n",
       "      <td>...</td>\n",
       "      <td>...</td>\n",
       "      <td>...</td>\n",
       "      <td>...</td>\n",
       "      <td>...</td>\n",
       "      <td>...</td>\n",
       "      <td>...</td>\n",
       "      <td>...</td>\n",
       "      <td>...</td>\n",
       "      <td>...</td>\n",
       "      <td>...</td>\n",
       "      <td>...</td>\n",
       "      <td>...</td>\n",
       "      <td>...</td>\n",
       "      <td>...</td>\n",
       "      <td>...</td>\n",
       "      <td>...</td>\n",
       "      <td>...</td>\n",
       "      <td>...</td>\n",
       "      <td>...</td>\n",
       "      <td>...</td>\n",
       "    </tr>\n",
       "    <tr>\n",
       "      <th>529</th>\n",
       "      <td>0</td>\n",
       "      <td>0.142857</td>\n",
       "      <td>1</td>\n",
       "      <td>1</td>\n",
       "      <td>1</td>\n",
       "      <td>1.00</td>\n",
       "      <td>1.00</td>\n",
       "      <td>0.333333</td>\n",
       "      <td>0.000000</td>\n",
       "      <td>0.000000</td>\n",
       "      <td>...</td>\n",
       "      <td>1</td>\n",
       "      <td>0</td>\n",
       "      <td>0</td>\n",
       "      <td>0</td>\n",
       "      <td>1</td>\n",
       "      <td>0</td>\n",
       "      <td>1</td>\n",
       "      <td>0</td>\n",
       "      <td>0</td>\n",
       "      <td>0.000000</td>\n",
       "    </tr>\n",
       "    <tr>\n",
       "      <th>280</th>\n",
       "      <td>1</td>\n",
       "      <td>0.428571</td>\n",
       "      <td>0</td>\n",
       "      <td>1</td>\n",
       "      <td>1</td>\n",
       "      <td>0.75</td>\n",
       "      <td>0.75</td>\n",
       "      <td>0.000000</td>\n",
       "      <td>0.333333</td>\n",
       "      <td>0.000000</td>\n",
       "      <td>...</td>\n",
       "      <td>1</td>\n",
       "      <td>0</td>\n",
       "      <td>1</td>\n",
       "      <td>0</td>\n",
       "      <td>0</td>\n",
       "      <td>0</td>\n",
       "      <td>0</td>\n",
       "      <td>1</td>\n",
       "      <td>0</td>\n",
       "      <td>0.000000</td>\n",
       "    </tr>\n",
       "    <tr>\n",
       "      <th>444</th>\n",
       "      <td>1</td>\n",
       "      <td>0.142857</td>\n",
       "      <td>0</td>\n",
       "      <td>0</td>\n",
       "      <td>1</td>\n",
       "      <td>0.75</td>\n",
       "      <td>1.00</td>\n",
       "      <td>0.666667</td>\n",
       "      <td>0.333333</td>\n",
       "      <td>0.000000</td>\n",
       "      <td>...</td>\n",
       "      <td>0</td>\n",
       "      <td>0</td>\n",
       "      <td>0</td>\n",
       "      <td>0</td>\n",
       "      <td>1</td>\n",
       "      <td>0</td>\n",
       "      <td>0</td>\n",
       "      <td>1</td>\n",
       "      <td>0</td>\n",
       "      <td>0.000000</td>\n",
       "    </tr>\n",
       "    <tr>\n",
       "      <th>307</th>\n",
       "      <td>1</td>\n",
       "      <td>0.571429</td>\n",
       "      <td>1</td>\n",
       "      <td>0</td>\n",
       "      <td>1</td>\n",
       "      <td>1.00</td>\n",
       "      <td>1.00</td>\n",
       "      <td>0.333333</td>\n",
       "      <td>0.000000</td>\n",
       "      <td>0.333333</td>\n",
       "      <td>...</td>\n",
       "      <td>1</td>\n",
       "      <td>0</td>\n",
       "      <td>0</td>\n",
       "      <td>0</td>\n",
       "      <td>0</td>\n",
       "      <td>1</td>\n",
       "      <td>0</td>\n",
       "      <td>0</td>\n",
       "      <td>1</td>\n",
       "      <td>0.111111</td>\n",
       "    </tr>\n",
       "    <tr>\n",
       "      <th>448</th>\n",
       "      <td>0</td>\n",
       "      <td>0.142857</td>\n",
       "      <td>0</td>\n",
       "      <td>0</td>\n",
       "      <td>1</td>\n",
       "      <td>1.00</td>\n",
       "      <td>1.00</td>\n",
       "      <td>0.333333</td>\n",
       "      <td>0.666667</td>\n",
       "      <td>0.000000</td>\n",
       "      <td>...</td>\n",
       "      <td>0</td>\n",
       "      <td>1</td>\n",
       "      <td>1</td>\n",
       "      <td>0</td>\n",
       "      <td>0</td>\n",
       "      <td>0</td>\n",
       "      <td>0</td>\n",
       "      <td>1</td>\n",
       "      <td>0</td>\n",
       "      <td>0.000000</td>\n",
       "    </tr>\n",
       "  </tbody>\n",
       "</table>\n",
       "<p>245 rows × 43 columns</p>\n",
       "</div>"
      ],
      "text/plain": [
       "     sex       age  address  famsize  Pstatus  Medu  Fedu  traveltime  \\\n",
       "89     1  0.142857        1        1        0  1.00  1.00    0.000000   \n",
       "192    1  0.142857        0        0        1  1.00  0.50    0.000000   \n",
       "185    1  0.285714        1        0        1  0.75  0.75    0.000000   \n",
       "394    0  0.285714        0        0        0  0.75  0.50    0.000000   \n",
       "493    0  0.285714        1        0        1  0.00  0.25    0.333333   \n",
       "..   ...       ...      ...      ...      ...   ...   ...         ...   \n",
       "529    0  0.142857        1        1        1  1.00  1.00    0.333333   \n",
       "280    1  0.428571        0        1        1  0.75  0.75    0.000000   \n",
       "444    1  0.142857        0        0        1  0.75  1.00    0.666667   \n",
       "307    1  0.571429        1        0        1  1.00  1.00    0.333333   \n",
       "448    0  0.142857        0        0        1  1.00  1.00    0.333333   \n",
       "\n",
       "     studytime  failures  ...  Fjob_services  Fjob_teacher  reason_course  \\\n",
       "89    0.333333  0.000000  ...              0             0              0   \n",
       "192   0.000000  0.000000  ...              1             0              0   \n",
       "185   0.333333  0.000000  ...              1             0              0   \n",
       "394   0.333333  0.000000  ...              0             0              0   \n",
       "493   0.000000  0.000000  ...              0             0              1   \n",
       "..         ...       ...  ...            ...           ...            ...   \n",
       "529   0.000000  0.000000  ...              1             0              0   \n",
       "280   0.333333  0.000000  ...              1             0              1   \n",
       "444   0.333333  0.000000  ...              0             0              0   \n",
       "307   0.000000  0.333333  ...              1             0              0   \n",
       "448   0.666667  0.000000  ...              0             1              1   \n",
       "\n",
       "     reason_home  reason_other  reason_reputation  guardian_father  \\\n",
       "89             0             0                  1                0   \n",
       "192            0             1                  0                0   \n",
       "185            0             1                  0                0   \n",
       "394            1             0                  0                0   \n",
       "493            0             0                  0                1   \n",
       "..           ...           ...                ...              ...   \n",
       "529            0             1                  0                1   \n",
       "280            0             0                  0                0   \n",
       "444            0             1                  0                0   \n",
       "307            0             0                  1                0   \n",
       "448            0             0                  0                0   \n",
       "\n",
       "     guardian_mother  guardian_other      fail  \n",
       "89                 1               0  0.000000  \n",
       "192                1               0  0.000000  \n",
       "185                1               0  0.000000  \n",
       "394                1               0  0.000000  \n",
       "493                0               0  0.000000  \n",
       "..               ...             ...       ...  \n",
       "529                0               0  0.000000  \n",
       "280                1               0  0.000000  \n",
       "444                1               0  0.000000  \n",
       "307                0               1  0.111111  \n",
       "448                1               0  0.000000  \n",
       "\n",
       "[245 rows x 43 columns]"
      ]
     },
     "execution_count": 36,
     "metadata": {},
     "output_type": "execute_result"
    }
   ],
   "source": [
    "X_test"
   ]
  },
  {
   "cell_type": "code",
   "execution_count": 37,
   "id": "06bed21f",
   "metadata": {},
   "outputs": [
    {
     "data": {
      "text/html": [
       "<div>\n",
       "<style scoped>\n",
       "    .dataframe tbody tr th:only-of-type {\n",
       "        vertical-align: middle;\n",
       "    }\n",
       "\n",
       "    .dataframe tbody tr th {\n",
       "        vertical-align: top;\n",
       "    }\n",
       "\n",
       "    .dataframe thead th {\n",
       "        text-align: right;\n",
       "    }\n",
       "</style>\n",
       "<table border=\"1\" class=\"dataframe\">\n",
       "  <thead>\n",
       "    <tr style=\"text-align: right;\">\n",
       "      <th></th>\n",
       "      <th>G1</th>\n",
       "      <th>G2</th>\n",
       "      <th>G3</th>\n",
       "    </tr>\n",
       "  </thead>\n",
       "  <tbody>\n",
       "    <tr>\n",
       "      <th>89</th>\n",
       "      <td>9</td>\n",
       "      <td>9</td>\n",
       "      <td>10</td>\n",
       "    </tr>\n",
       "    <tr>\n",
       "      <th>192</th>\n",
       "      <td>10</td>\n",
       "      <td>9</td>\n",
       "      <td>11</td>\n",
       "    </tr>\n",
       "    <tr>\n",
       "      <th>185</th>\n",
       "      <td>12</td>\n",
       "      <td>12</td>\n",
       "      <td>11</td>\n",
       "    </tr>\n",
       "    <tr>\n",
       "      <th>394</th>\n",
       "      <td>14</td>\n",
       "      <td>14</td>\n",
       "      <td>16</td>\n",
       "    </tr>\n",
       "    <tr>\n",
       "      <th>493</th>\n",
       "      <td>9</td>\n",
       "      <td>9</td>\n",
       "      <td>10</td>\n",
       "    </tr>\n",
       "    <tr>\n",
       "      <th>...</th>\n",
       "      <td>...</td>\n",
       "      <td>...</td>\n",
       "      <td>...</td>\n",
       "    </tr>\n",
       "    <tr>\n",
       "      <th>529</th>\n",
       "      <td>11</td>\n",
       "      <td>11</td>\n",
       "      <td>11</td>\n",
       "    </tr>\n",
       "    <tr>\n",
       "      <th>280</th>\n",
       "      <td>10</td>\n",
       "      <td>9</td>\n",
       "      <td>10</td>\n",
       "    </tr>\n",
       "    <tr>\n",
       "      <th>444</th>\n",
       "      <td>9</td>\n",
       "      <td>10</td>\n",
       "      <td>11</td>\n",
       "    </tr>\n",
       "    <tr>\n",
       "      <th>307</th>\n",
       "      <td>8</td>\n",
       "      <td>9</td>\n",
       "      <td>8</td>\n",
       "    </tr>\n",
       "    <tr>\n",
       "      <th>448</th>\n",
       "      <td>16</td>\n",
       "      <td>16</td>\n",
       "      <td>17</td>\n",
       "    </tr>\n",
       "  </tbody>\n",
       "</table>\n",
       "<p>245 rows × 3 columns</p>\n",
       "</div>"
      ],
      "text/plain": [
       "     G1  G2  G3\n",
       "89    9   9  10\n",
       "192  10   9  11\n",
       "185  12  12  11\n",
       "394  14  14  16\n",
       "493   9   9  10\n",
       "..   ..  ..  ..\n",
       "529  11  11  11\n",
       "280  10   9  10\n",
       "444   9  10  11\n",
       "307   8   9   8\n",
       "448  16  16  17\n",
       "\n",
       "[245 rows x 3 columns]"
      ]
     },
     "execution_count": 37,
     "metadata": {},
     "output_type": "execute_result"
    }
   ],
   "source": [
    "y_test"
   ]
  },
  {
   "cell_type": "code",
   "execution_count": 57,
   "id": "40ee6e28",
   "metadata": {},
   "outputs": [
    {
     "data": {
      "text/plain": [
       "0.16326530612244897"
      ]
     },
     "execution_count": 57,
     "metadata": {},
     "output_type": "execute_result"
    }
   ],
   "source": [
    "clf = linear_model.LogisticRegression(penalty='l2')\n",
    "clf.fit(X_train, y_train['G3'])\n",
    "clf.score(X_test, y_test['G3'])"
   ]
  },
  {
   "cell_type": "code",
   "execution_count": 76,
   "id": "f5464b34",
   "metadata": {},
   "outputs": [
    {
     "name": "stdout",
     "output_type": "stream",
     "text": [
      "0.1510204081632653\n"
     ]
    }
   ],
   "source": [
    "clf = linear_model.LogisticRegression(penalty='l1',solver='saga')\n",
    "clf.fit(X_train, y_train['G3'])\n",
    "print(clf.score(X_test, y_test['G3']))\n",
    "log_pred = clf.predict(X_test)"
   ]
  },
  {
   "cell_type": "code",
   "execution_count": 40,
   "id": "dc55aff9",
   "metadata": {},
   "outputs": [
    {
     "data": {
      "text/plain": [
       "array([12, 12, 12, 13, 11, 10, 11, 15, 10, 11, 13, 13,  8, 15, 11, 11, 14,\n",
       "       10, 15, 10, 10, 10, 10, 15,  8, 10, 11,  8, 13, 15,  9, 10, 14, 15,\n",
       "       11, 11, 11, 14, 13, 17, 11, 11, 10, 11, 13, 14, 13,  9, 10, 13, 11,\n",
       "       12, 13, 13, 15, 13, 12, 11, 12, 13, 14, 10, 11, 11, 14,  8, 10,  8,\n",
       "       11, 11, 13, 10, 10, 11, 15, 14, 10, 11, 14, 13, 11, 14, 15, 14, 10,\n",
       "       13, 10, 11, 12, 11, 13, 15, 12, 12, 13, 10, 12, 10, 13, 11, 12, 13,\n",
       "       11, 11, 10, 15, 12, 10,  9,  8,  8, 11, 11,  8, 11, 13, 11, 11, 14,\n",
       "        8, 16,  8, 10, 10, 15, 10, 15, 14, 12, 10, 10, 10, 12, 13, 11, 11,\n",
       "       14, 10, 13, 11, 10, 10, 11, 15, 11, 10, 13, 15, 11, 12, 11,  8, 15,\n",
       "       13, 11, 10, 18,  7, 11, 11, 18, 11, 12, 15, 10, 17, 10, 10, 11, 11,\n",
       "       15, 11, 11, 16, 13, 11, 11, 11, 14, 12, 15, 10, 11, 15, 11, 14, 12,\n",
       "        8,  9, 15, 11, 13, 16, 13, 10, 13, 10, 10, 15, 11, 14, 15, 12, 15,\n",
       "       10, 10, 15, 13, 16, 14, 11,  8, 12, 14, 12, 10, 14, 10, 14,  8,  8,\n",
       "       11, 14, 10, 15, 10, 14, 13, 11, 13, 11, 11, 10, 13, 16, 12, 13, 14,\n",
       "       10, 13, 16, 12, 11,  8, 13], dtype=int64)"
      ]
     },
     "execution_count": 40,
     "metadata": {},
     "output_type": "execute_result"
    }
   ],
   "source": [
    "log_pred"
   ]
  },
  {
   "cell_type": "code",
   "execution_count": 125,
   "id": "9f8e466e",
   "metadata": {},
   "outputs": [
    {
     "name": "stdout",
     "output_type": "stream",
     "text": [
      "0.2739469037295158\n",
      "Lasso(alpha=0.008)\n",
      "r^2 on test data : 0.274255\n"
     ]
    }
   ],
   "source": [
    "lasso = linear_model.Lasso(alpha=0.008)\n",
    "lasso.fit(X_train, y_train['G3'])\n",
    "y_pred_lasso = lasso.predict(X_test)\n",
    "print(lasso.score(X_test, y_test['G3']))\n",
    "r2_score_lasso = metrics.r2_score(y_test['G3'], y_pred_lasso.round())\n",
    "print(lasso)\n",
    "print(\"r^2 on test data : %f\" % r2_score_lasso)"
   ]
  },
  {
   "cell_type": "code",
   "execution_count": 42,
   "id": "7785a86d",
   "metadata": {},
   "outputs": [
    {
     "data": {
      "text/html": [
       "<div>\n",
       "<style scoped>\n",
       "    .dataframe tbody tr th:only-of-type {\n",
       "        vertical-align: middle;\n",
       "    }\n",
       "\n",
       "    .dataframe tbody tr th {\n",
       "        vertical-align: top;\n",
       "    }\n",
       "\n",
       "    .dataframe thead th {\n",
       "        text-align: right;\n",
       "    }\n",
       "</style>\n",
       "<table border=\"1\" class=\"dataframe\">\n",
       "  <thead>\n",
       "    <tr style=\"text-align: right;\">\n",
       "      <th></th>\n",
       "      <th>G3</th>\n",
       "      <th>y_pred</th>\n",
       "    </tr>\n",
       "  </thead>\n",
       "  <tbody>\n",
       "    <tr>\n",
       "      <th>89</th>\n",
       "      <td>10</td>\n",
       "      <td>13.0</td>\n",
       "    </tr>\n",
       "    <tr>\n",
       "      <th>192</th>\n",
       "      <td>11</td>\n",
       "      <td>12.0</td>\n",
       "    </tr>\n",
       "    <tr>\n",
       "      <th>185</th>\n",
       "      <td>11</td>\n",
       "      <td>12.0</td>\n",
       "    </tr>\n",
       "    <tr>\n",
       "      <th>394</th>\n",
       "      <td>16</td>\n",
       "      <td>13.0</td>\n",
       "    </tr>\n",
       "    <tr>\n",
       "      <th>493</th>\n",
       "      <td>10</td>\n",
       "      <td>11.0</td>\n",
       "    </tr>\n",
       "    <tr>\n",
       "      <th>...</th>\n",
       "      <td>...</td>\n",
       "      <td>...</td>\n",
       "    </tr>\n",
       "    <tr>\n",
       "      <th>468</th>\n",
       "      <td>13</td>\n",
       "      <td>13.0</td>\n",
       "    </tr>\n",
       "    <tr>\n",
       "      <th>240</th>\n",
       "      <td>17</td>\n",
       "      <td>13.0</td>\n",
       "    </tr>\n",
       "    <tr>\n",
       "      <th>579</th>\n",
       "      <td>9</td>\n",
       "      <td>11.0</td>\n",
       "    </tr>\n",
       "    <tr>\n",
       "      <th>260</th>\n",
       "      <td>18</td>\n",
       "      <td>12.0</td>\n",
       "    </tr>\n",
       "    <tr>\n",
       "      <th>49</th>\n",
       "      <td>12</td>\n",
       "      <td>13.0</td>\n",
       "    </tr>\n",
       "  </tbody>\n",
       "</table>\n",
       "<p>100 rows × 2 columns</p>\n",
       "</div>"
      ],
      "text/plain": [
       "     G3  y_pred\n",
       "89   10    13.0\n",
       "192  11    12.0\n",
       "185  11    12.0\n",
       "394  16    13.0\n",
       "493  10    11.0\n",
       "..   ..     ...\n",
       "468  13    13.0\n",
       "240  17    13.0\n",
       "579   9    11.0\n",
       "260  18    12.0\n",
       "49   12    13.0\n",
       "\n",
       "[100 rows x 2 columns]"
      ]
     },
     "execution_count": 42,
     "metadata": {},
     "output_type": "execute_result"
    }
   ],
   "source": [
    "#res = pd.DataFrame(y_pred_lasso)\n",
    "res = pd.DataFrame(y_test['G3'])\n",
    "res['y_pred'] = y_pred_lasso.round()\n",
    "res.head(100)"
   ]
  },
  {
   "cell_type": "code",
   "execution_count": 43,
   "id": "23b690e8",
   "metadata": {},
   "outputs": [
    {
     "name": "stdout",
     "output_type": "stream",
     "text": [
      "0.2626980920761097\n",
      "0.2\n"
     ]
    }
   ],
   "source": [
    "lin = linear_model.LinearRegression()\n",
    "lin.fit(X_train, y_train['G3'])\n",
    "print(lin.score(X_test, y_test['G3']))\n",
    "lin_pred = lin.predict(X_test)\n",
    "print(metrics.accuracy_score(y_test['G3'], lin_pred.copy().round()))\n"
   ]
  },
  {
   "cell_type": "code",
   "execution_count": 44,
   "id": "5194f15e",
   "metadata": {},
   "outputs": [
    {
     "name": "stdout",
     "output_type": "stream",
     "text": [
      "0.2626980920761097\n",
      "0.30031896789744217\n"
     ]
    }
   ],
   "source": [
    "print(lin.score(X_test, y_test['G3']))\n",
    "print(lin.score(X_train, y_train['G3']))"
   ]
  },
  {
   "cell_type": "code",
   "execution_count": 45,
   "id": "bec89064",
   "metadata": {},
   "outputs": [
    {
     "data": {
      "text/plain": [
       "array([13., 11., 12., 13., 11., 10., 10., 14., 10., 13., 14., 12., 10.,\n",
       "       14., 11., 12., 14.,  9., 14.,  9., 11., 12., 10., 13., 11., 12.,\n",
       "       12., 12., 13., 13., 11., 12., 15., 12., 13., 12., 13., 14., 14.,\n",
       "       13., 12., 13., 12., 12., 12., 13., 14., 12., 10., 14., 11., 13.,\n",
       "       13., 11., 16., 12., 13., 11., 12., 13., 14., 10., 12., 13., 13.,\n",
       "        9., 11.,  9., 12., 12., 13., 12., 11., 11., 14., 12., 13., 13.,\n",
       "       14., 12., 13., 14., 13., 14., 11., 15., 13., 12., 11., 12., 13.,\n",
       "       13., 12., 13., 13., 13., 13., 11., 12., 13., 12., 13., 12., 12.,\n",
       "        8., 13., 12., 12., 11., 12., 11., 12., 12.,  9., 12., 13., 12.,\n",
       "       12., 13.,  9., 13., 11., 10., 11., 14., 11., 15., 10., 14.,  9.,\n",
       "       10., 11., 13., 13., 12., 11., 13., 10., 13., 11., 11., 10., 13.,\n",
       "       14., 12., 10., 12., 13., 12., 11., 11.,  7., 15., 12., 14., 13.,\n",
       "       14.,  8., 11., 12., 13., 14., 12., 14., 11., 13., 12., 10., 13.,\n",
       "       13., 14., 13., 12., 13., 13., 12., 11., 13., 14., 12., 14., 13.,\n",
       "       11., 13., 11., 13., 12., 12.,  9., 14., 12., 13., 13., 12.,  9.,\n",
       "       12., 12., 11., 13., 14., 14., 12., 13., 14., 11.,  9., 13., 12.,\n",
       "       13., 13., 10.,  8., 14., 13., 11.,  8., 13., 12., 14., 12.,  7.,\n",
       "       11., 14., 11., 14., 13., 12., 13., 13., 14., 12., 12., 10., 13.,\n",
       "       14., 13., 12., 14., 10., 14., 13., 11., 11.,  8., 15.])"
      ]
     },
     "execution_count": 45,
     "metadata": {},
     "output_type": "execute_result"
    }
   ],
   "source": [
    "lin_pred.round()"
   ]
  },
  {
   "cell_type": "code",
   "execution_count": 46,
   "id": "8bfac6fe",
   "metadata": {},
   "outputs": [
    {
     "data": {
      "text/plain": [
       "<AxesSubplot:xlabel='G3'>"
      ]
     },
     "execution_count": 46,
     "metadata": {},
     "output_type": "execute_result"
    },
    {
     "data": {
      "image/png": "[encoded data removed]",
      "text/plain": [
       "<Figure size 432x288 with 1 Axes>"
      ]
     },
     "metadata": {
      "needs_background": "light"
     },
     "output_type": "display_data"
    }
   ],
   "source": [
    "sns.scatterplot(x=y_test['G3'], y=lin_pred)"
   ]
  },
  {
   "cell_type": "code",
   "execution_count": 47,
   "id": "b6bcbeba",
   "metadata": {},
   "outputs": [],
   "source": [
    "import plotly\n",
    "import plotly.graph_objs as go\n",
    "import plotly.express as px\n",
    "from plotly.subplots import make_subplots"
   ]
  },
  {
   "cell_type": "code",
   "execution_count": 129,
   "id": "dedeac0f",
   "metadata": {},
   "outputs": [
    {
     "data": {
      "application/vnd.plotly.v1+json": {
       "config": {
        "plotlyServerURL": "https://plot.ly"
       },
       "data": [
        {
         "mode": "markers",
         "type": "scatter",
         "x": [
          12.66841493151602,
          11.522550080999928,
          12.039242766198495,
          12.664028049418114,
          11.145268393610888,
          10.584073370298949,
          10.128244420129784,
          13.712656586771779,
          10.080246355045155,
          12.425138535758641,
          13.774301421285132,
          11.874501237459281,
          10.249837681304959,
          13.516730582105808,
          11.169163392280064,
          12.344688652688017,
          14.221224057095014,
          9.486034764519601,
          13.844523189122022,
          9.469680636418333,
          11.514781065823263,
          12.202040897319993,
          10.068734726344273,
          12.908132585105044,
          11.346257027449326,
          12.44920043854286,
          11.902952746746926,
          12.31098151404774,
          13.018651997898239,
          12.854802624881872,
          10.616125406717122,
          12.070043439884483,
          14.323604202462226,
          12.503872594643234,
          12.870232051410694,
          12.258938169763303,
          12.826183185848194,
          13.844901478389275,
          13.342139235412553,
          13.358913914862095,
          12.413518141898239,
          12.977225174185213,
          11.809233882878736,
          11.870636220189834,
          11.566846599412145,
          12.814561183202905,
          14.016098847902274,
          11.719912627214201,
          9.150945646048456,
          13.743278999547854,
          11.520582867376485,
          13.195051831681642,
          12.36014357342525,
          11.639236381693376,
          15.483624611672685,
          11.758908114937787,
          12.777401455308253,
          11.185573881162137,
          12.384987440279485,
          12.892381614758836,
          13.95473515277103,
          10.256736479996654,
          12.229228370889139,
          12.576934260750733,
          12.774425308424547,
          9.734820739039991,
          10.765734327432979,
          8.8867657603606,
          11.792636965365858,
          11.826448502409086,
          13.22333132588413,
          12.413554621878212,
          11.335095563678328,
          11.780198026376606,
          13.406131772162947,
          12.391321893001296,
          12.594097642552502,
          13.141881491128071,
          13.262802811820931,
          12.188695664342724,
          12.49365021631553,
          14.043527667889308,
          12.897014250790468,
          13.439212987941692,
          10.629059627303416,
          14.363013798266032,
          12.617297747682393,
          12.258544386389318,
          11.572984536521187,
          12.153648705658568,
          13.19777311703196,
          13.190718636393795,
          12.655579802288237,
          12.777401455308253,
          12.882263694682447,
          13.003189564033049,
          13.086805880921563,
          10.883003644151858,
          11.843765996506857,
          12.941168653406898,
          11.919742497763679,
          12.965771685131834,
          11.563050054623911,
          11.914654636585995,
          8.690650505289135,
          13.247212567777346,
          11.90463790714618,
          12.185291664578145,
          11.001409101884953,
          11.9519104895292,
          11.601378902243027,
          11.988546797952251,
          11.515287203787006,
          9.34230007810027,
          11.652406092631196,
          12.82310101196724,
          12.439010821717236,
          12.082752046006314,
          13.282729659637749,
          8.898827259082179,
          13.129217723722746,
          10.716591276718773,
          10.164598434491142,
          11.630110182415773,
          13.88025526279111,
          11.186668135082678,
          14.946661051913331,
          10.304517789078616,
          13.726245610540605,
          9.598744845541516,
          10.237736089917291,
          10.924496144545094,
          13.328199478772689,
          12.63614210586093,
          12.343451518578869,
          11.40964332141518,
          12.770726117380892,
          9.76938065147188,
          12.672233956740678,
          11.690795572677395,
          11.278632759486309,
          9.717063218735497,
          12.616911038475777,
          13.523579074780487,
          12.162789104258941,
          10.22345607339543,
          11.844616910446558,
          12.851436928113458,
          11.54815530529783,
          11.191253392265748,
          11.211474622546381,
          7.739913708089,
          14.217547545924061,
          12.125878625635801,
          13.758439124332526,
          13.281116498841977,
          13.512450227139139,
          8.269696364494965,
          10.894352329663088,
          12.212208066963917,
          12.79469840566153,
          13.859243791977393,
          11.941804654460515,
          13.484870230456941,
          10.337362920436494,
          13.109378850539612,
          11.526653580856904,
          10.833268821466325,
          12.987077198803782,
          12.945050307906904,
          13.605882646044805,
          12.40406167010317,
          12.197216899381198,
          12.933165834610298,
          12.701924073543536,
          12.636661055167632,
          11.239829714292005,
          12.635151049216706,
          13.88277815261807,
          12.31480353633436,
          14.044675208883566,
          13.268360154021146,
          10.302662385877857,
          12.958879866407797,
          10.870939696233124,
          13.472360830199214,
          11.852479540021077,
          11.670249235204226,
          9.583826084622148,
          13.324827865096221,
          12.107929047671671,
          13.354185723736887,
          12.761866673188944,
          12.343641570280727,
          9.004670485789566,
          12.16330928506212,
          11.425410989392386,
          11.219816365918962,
          12.446839441783371,
          13.68726779018569,
          13.735064943397239,
          12.547690157575895,
          13.069653881516398,
          13.449292263660846,
          10.705343167230854,
          9.433081221466095,
          13.352345026027091,
          11.890481181866539,
          13.30161042043231,
          12.898748142405598,
          10.790165549566705,
          6.992584873648402,
          13.842966335625736,
          12.907633951158731,
          11.64130183782558,
          7.951718030648564,
          13.238285665842373,
          11.980404847484587,
          13.780386495076844,
          11.63540955113986,
          7.702013092336669,
          11.296374403405819,
          13.332711209494093,
          11.056591779259673,
          13.209579640402557,
          12.639941530132727,
          12.66629164987716,
          12.200643019543794,
          12.66566369414717,
          13.711477728871587,
          11.93889229517371,
          12.12131203027006,
          9.652273573937618,
          13.114295829786732,
          14.179028291270978,
          12.676615888711368,
          11.870474364663082,
          14.023285101053215,
          10.216773004901931,
          13.447788506098089,
          12.764694939063219,
          11.396541015704482,
          11.276877705028543,
          8.649674447283711,
          14.419913824907379
         ],
         "y": [
          10,
          11,
          11,
          16,
          10,
          14,
          7,
          10,
          10,
          6,
          13,
          11,
          11,
          14,
          11,
          10,
          14,
          8,
          17,
          8,
          13,
          13,
          10,
          14,
          11,
          12,
          10,
          14,
          11,
          13,
          8,
          6,
          17,
          9,
          14,
          10,
          15,
          15,
          13,
          11,
          15,
          10,
          18,
          11,
          10,
          16,
          14,
          10,
          13,
          15,
          10,
          8,
          11,
          12,
          16,
          10,
          16,
          15,
          14,
          17,
          16,
          11,
          11,
          10,
          10,
          9,
          7,
          10,
          11,
          13,
          13,
          10,
          11,
          13,
          10,
          10,
          11,
          11,
          12,
          11,
          6,
          12,
          19,
          13,
          10,
          16,
          11,
          11,
          11,
          12,
          16,
          11,
          13,
          15,
          14,
          13,
          17,
          9,
          18,
          12,
          11,
          13,
          13,
          12,
          9,
          8,
          10,
          11,
          13,
          12,
          12,
          10,
          12,
          10,
          6,
          11,
          12,
          11,
          8,
          9,
          14,
          10,
          8,
          11,
          15,
          13,
          17,
          8,
          15,
          12,
          10,
          11,
          10,
          12,
          10,
          14,
          13,
          7,
          13,
          8,
          9,
          9,
          15,
          12,
          9,
          9,
          18,
          16,
          8,
          14,
          11,
          7,
          15,
          13,
          17,
          15,
          12,
          8,
          9,
          8,
          12,
          9,
          13,
          14,
          9,
          17,
          13,
          10,
          11,
          10,
          10,
          10,
          14,
          11,
          15,
          12,
          11,
          15,
          14,
          19,
          17,
          15,
          13,
          16,
          18,
          18,
          9,
          10,
          12,
          13,
          12,
          14,
          14,
          13,
          8,
          13,
          11,
          12,
          15,
          15,
          12,
          18,
          16,
          12,
          11,
          12,
          16,
          9,
          10,
          14,
          8,
          7,
          14,
          11,
          11,
          8,
          9,
          10,
          13,
          12,
          10,
          11,
          15,
          12,
          14,
          15,
          16,
          12,
          16,
          13,
          13,
          9,
          10,
          14,
          18,
          10,
          15,
          15,
          8,
          14,
          11,
          10,
          11,
          8,
          17
         ]
        },
        {
         "type": "scatter",
         "x": [
          10,
          11,
          11,
          16,
          10,
          14,
          7,
          10,
          10,
          6,
          13,
          11,
          11,
          14,
          11,
          10,
          14,
          8,
          17,
          8,
          13,
          13,
          10,
          14,
          11,
          12,
          10,
          14,
          11,
          13,
          8,
          6,
          17,
          9,
          14,
          10,
          15,
          15,
          13,
          11,
          15,
          10,
          18,
          11,
          10,
          16,
          14,
          10,
          13,
          15,
          10,
          8,
          11,
          12,
          16,
          10,
          16,
          15,
          14,
          17,
          16,
          11,
          11,
          10,
          10,
          9,
          7,
          10,
          11,
          13,
          13,
          10,
          11,
          13,
          10,
          10,
          11,
          11,
          12,
          11,
          6,
          12,
          19,
          13,
          10,
          16,
          11,
          11,
          11,
          12,
          16,
          11,
          13,
          15,
          14,
          13,
          17,
          9,
          18,
          12,
          11,
          13,
          13,
          12,
          9,
          8,
          10,
          11,
          13,
          12,
          12,
          10,
          12,
          10,
          6,
          11,
          12,
          11,
          8,
          9,
          14,
          10,
          8,
          11,
          15,
          13,
          17,
          8,
          15,
          12,
          10,
          11,
          10,
          12,
          10,
          14,
          13,
          7,
          13,
          8,
          9,
          9,
          15,
          12,
          9,
          9,
          18,
          16,
          8,
          14,
          11,
          7,
          15,
          13,
          17,
          15,
          12,
          8,
          9,
          8,
          12,
          9,
          13,
          14,
          9,
          17,
          13,
          10,
          11,
          10,
          10,
          10,
          14,
          11,
          15,
          12,
          11,
          15,
          14,
          19,
          17,
          15,
          13,
          16,
          18,
          18,
          9,
          10,
          12,
          13,
          12,
          14,
          14,
          13,
          8,
          13,
          11,
          12,
          15,
          15,
          12,
          18,
          16,
          12,
          11,
          12,
          16,
          9,
          10,
          14,
          8,
          7,
          14,
          11,
          11,
          8,
          9,
          10,
          13,
          12,
          10,
          11,
          15,
          12,
          14,
          15,
          16,
          12,
          16,
          13,
          13,
          9,
          10,
          14,
          18,
          10,
          15,
          15,
          8,
          14,
          11,
          10,
          11,
          8,
          17
         ],
         "y": [
          10,
          11,
          11,
          16,
          10,
          14,
          7,
          10,
          10,
          6,
          13,
          11,
          11,
          14,
          11,
          10,
          14,
          8,
          17,
          8,
          13,
          13,
          10,
          14,
          11,
          12,
          10,
          14,
          11,
          13,
          8,
          6,
          17,
          9,
          14,
          10,
          15,
          15,
          13,
          11,
          15,
          10,
          18,
          11,
          10,
          16,
          14,
          10,
          13,
          15,
          10,
          8,
          11,
          12,
          16,
          10,
          16,
          15,
          14,
          17,
          16,
          11,
          11,
          10,
          10,
          9,
          7,
          10,
          11,
          13,
          13,
          10,
          11,
          13,
          10,
          10,
          11,
          11,
          12,
          11,
          6,
          12,
          19,
          13,
          10,
          16,
          11,
          11,
          11,
          12,
          16,
          11,
          13,
          15,
          14,
          13,
          17,
          9,
          18,
          12,
          11,
          13,
          13,
          12,
          9,
          8,
          10,
          11,
          13,
          12,
          12,
          10,
          12,
          10,
          6,
          11,
          12,
          11,
          8,
          9,
          14,
          10,
          8,
          11,
          15,
          13,
          17,
          8,
          15,
          12,
          10,
          11,
          10,
          12,
          10,
          14,
          13,
          7,
          13,
          8,
          9,
          9,
          15,
          12,
          9,
          9,
          18,
          16,
          8,
          14,
          11,
          7,
          15,
          13,
          17,
          15,
          12,
          8,
          9,
          8,
          12,
          9,
          13,
          14,
          9,
          17,
          13,
          10,
          11,
          10,
          10,
          10,
          14,
          11,
          15,
          12,
          11,
          15,
          14,
          19,
          17,
          15,
          13,
          16,
          18,
          18,
          9,
          10,
          12,
          13,
          12,
          14,
          14,
          13,
          8,
          13,
          11,
          12,
          15,
          15,
          12,
          18,
          16,
          12,
          11,
          12,
          16,
          9,
          10,
          14,
          8,
          7,
          14,
          11,
          11,
          8,
          9,
          10,
          13,
          12,
          10,
          11,
          15,
          12,
          14,
          15,
          16,
          12,
          16,
          13,
          13,
          9,
          10,
          14,
          18,
          10,
          15,
          15,
          8,
          14,
          11,
          10,
          11,
          8,
          17
         ]
        }
       ],
       "layout": {
        "template": {
         "data": {
          "bar": [
           {
            "error_x": {
             "color": "#2a3f5f"
            },
            "error_y": {
             "color": "#2a3f5f"
            },
            "marker": {
             "line": {
              "color": "#E5ECF6",
              "width": 0.5
             },
             "pattern": {
              "fillmode": "overlay",
              "size": 10,
              "solidity": 0.2
             }
            },
            "type": "bar"
           }
          ],
          "barpolar": [
           {
            "marker": {
             "line": {
              "color": "#E5ECF6",
              "width": 0.5
             },
             "pattern": {
              "fillmode": "overlay",
              "size": 10,
              "solidity": 0.2
             }
            },
            "type": "barpolar"
           }
          ],
          "carpet": [
           {
            "aaxis": {
             "endlinecolor": "#2a3f5f",
             "gridcolor": "white",
             "linecolor": "white",
             "minorgridcolor": "white",
             "startlinecolor": "#2a3f5f"
            },
            "baxis": {
             "endlinecolor": "#2a3f5f",
             "gridcolor": "white",
             "linecolor": "white",
             "minorgridcolor": "white",
             "startlinecolor": "#2a3f5f"
            },
            "type": "carpet"
           }
          ],
          "choropleth": [
           {
            "colorbar": {
             "outlinewidth": 0,
             "ticks": ""
            },
            "type": "choropleth"
           }
          ],
          "contour": [
           {
            "colorbar": {
             "outlinewidth": 0,
             "ticks": ""
            },
            "colorscale": [
             [
              0,
              "#0d0887"
             ],
             [
              0.1111111111111111,
              "#46039f"
             ],
             [
              0.2222222222222222,
              "#7201a8"
             ],
             [
              0.3333333333333333,
              "#9c179e"
             ],
             [
              0.4444444444444444,
              "#bd3786"
             ],
             [
              0.5555555555555556,
              "#d8576b"
             ],
             [
              0.6666666666666666,
              "#ed7953"
             ],
             [
              0.7777777777777778,
              "#fb9f3a"
             ],
             [
              0.8888888888888888,
              "#fdca26"
             ],
             [
              1,
              "#f0f921"
             ]
            ],
            "type": "contour"
           }
          ],
          "contourcarpet": [
           {
            "colorbar": {
             "outlinewidth": 0,
             "ticks": ""
            },
            "type": "contourcarpet"
           }
          ],
          "heatmap": [
           {
            "colorbar": {
             "outlinewidth": 0,
             "ticks": ""
            },
            "colorscale": [
             [
              0,
              "#0d0887"
             ],
             [
              0.1111111111111111,
              "#46039f"
             ],
             [
              0.2222222222222222,
              "#7201a8"
             ],
             [
              0.3333333333333333,
              "#9c179e"
             ],
             [
              0.4444444444444444,
              "#bd3786"
             ],
             [
              0.5555555555555556,
              "#d8576b"
             ],
             [
              0.6666666666666666,
              "#ed7953"
             ],
             [
              0.7777777777777778,
              "#fb9f3a"
             ],
             [
              0.8888888888888888,
              "#fdca26"
             ],
             [
              1,
              "#f0f921"
             ]
            ],
            "type": "heatmap"
           }
          ],
          "heatmapgl": [
           {
            "colorbar": {
             "outlinewidth": 0,
             "ticks": ""
            },
            "colorscale": [
             [
              0,
              "#0d0887"
             ],
             [
              0.1111111111111111,
              "#46039f"
             ],
             [
              0.2222222222222222,
              "#7201a8"
             ],
             [
              0.3333333333333333,
              "#9c179e"
             ],
             [
              0.4444444444444444,
              "#bd3786"
             ],
             [
              0.5555555555555556,
              "#d8576b"
             ],
             [
              0.6666666666666666,
              "#ed7953"
             ],
             [
              0.7777777777777778,
              "#fb9f3a"
             ],
             [
              0.8888888888888888,
              "#fdca26"
             ],
             [
              1,
              "#f0f921"
             ]
            ],
            "type": "heatmapgl"
           }
          ],
          "histogram": [
           {
            "marker": {
             "pattern": {
              "fillmode": "overlay",
              "size": 10,
              "solidity": 0.2
             }
            },
            "type": "histogram"
           }
          ],
          "histogram2d": [
           {
            "colorbar": {
             "outlinewidth": 0,
             "ticks": ""
            },
            "colorscale": [
             [
              0,
              "#0d0887"
             ],
             [
              0.1111111111111111,
              "#46039f"
             ],
             [
              0.2222222222222222,
              "#7201a8"
             ],
             [
              0.3333333333333333,
              "#9c179e"
             ],
             [
              0.4444444444444444,
              "#bd3786"
             ],
             [
              0.5555555555555556,
              "#d8576b"
             ],
             [
              0.6666666666666666,
              "#ed7953"
             ],
             [
              0.7777777777777778,
              "#fb9f3a"
             ],
             [
              0.8888888888888888,
              "#fdca26"
             ],
             [
              1,
              "#f0f921"
             ]
            ],
            "type": "histogram2d"
           }
          ],
          "histogram2dcontour": [
           {
            "colorbar": {
             "outlinewidth": 0,
             "ticks": ""
            },
            "colorscale": [
             [
              0,
              "#0d0887"
             ],
             [
              0.1111111111111111,
              "#46039f"
             ],
             [
              0.2222222222222222,
              "#7201a8"
             ],
             [
              0.3333333333333333,
              "#9c179e"
             ],
             [
              0.4444444444444444,
              "#bd3786"
             ],
             [
              0.5555555555555556,
              "#d8576b"
             ],
             [
              0.6666666666666666,
              "#ed7953"
             ],
             [
              0.7777777777777778,
              "#fb9f3a"
             ],
             [
              0.8888888888888888,
              "#fdca26"
             ],
             [
              1,
              "#f0f921"
             ]
            ],
            "type": "histogram2dcontour"
           }
          ],
          "mesh3d": [
           {
            "colorbar": {
             "outlinewidth": 0,
             "ticks": ""
            },
            "type": "mesh3d"
           }
          ],
          "parcoords": [
           {
            "line": {
             "colorbar": {
              "outlinewidth": 0,
              "ticks": ""
             }
            },
            "type": "parcoords"
           }
          ],
          "pie": [
           {
            "automargin": true,
            "type": "pie"
           }
          ],
          "scatter": [
           {
            "marker": {
             "colorbar": {
              "outlinewidth": 0,
              "ticks": ""
             }
            },
            "type": "scatter"
           }
          ],
          "scatter3d": [
           {
            "line": {
             "colorbar": {
              "outlinewidth": 0,
              "ticks": ""
             }
            },
            "marker": {
             "colorbar": {
              "outlinewidth": 0,
              "ticks": ""
             }
            },
            "type": "scatter3d"
           }
          ],
          "scattercarpet": [
           {
            "marker": {
             "colorbar": {
              "outlinewidth": 0,
              "ticks": ""
             }
            },
            "type": "scattercarpet"
           }
          ],
          "scattergeo": [
           {
            "marker": {
             "colorbar": {
              "outlinewidth": 0,
              "ticks": ""
             }
            },
            "type": "scattergeo"
           }
          ],
          "scattergl": [
           {
            "marker": {
             "colorbar": {
              "outlinewidth": 0,
              "ticks": ""
             }
            },
            "type": "scattergl"
           }
          ],
          "scattermapbox": [
           {
            "marker": {
             "colorbar": {
              "outlinewidth": 0,
              "ticks": ""
             }
            },
            "type": "scattermapbox"
           }
          ],
          "scatterpolar": [
           {
            "marker": {
             "colorbar": {
              "outlinewidth": 0,
              "ticks": ""
             }
            },
            "type": "scatterpolar"
           }
          ],
          "scatterpolargl": [
           {
            "marker": {
             "colorbar": {
              "outlinewidth": 0,
              "ticks": ""
             }
            },
            "type": "scatterpolargl"
           }
          ],
          "scatterternary": [
           {
            "marker": {
             "colorbar": {
              "outlinewidth": 0,
              "ticks": ""
             }
            },
            "type": "scatterternary"
           }
          ],
          "surface": [
           {
            "colorbar": {
             "outlinewidth": 0,
             "ticks": ""
            },
            "colorscale": [
             [
              0,
              "#0d0887"
             ],
             [
              0.1111111111111111,
              "#46039f"
             ],
             [
              0.2222222222222222,
              "#7201a8"
             ],
             [
              0.3333333333333333,
              "#9c179e"
             ],
             [
              0.4444444444444444,
              "#bd3786"
             ],
             [
              0.5555555555555556,
              "#d8576b"
             ],
             [
              0.6666666666666666,
              "#ed7953"
             ],
             [
              0.7777777777777778,
              "#fb9f3a"
             ],
             [
              0.8888888888888888,
              "#fdca26"
             ],
             [
              1,
              "#f0f921"
             ]
            ],
            "type": "surface"
           }
          ],
          "table": [
           {
            "cells": {
             "fill": {
              "color": "#EBF0F8"
             },
             "line": {
              "color": "white"
             }
            },
            "header": {
             "fill": {
              "color": "#C8D4E3"
             },
             "line": {
              "color": "white"
             }
            },
            "type": "table"
           }
          ]
         },
         "layout": {
          "annotationdefaults": {
           "arrowcolor": "#2a3f5f",
           "arrowhead": 0,
           "arrowwidth": 1
          },
          "autotypenumbers": "strict",
          "coloraxis": {
           "colorbar": {
            "outlinewidth": 0,
            "ticks": ""
           }
          },
          "colorscale": {
           "diverging": [
            [
             0,
             "#8e0152"
            ],
            [
             0.1,
             "#c51b7d"
            ],
            [
             0.2,
             "#de77ae"
            ],
            [
             0.3,
             "#f1b6da"
            ],
            [
             0.4,
             "#fde0ef"
            ],
            [
             0.5,
             "#f7f7f7"
            ],
            [
             0.6,
             "#e6f5d0"
            ],
            [
             0.7,
             "#b8e186"
            ],
            [
             0.8,
             "#7fbc41"
            ],
            [
             0.9,
             "#4d9221"
            ],
            [
             1,
             "#276419"
            ]
           ],
           "sequential": [
            [
             0,
             "#0d0887"
            ],
            [
             0.1111111111111111,
             "#46039f"
            ],
            [
             0.2222222222222222,
             "#7201a8"
            ],
            [
             0.3333333333333333,
             "#9c179e"
            ],
            [
             0.4444444444444444,
             "#bd3786"
            ],
            [
             0.5555555555555556,
             "#d8576b"
            ],
            [
             0.6666666666666666,
             "#ed7953"
            ],
            [
             0.7777777777777778,
             "#fb9f3a"
            ],
            [
             0.8888888888888888,
             "#fdca26"
            ],
            [
             1,
             "#f0f921"
            ]
           ],
           "sequentialminus": [
            [
             0,
             "#0d0887"
            ],
            [
             0.1111111111111111,
             "#46039f"
            ],
            [
             0.2222222222222222,
             "#7201a8"
            ],
            [
             0.3333333333333333,
             "#9c179e"
            ],
            [
             0.4444444444444444,
             "#bd3786"
            ],
            [
             0.5555555555555556,
             "#d8576b"
            ],
            [
             0.6666666666666666,
             "#ed7953"
            ],
            [
             0.7777777777777778,
             "#fb9f3a"
            ],
            [
             0.8888888888888888,
             "#fdca26"
            ],
            [
             1,
             "#f0f921"
            ]
           ]
          },
          "colorway": [
           "#636efa",
           "#EF553B",
           "#00cc96",
           "#ab63fa",
           "#FFA15A",
           "#19d3f3",
           "#FF6692",
           "#B6E880",
           "#FF97FF",
           "#FECB52"
          ],
          "font": {
           "color": "#2a3f5f"
          },
          "geo": {
           "bgcolor": "white",
           "lakecolor": "white",
           "landcolor": "#E5ECF6",
           "showlakes": true,
           "showland": true,
           "subunitcolor": "white"
          },
          "hoverlabel": {
           "align": "left"
          },
          "hovermode": "closest",
          "mapbox": {
           "style": "light"
          },
          "paper_bgcolor": "white",
          "plot_bgcolor": "#E5ECF6",
          "polar": {
           "angularaxis": {
            "gridcolor": "white",
            "linecolor": "white",
            "ticks": ""
           },
           "bgcolor": "#E5ECF6",
           "radialaxis": {
            "gridcolor": "white",
            "linecolor": "white",
            "ticks": ""
           }
          },
          "scene": {
           "xaxis": {
            "backgroundcolor": "#E5ECF6",
            "gridcolor": "white",
            "gridwidth": 2,
            "linecolor": "white",
            "showbackground": true,
            "ticks": "",
            "zerolinecolor": "white"
           },
           "yaxis": {
            "backgroundcolor": "#E5ECF6",
            "gridcolor": "white",
            "gridwidth": 2,
            "linecolor": "white",
            "showbackground": true,
            "ticks": "",
            "zerolinecolor": "white"
           },
           "zaxis": {
            "backgroundcolor": "#E5ECF6",
            "gridcolor": "white",
            "gridwidth": 2,
            "linecolor": "white",
            "showbackground": true,
            "ticks": "",
            "zerolinecolor": "white"
           }
          },
          "shapedefaults": {
           "line": {
            "color": "#2a3f5f"
           }
          },
          "ternary": {
           "aaxis": {
            "gridcolor": "white",
            "linecolor": "white",
            "ticks": ""
           },
           "baxis": {
            "gridcolor": "white",
            "linecolor": "white",
            "ticks": ""
           },
           "bgcolor": "#E5ECF6",
           "caxis": {
            "gridcolor": "white",
            "linecolor": "white",
            "ticks": ""
           }
          },
          "title": {
           "x": 0.05
          },
          "xaxis": {
           "automargin": true,
           "gridcolor": "white",
           "linecolor": "white",
           "ticks": "",
           "title": {
            "standoff": 15
           },
           "zerolinecolor": "white",
           "zerolinewidth": 2
          },
          "yaxis": {
           "automargin": true,
           "gridcolor": "white",
           "linecolor": "white",
           "ticks": "",
           "title": {
            "standoff": 15
           },
           "zerolinecolor": "white",
           "zerolinewidth": 2
          }
         }
        }
       }
      }
     },
     "metadata": {},
     "output_type": "display_data"
    }
   ],
   "source": [
    "fig0 = go.Figure()\n",
    "fig0.add_trace(go.Scatter(y=y_test['G3'], x=y_pred_lasso,mode='markers'))\n",
    "fig0.add_trace(go.Scatter(x=y_test['G3'], y=y_test['G3']))\n",
    "fig0.show()"
   ]
  },
  {
   "cell_type": "code",
   "execution_count": 130,
   "id": "e7827ea2",
   "metadata": {},
   "outputs": [
    {
     "data": {
      "application/vnd.plotly.v1+json": {
       "config": {
        "plotlyServerURL": "https://plot.ly"
       },
       "data": [
        {
         "mode": "markers",
         "type": "scatter",
         "x": [
          13,
          12,
          12,
          13,
          11,
          11,
          10,
          14,
          10,
          12,
          14,
          12,
          10,
          14,
          11,
          12,
          14,
          9,
          14,
          9,
          12,
          12,
          10,
          13,
          11,
          12,
          12,
          12,
          13,
          13,
          11,
          12,
          14,
          13,
          13,
          12,
          13,
          14,
          13,
          13,
          12,
          13,
          12,
          12,
          12,
          13,
          14,
          12,
          9,
          14,
          12,
          13,
          12,
          12,
          15,
          12,
          13,
          11,
          12,
          13,
          14,
          10,
          12,
          13,
          13,
          10,
          11,
          9,
          12,
          12,
          13,
          12,
          11,
          12,
          13,
          12,
          13,
          13,
          13,
          12,
          12,
          14,
          13,
          13,
          11,
          14,
          13,
          12,
          12,
          12,
          13,
          13,
          13,
          13,
          13,
          13,
          13,
          11,
          12,
          13,
          12,
          13,
          12,
          12,
          9,
          13,
          12,
          12,
          11,
          12,
          12,
          12,
          12,
          9,
          12,
          13,
          12,
          12,
          13,
          9,
          13,
          11,
          10,
          12,
          14,
          11,
          15,
          10,
          14,
          10,
          10,
          11,
          13,
          13,
          12,
          11,
          13,
          10,
          13,
          12,
          11,
          10,
          13,
          14,
          12,
          10,
          12,
          13,
          12,
          11,
          11,
          8,
          14,
          12,
          14,
          13,
          14,
          8,
          11,
          12,
          13,
          14,
          12,
          13,
          10,
          13,
          12,
          11,
          13,
          13,
          14,
          12,
          12,
          13,
          13,
          13,
          11,
          13,
          14,
          12,
          14,
          13,
          10,
          13,
          11,
          13,
          12,
          12,
          10,
          13,
          12,
          13,
          13,
          12,
          9,
          12,
          11,
          11,
          12,
          14,
          14,
          13,
          13,
          13,
          11,
          9,
          13,
          12,
          13,
          13,
          11,
          7,
          14,
          13,
          12,
          8,
          13,
          12,
          14,
          12,
          8,
          11,
          13,
          11,
          13,
          13,
          13,
          12,
          13,
          14,
          12,
          12,
          10,
          13,
          14,
          13,
          12,
          14,
          10,
          13,
          13,
          11,
          11,
          9,
          14
         ],
         "y": [
          10,
          11,
          11,
          16,
          10,
          14,
          7,
          10,
          10,
          6,
          13,
          11,
          11,
          14,
          11,
          10,
          14,
          8,
          17,
          8,
          13,
          13,
          10,
          14,
          11,
          12,
          10,
          14,
          11,
          13,
          8,
          6,
          17,
          9,
          14,
          10,
          15,
          15,
          13,
          11,
          15,
          10,
          18,
          11,
          10,
          16,
          14,
          10,
          13,
          15,
          10,
          8,
          11,
          12,
          16,
          10,
          16,
          15,
          14,
          17,
          16,
          11,
          11,
          10,
          10,
          9,
          7,
          10,
          11,
          13,
          13,
          10,
          11,
          13,
          10,
          10,
          11,
          11,
          12,
          11,
          6,
          12,
          19,
          13,
          10,
          16,
          11,
          11,
          11,
          12,
          16,
          11,
          13,
          15,
          14,
          13,
          17,
          9,
          18,
          12,
          11,
          13,
          13,
          12,
          9,
          8,
          10,
          11,
          13,
          12,
          12,
          10,
          12,
          10,
          6,
          11,
          12,
          11,
          8,
          9,
          14,
          10,
          8,
          11,
          15,
          13,
          17,
          8,
          15,
          12,
          10,
          11,
          10,
          12,
          10,
          14,
          13,
          7,
          13,
          8,
          9,
          9,
          15,
          12,
          9,
          9,
          18,
          16,
          8,
          14,
          11,
          7,
          15,
          13,
          17,
          15,
          12,
          8,
          9,
          8,
          12,
          9,
          13,
          14,
          9,
          17,
          13,
          10,
          11,
          10,
          10,
          10,
          14,
          11,
          15,
          12,
          11,
          15,
          14,
          19,
          17,
          15,
          13,
          16,
          18,
          18,
          9,
          10,
          12,
          13,
          12,
          14,
          14,
          13,
          8,
          13,
          11,
          12,
          15,
          15,
          12,
          18,
          16,
          12,
          11,
          12,
          16,
          9,
          10,
          14,
          8,
          7,
          14,
          11,
          11,
          8,
          9,
          10,
          13,
          12,
          10,
          11,
          15,
          12,
          14,
          15,
          16,
          12,
          16,
          13,
          13,
          9,
          10,
          14,
          18,
          10,
          15,
          15,
          8,
          14,
          11,
          10,
          11,
          8,
          17
         ]
        },
        {
         "type": "scatter",
         "x": [
          10,
          11,
          11,
          16,
          10,
          14,
          7,
          10,
          10,
          6,
          13,
          11,
          11,
          14,
          11,
          10,
          14,
          8,
          17,
          8,
          13,
          13,
          10,
          14,
          11,
          12,
          10,
          14,
          11,
          13,
          8,
          6,
          17,
          9,
          14,
          10,
          15,
          15,
          13,
          11,
          15,
          10,
          18,
          11,
          10,
          16,
          14,
          10,
          13,
          15,
          10,
          8,
          11,
          12,
          16,
          10,
          16,
          15,
          14,
          17,
          16,
          11,
          11,
          10,
          10,
          9,
          7,
          10,
          11,
          13,
          13,
          10,
          11,
          13,
          10,
          10,
          11,
          11,
          12,
          11,
          6,
          12,
          19,
          13,
          10,
          16,
          11,
          11,
          11,
          12,
          16,
          11,
          13,
          15,
          14,
          13,
          17,
          9,
          18,
          12,
          11,
          13,
          13,
          12,
          9,
          8,
          10,
          11,
          13,
          12,
          12,
          10,
          12,
          10,
          6,
          11,
          12,
          11,
          8,
          9,
          14,
          10,
          8,
          11,
          15,
          13,
          17,
          8,
          15,
          12,
          10,
          11,
          10,
          12,
          10,
          14,
          13,
          7,
          13,
          8,
          9,
          9,
          15,
          12,
          9,
          9,
          18,
          16,
          8,
          14,
          11,
          7,
          15,
          13,
          17,
          15,
          12,
          8,
          9,
          8,
          12,
          9,
          13,
          14,
          9,
          17,
          13,
          10,
          11,
          10,
          10,
          10,
          14,
          11,
          15,
          12,
          11,
          15,
          14,
          19,
          17,
          15,
          13,
          16,
          18,
          18,
          9,
          10,
          12,
          13,
          12,
          14,
          14,
          13,
          8,
          13,
          11,
          12,
          15,
          15,
          12,
          18,
          16,
          12,
          11,
          12,
          16,
          9,
          10,
          14,
          8,
          7,
          14,
          11,
          11,
          8,
          9,
          10,
          13,
          12,
          10,
          11,
          15,
          12,
          14,
          15,
          16,
          12,
          16,
          13,
          13,
          9,
          10,
          14,
          18,
          10,
          15,
          15,
          8,
          14,
          11,
          10,
          11,
          8,
          17
         ],
         "y": [
          10,
          11,
          11,
          16,
          10,
          14,
          7,
          10,
          10,
          6,
          13,
          11,
          11,
          14,
          11,
          10,
          14,
          8,
          17,
          8,
          13,
          13,
          10,
          14,
          11,
          12,
          10,
          14,
          11,
          13,
          8,
          6,
          17,
          9,
          14,
          10,
          15,
          15,
          13,
          11,
          15,
          10,
          18,
          11,
          10,
          16,
          14,
          10,
          13,
          15,
          10,
          8,
          11,
          12,
          16,
          10,
          16,
          15,
          14,
          17,
          16,
          11,
          11,
          10,
          10,
          9,
          7,
          10,
          11,
          13,
          13,
          10,
          11,
          13,
          10,
          10,
          11,
          11,
          12,
          11,
          6,
          12,
          19,
          13,
          10,
          16,
          11,
          11,
          11,
          12,
          16,
          11,
          13,
          15,
          14,
          13,
          17,
          9,
          18,
          12,
          11,
          13,
          13,
          12,
          9,
          8,
          10,
          11,
          13,
          12,
          12,
          10,
          12,
          10,
          6,
          11,
          12,
          11,
          8,
          9,
          14,
          10,
          8,
          11,
          15,
          13,
          17,
          8,
          15,
          12,
          10,
          11,
          10,
          12,
          10,
          14,
          13,
          7,
          13,
          8,
          9,
          9,
          15,
          12,
          9,
          9,
          18,
          16,
          8,
          14,
          11,
          7,
          15,
          13,
          17,
          15,
          12,
          8,
          9,
          8,
          12,
          9,
          13,
          14,
          9,
          17,
          13,
          10,
          11,
          10,
          10,
          10,
          14,
          11,
          15,
          12,
          11,
          15,
          14,
          19,
          17,
          15,
          13,
          16,
          18,
          18,
          9,
          10,
          12,
          13,
          12,
          14,
          14,
          13,
          8,
          13,
          11,
          12,
          15,
          15,
          12,
          18,
          16,
          12,
          11,
          12,
          16,
          9,
          10,
          14,
          8,
          7,
          14,
          11,
          11,
          8,
          9,
          10,
          13,
          12,
          10,
          11,
          15,
          12,
          14,
          15,
          16,
          12,
          16,
          13,
          13,
          9,
          10,
          14,
          18,
          10,
          15,
          15,
          8,
          14,
          11,
          10,
          11,
          8,
          17
         ]
        }
       ],
       "layout": {
        "template": {
         "data": {
          "bar": [
           {
            "error_x": {
             "color": "#2a3f5f"
            },
            "error_y": {
             "color": "#2a3f5f"
            },
            "marker": {
             "line": {
              "color": "#E5ECF6",
              "width": 0.5
             },
             "pattern": {
              "fillmode": "overlay",
              "size": 10,
              "solidity": 0.2
             }
            },
            "type": "bar"
           }
          ],
          "barpolar": [
           {
            "marker": {
             "line": {
              "color": "#E5ECF6",
              "width": 0.5
             },
             "pattern": {
              "fillmode": "overlay",
              "size": 10,
              "solidity": 0.2
             }
            },
            "type": "barpolar"
           }
          ],
          "carpet": [
           {
            "aaxis": {
             "endlinecolor": "#2a3f5f",
             "gridcolor": "white",
             "linecolor": "white",
             "minorgridcolor": "white",
             "startlinecolor": "#2a3f5f"
            },
            "baxis": {
             "endlinecolor": "#2a3f5f",
             "gridcolor": "white",
             "linecolor": "white",
             "minorgridcolor": "white",
             "startlinecolor": "#2a3f5f"
            },
            "type": "carpet"
           }
          ],
          "choropleth": [
           {
            "colorbar": {
             "outlinewidth": 0,
             "ticks": ""
            },
            "type": "choropleth"
           }
          ],
          "contour": [
           {
            "colorbar": {
             "outlinewidth": 0,
             "ticks": ""
            },
            "colorscale": [
             [
              0,
              "#0d0887"
             ],
             [
              0.1111111111111111,
              "#46039f"
             ],
             [
              0.2222222222222222,
              "#7201a8"
             ],
             [
              0.3333333333333333,
              "#9c179e"
             ],
             [
              0.4444444444444444,
              "#bd3786"
             ],
             [
              0.5555555555555556,
              "#d8576b"
             ],
             [
              0.6666666666666666,
              "#ed7953"
             ],
             [
              0.7777777777777778,
              "#fb9f3a"
             ],
             [
              0.8888888888888888,
              "#fdca26"
             ],
             [
              1,
              "#f0f921"
             ]
            ],
            "type": "contour"
           }
          ],
          "contourcarpet": [
           {
            "colorbar": {
             "outlinewidth": 0,
             "ticks": ""
            },
            "type": "contourcarpet"
           }
          ],
          "heatmap": [
           {
            "colorbar": {
             "outlinewidth": 0,
             "ticks": ""
            },
            "colorscale": [
             [
              0,
              "#0d0887"
             ],
             [
              0.1111111111111111,
              "#46039f"
             ],
             [
              0.2222222222222222,
              "#7201a8"
             ],
             [
              0.3333333333333333,
              "#9c179e"
             ],
             [
              0.4444444444444444,
              "#bd3786"
             ],
             [
              0.5555555555555556,
              "#d8576b"
             ],
             [
              0.6666666666666666,
              "#ed7953"
             ],
             [
              0.7777777777777778,
              "#fb9f3a"
             ],
             [
              0.8888888888888888,
              "#fdca26"
             ],
             [
              1,
              "#f0f921"
             ]
            ],
            "type": "heatmap"
           }
          ],
          "heatmapgl": [
           {
            "colorbar": {
             "outlinewidth": 0,
             "ticks": ""
            },
            "colorscale": [
             [
              0,
              "#0d0887"
             ],
             [
              0.1111111111111111,
              "#46039f"
             ],
             [
              0.2222222222222222,
              "#7201a8"
             ],
             [
              0.3333333333333333,
              "#9c179e"
             ],
             [
              0.4444444444444444,
              "#bd3786"
             ],
             [
              0.5555555555555556,
              "#d8576b"
             ],
             [
              0.6666666666666666,
              "#ed7953"
             ],
             [
              0.7777777777777778,
              "#fb9f3a"
             ],
             [
              0.8888888888888888,
              "#fdca26"
             ],
             [
              1,
              "#f0f921"
             ]
            ],
            "type": "heatmapgl"
           }
          ],
          "histogram": [
           {
            "marker": {
             "pattern": {
              "fillmode": "overlay",
              "size": 10,
              "solidity": 0.2
             }
            },
            "type": "histogram"
           }
          ],
          "histogram2d": [
           {
            "colorbar": {
             "outlinewidth": 0,
             "ticks": ""
            },
            "colorscale": [
             [
              0,
              "#0d0887"
             ],
             [
              0.1111111111111111,
              "#46039f"
             ],
             [
              0.2222222222222222,
              "#7201a8"
             ],
             [
              0.3333333333333333,
              "#9c179e"
             ],
             [
              0.4444444444444444,
              "#bd3786"
             ],
             [
              0.5555555555555556,
              "#d8576b"
             ],
             [
              0.6666666666666666,
              "#ed7953"
             ],
             [
              0.7777777777777778,
              "#fb9f3a"
             ],
             [
              0.8888888888888888,
              "#fdca26"
             ],
             [
              1,
              "#f0f921"
             ]
            ],
            "type": "histogram2d"
           }
          ],
          "histogram2dcontour": [
           {
            "colorbar": {
             "outlinewidth": 0,
             "ticks": ""
            },
            "colorscale": [
             [
              0,
              "#0d0887"
             ],
             [
              0.1111111111111111,
              "#46039f"
             ],
             [
              0.2222222222222222,
              "#7201a8"
             ],
             [
              0.3333333333333333,
              "#9c179e"
             ],
             [
              0.4444444444444444,
              "#bd3786"
             ],
             [
              0.5555555555555556,
              "#d8576b"
             ],
             [
              0.6666666666666666,
              "#ed7953"
             ],
             [
              0.7777777777777778,
              "#fb9f3a"
             ],
             [
              0.8888888888888888,
              "#fdca26"
             ],
             [
              1,
              "#f0f921"
             ]
            ],
            "type": "histogram2dcontour"
           }
          ],
          "mesh3d": [
           {
            "colorbar": {
             "outlinewidth": 0,
             "ticks": ""
            },
            "type": "mesh3d"
           }
          ],
          "parcoords": [
           {
            "line": {
             "colorbar": {
              "outlinewidth": 0,
              "ticks": ""
             }
            },
            "type": "parcoords"
           }
          ],
          "pie": [
           {
            "automargin": true,
            "type": "pie"
           }
          ],
          "scatter": [
           {
            "marker": {
             "colorbar": {
              "outlinewidth": 0,
              "ticks": ""
             }
            },
            "type": "scatter"
           }
          ],
          "scatter3d": [
           {
            "line": {
             "colorbar": {
              "outlinewidth": 0,
              "ticks": ""
             }
            },
            "marker": {
             "colorbar": {
              "outlinewidth": 0,
              "ticks": ""
             }
            },
            "type": "scatter3d"
           }
          ],
          "scattercarpet": [
           {
            "marker": {
             "colorbar": {
              "outlinewidth": 0,
              "ticks": ""
             }
            },
            "type": "scattercarpet"
           }
          ],
          "scattergeo": [
           {
            "marker": {
             "colorbar": {
              "outlinewidth": 0,
              "ticks": ""
             }
            },
            "type": "scattergeo"
           }
          ],
          "scattergl": [
           {
            "marker": {
             "colorbar": {
              "outlinewidth": 0,
              "ticks": ""
             }
            },
            "type": "scattergl"
           }
          ],
          "scattermapbox": [
           {
            "marker": {
             "colorbar": {
              "outlinewidth": 0,
              "ticks": ""
             }
            },
            "type": "scattermapbox"
           }
          ],
          "scatterpolar": [
           {
            "marker": {
             "colorbar": {
              "outlinewidth": 0,
              "ticks": ""
             }
            },
            "type": "scatterpolar"
           }
          ],
          "scatterpolargl": [
           {
            "marker": {
             "colorbar": {
              "outlinewidth": 0,
              "ticks": ""
             }
            },
            "type": "scatterpolargl"
           }
          ],
          "scatterternary": [
           {
            "marker": {
             "colorbar": {
              "outlinewidth": 0,
              "ticks": ""
             }
            },
            "type": "scatterternary"
           }
          ],
          "surface": [
           {
            "colorbar": {
             "outlinewidth": 0,
             "ticks": ""
            },
            "colorscale": [
             [
              0,
              "#0d0887"
             ],
             [
              0.1111111111111111,
              "#46039f"
             ],
             [
              0.2222222222222222,
              "#7201a8"
             ],
             [
              0.3333333333333333,
              "#9c179e"
             ],
             [
              0.4444444444444444,
              "#bd3786"
             ],
             [
              0.5555555555555556,
              "#d8576b"
             ],
             [
              0.6666666666666666,
              "#ed7953"
             ],
             [
              0.7777777777777778,
              "#fb9f3a"
             ],
             [
              0.8888888888888888,
              "#fdca26"
             ],
             [
              1,
              "#f0f921"
             ]
            ],
            "type": "surface"
           }
          ],
          "table": [
           {
            "cells": {
             "fill": {
              "color": "#EBF0F8"
             },
             "line": {
              "color": "white"
             }
            },
            "header": {
             "fill": {
              "color": "#C8D4E3"
             },
             "line": {
              "color": "white"
             }
            },
            "type": "table"
           }
          ]
         },
         "layout": {
          "annotationdefaults": {
           "arrowcolor": "#2a3f5f",
           "arrowhead": 0,
           "arrowwidth": 1
          },
          "autotypenumbers": "strict",
          "coloraxis": {
           "colorbar": {
            "outlinewidth": 0,
            "ticks": ""
           }
          },
          "colorscale": {
           "diverging": [
            [
             0,
             "#8e0152"
            ],
            [
             0.1,
             "#c51b7d"
            ],
            [
             0.2,
             "#de77ae"
            ],
            [
             0.3,
             "#f1b6da"
            ],
            [
             0.4,
             "#fde0ef"
            ],
            [
             0.5,
             "#f7f7f7"
            ],
            [
             0.6,
             "#e6f5d0"
            ],
            [
             0.7,
             "#b8e186"
            ],
            [
             0.8,
             "#7fbc41"
            ],
            [
             0.9,
             "#4d9221"
            ],
            [
             1,
             "#276419"
            ]
           ],
           "sequential": [
            [
             0,
             "#0d0887"
            ],
            [
             0.1111111111111111,
             "#46039f"
            ],
            [
             0.2222222222222222,
             "#7201a8"
            ],
            [
             0.3333333333333333,
             "#9c179e"
            ],
            [
             0.4444444444444444,
             "#bd3786"
            ],
            [
             0.5555555555555556,
             "#d8576b"
            ],
            [
             0.6666666666666666,
             "#ed7953"
            ],
            [
             0.7777777777777778,
             "#fb9f3a"
            ],
            [
             0.8888888888888888,
             "#fdca26"
            ],
            [
             1,
             "#f0f921"
            ]
           ],
           "sequentialminus": [
            [
             0,
             "#0d0887"
            ],
            [
             0.1111111111111111,
             "#46039f"
            ],
            [
             0.2222222222222222,
             "#7201a8"
            ],
            [
             0.3333333333333333,
             "#9c179e"
            ],
            [
             0.4444444444444444,
             "#bd3786"
            ],
            [
             0.5555555555555556,
             "#d8576b"
            ],
            [
             0.6666666666666666,
             "#ed7953"
            ],
            [
             0.7777777777777778,
             "#fb9f3a"
            ],
            [
             0.8888888888888888,
             "#fdca26"
            ],
            [
             1,
             "#f0f921"
            ]
           ]
          },
          "colorway": [
           "#636efa",
           "#EF553B",
           "#00cc96",
           "#ab63fa",
           "#FFA15A",
           "#19d3f3",
           "#FF6692",
           "#B6E880",
           "#FF97FF",
           "#FECB52"
          ],
          "font": {
           "color": "#2a3f5f"
          },
          "geo": {
           "bgcolor": "white",
           "lakecolor": "white",
           "landcolor": "#E5ECF6",
           "showlakes": true,
           "showland": true,
           "subunitcolor": "white"
          },
          "hoverlabel": {
           "align": "left"
          },
          "hovermode": "closest",
          "mapbox": {
           "style": "light"
          },
          "paper_bgcolor": "white",
          "plot_bgcolor": "#E5ECF6",
          "polar": {
           "angularaxis": {
            "gridcolor": "white",
            "linecolor": "white",
            "ticks": ""
           },
           "bgcolor": "#E5ECF6",
           "radialaxis": {
            "gridcolor": "white",
            "linecolor": "white",
            "ticks": ""
           }
          },
          "scene": {
           "xaxis": {
            "backgroundcolor": "#E5ECF6",
            "gridcolor": "white",
            "gridwidth": 2,
            "linecolor": "white",
            "showbackground": true,
            "ticks": "",
            "zerolinecolor": "white"
           },
           "yaxis": {
            "backgroundcolor": "#E5ECF6",
            "gridcolor": "white",
            "gridwidth": 2,
            "linecolor": "white",
            "showbackground": true,
            "ticks": "",
            "zerolinecolor": "white"
           },
           "zaxis": {
            "backgroundcolor": "#E5ECF6",
            "gridcolor": "white",
            "gridwidth": 2,
            "linecolor": "white",
            "showbackground": true,
            "ticks": "",
            "zerolinecolor": "white"
           }
          },
          "shapedefaults": {
           "line": {
            "color": "#2a3f5f"
           }
          },
          "ternary": {
           "aaxis": {
            "gridcolor": "white",
            "linecolor": "white",
            "ticks": ""
           },
           "baxis": {
            "gridcolor": "white",
            "linecolor": "white",
            "ticks": ""
           },
           "bgcolor": "#E5ECF6",
           "caxis": {
            "gridcolor": "white",
            "linecolor": "white",
            "ticks": ""
           }
          },
          "title": {
           "x": 0.05
          },
          "xaxis": {
           "automargin": true,
           "gridcolor": "white",
           "linecolor": "white",
           "ticks": "",
           "title": {
            "standoff": 15
           },
           "zerolinecolor": "white",
           "zerolinewidth": 2
          },
          "yaxis": {
           "automargin": true,
           "gridcolor": "white",
           "linecolor": "white",
           "ticks": "",
           "title": {
            "standoff": 15
           },
           "zerolinecolor": "white",
           "zerolinewidth": 2
          }
         }
        }
       }
      }
     },
     "metadata": {},
     "output_type": "display_data"
    }
   ],
   "source": [
    "fig0 = go.Figure()\n",
    "fig0.add_trace(go.Scatter(y=y_test['G3'], x=y_pred_lasso.round(),mode='markers'))\n",
    "fig0.add_trace(go.Scatter(x=y_test['G3'], y=y_test['G3']))\n",
    "fig0.show()"
   ]
  },
  {
   "cell_type": "code",
   "execution_count": 48,
   "id": "05c5b8af",
   "metadata": {},
   "outputs": [
    {
     "name": "stdout",
     "output_type": "stream",
     "text": [
      "0.2626980920761097\n"
     ]
    },
    {
     "data": {
      "application/vnd.plotly.v1+json": {
       "config": {
        "plotlyServerURL": "https://plot.ly"
       },
       "data": [
        {
         "mode": "markers",
         "type": "scatter",
         "x": [
          10,
          11,
          11,
          16,
          10,
          14,
          7,
          10,
          10,
          6,
          13,
          11,
          11,
          14,
          11,
          10,
          14,
          8,
          17,
          8,
          13,
          13,
          10,
          14,
          11,
          12,
          10,
          14,
          11,
          13,
          8,
          6,
          17,
          9,
          14,
          10,
          15,
          15,
          13,
          11,
          15,
          10,
          18,
          11,
          10,
          16,
          14,
          10,
          13,
          15,
          10,
          8,
          11,
          12,
          16,
          10,
          16,
          15,
          14,
          17,
          16,
          11,
          11,
          10,
          10,
          9,
          7,
          10,
          11,
          13,
          13,
          10,
          11,
          13,
          10,
          10,
          11,
          11,
          12,
          11,
          6,
          12,
          19,
          13,
          10,
          16,
          11,
          11,
          11,
          12,
          16,
          11,
          13,
          15,
          14,
          13,
          17,
          9,
          18,
          12,
          11,
          13,
          13,
          12,
          9,
          8,
          10,
          11,
          13,
          12,
          12,
          10,
          12,
          10,
          6,
          11,
          12,
          11,
          8,
          9,
          14,
          10,
          8,
          11,
          15,
          13,
          17,
          8,
          15,
          12,
          10,
          11,
          10,
          12,
          10,
          14,
          13,
          7,
          13,
          8,
          9,
          9,
          15,
          12,
          9,
          9,
          18,
          16,
          8,
          14,
          11,
          7,
          15,
          13,
          17,
          15,
          12,
          8,
          9,
          8,
          12,
          9,
          13,
          14,
          9,
          17,
          13,
          10,
          11,
          10,
          10,
          10,
          14,
          11,
          15,
          12,
          11,
          15,
          14,
          19,
          17,
          15,
          13,
          16,
          18,
          18,
          9,
          10,
          12,
          13,
          12,
          14,
          14,
          13,
          8,
          13,
          11,
          12,
          15,
          15,
          12,
          18,
          16,
          12,
          11,
          12,
          16,
          9,
          10,
          14,
          8,
          7,
          14,
          11,
          11,
          8,
          9,
          10,
          13,
          12,
          10,
          11,
          15,
          12,
          14,
          15,
          16,
          12,
          16,
          13,
          13,
          9,
          10,
          14,
          18,
          10,
          15,
          15,
          8,
          14,
          11,
          10,
          11,
          8,
          17
         ],
         "y": [
          12.53125,
          11.296875,
          11.921875,
          12.90625,
          10.953125,
          10.3125,
          9.828125,
          13.78125,
          9.765625,
          12.796875,
          14.171875,
          11.671875,
          10.078125,
          13.59375,
          11.234375,
          12.453125,
          14.28125,
          9.234375,
          14.25,
          9.171875,
          11.234375,
          12.296875,
          9.953125,
          12.984375,
          10.890625,
          12.453125,
          11.6875,
          12.078125,
          13.390625,
          12.921875,
          10.75,
          12.015625,
          14.609375,
          12.25,
          12.96875,
          12.484375,
          12.703125,
          14.046875,
          13.609375,
          13.40625,
          12.234375,
          13.296875,
          11.546875,
          11.765625,
          11.765625,
          12.984375,
          14.046875,
          11.859375,
          9.640625,
          14.046875,
          11.359375,
          13.234375,
          12.765625,
          11.453125,
          16.046875,
          11.71875,
          12.609375,
          11.390625,
          12.34375,
          13.109375,
          13.8125,
          10.015625,
          12.203125,
          12.640625,
          12.765625,
          9.46875,
          10.671875,
          8.515625,
          11.796875,
          11.609375,
          13.28125,
          12.1875,
          10.953125,
          11.484375,
          13.515625,
          12.21875,
          12.671875,
          13.234375,
          13.578125,
          11.921875,
          13.0625,
          14.046875,
          12.953125,
          13.71875,
          10.546875,
          14.859375,
          12.96875,
          12.265625,
          11.328125,
          12.171875,
          13.203125,
          13.328125,
          12.328125,
          12.609375,
          12.859375,
          12.984375,
          13.3125,
          10.890625,
          11.8125,
          13.296875,
          11.890625,
          12.78125,
          11.671875,
          11.8125,
          8.4375,
          13.1875,
          11.921875,
          12.140625,
          10.984375,
          11.734375,
          11.421875,
          11.921875,
          11.671875,
          9.46875,
          11.609375,
          13.140625,
          12.375,
          12.15625,
          13.109375,
          8.625,
          13.390625,
          10.90625,
          10.203125,
          11.390625,
          14.203125,
          11.03125,
          15.109375,
          9.796875,
          13.890625,
          9.375,
          9.96875,
          10.703125,
          13.296875,
          12.671875,
          12.296875,
          11.203125,
          13.046875,
          10,
          12.703125,
          11.453125,
          11.453125,
          9.6875,
          12.765625,
          13.703125,
          12.484375,
          9.859375,
          12.03125,
          12.859375,
          11.515625,
          11.203125,
          11.28125,
          7.453125,
          14.609375,
          12.109375,
          13.8125,
          13.109375,
          13.578125,
          7.515625,
          11.078125,
          12.046875,
          13.046875,
          14,
          11.921875,
          13.515625,
          10.734375,
          13.140625,
          11.828125,
          10.390625,
          13.203125,
          13.15625,
          13.75,
          12.546875,
          12.140625,
          12.984375,
          12.9375,
          12.484375,
          11.234375,
          12.640625,
          14.046875,
          11.921875,
          14.40625,
          13.34375,
          10.609375,
          12.84375,
          11.171875,
          13.359375,
          11.78125,
          11.90625,
          9.390625,
          13.671875,
          11.984375,
          13.4375,
          12.71875,
          12.484375,
          8.609375,
          12.140625,
          11.515625,
          11.015625,
          12.546875,
          13.59375,
          13.796875,
          12.5,
          12.984375,
          13.859375,
          11.125,
          9.078125,
          13.390625,
          11.796875,
          13.46875,
          13.078125,
          10.359375,
          7.75,
          13.890625,
          13.140625,
          11.40625,
          7.796875,
          13.4375,
          12.265625,
          13.890625,
          11.75,
          6.921875,
          11.078125,
          13.578125,
          11.171875,
          13.515625,
          12.609375,
          12.375,
          12.640625,
          12.578125,
          13.921875,
          11.953125,
          12.0625,
          9.75,
          13.171875,
          14.421875,
          12.859375,
          11.796875,
          14.265625,
          10.21875,
          13.5,
          12.828125,
          11.140625,
          11.03125,
          8.09375,
          14.578125
         ]
        },
        {
         "type": "scatter",
         "x": [
          10,
          11,
          11,
          16,
          10,
          14,
          7,
          10,
          10,
          6,
          13,
          11,
          11,
          14,
          11,
          10,
          14,
          8,
          17,
          8,
          13,
          13,
          10,
          14,
          11,
          12,
          10,
          14,
          11,
          13,
          8,
          6,
          17,
          9,
          14,
          10,
          15,
          15,
          13,
          11,
          15,
          10,
          18,
          11,
          10,
          16,
          14,
          10,
          13,
          15,
          10,
          8,
          11,
          12,
          16,
          10,
          16,
          15,
          14,
          17,
          16,
          11,
          11,
          10,
          10,
          9,
          7,
          10,
          11,
          13,
          13,
          10,
          11,
          13,
          10,
          10,
          11,
          11,
          12,
          11,
          6,
          12,
          19,
          13,
          10,
          16,
          11,
          11,
          11,
          12,
          16,
          11,
          13,
          15,
          14,
          13,
          17,
          9,
          18,
          12,
          11,
          13,
          13,
          12,
          9,
          8,
          10,
          11,
          13,
          12,
          12,
          10,
          12,
          10,
          6,
          11,
          12,
          11,
          8,
          9,
          14,
          10,
          8,
          11,
          15,
          13,
          17,
          8,
          15,
          12,
          10,
          11,
          10,
          12,
          10,
          14,
          13,
          7,
          13,
          8,
          9,
          9,
          15,
          12,
          9,
          9,
          18,
          16,
          8,
          14,
          11,
          7,
          15,
          13,
          17,
          15,
          12,
          8,
          9,
          8,
          12,
          9,
          13,
          14,
          9,
          17,
          13,
          10,
          11,
          10,
          10,
          10,
          14,
          11,
          15,
          12,
          11,
          15,
          14,
          19,
          17,
          15,
          13,
          16,
          18,
          18,
          9,
          10,
          12,
          13,
          12,
          14,
          14,
          13,
          8,
          13,
          11,
          12,
          15,
          15,
          12,
          18,
          16,
          12,
          11,
          12,
          16,
          9,
          10,
          14,
          8,
          7,
          14,
          11,
          11,
          8,
          9,
          10,
          13,
          12,
          10,
          11,
          15,
          12,
          14,
          15,
          16,
          12,
          16,
          13,
          13,
          9,
          10,
          14,
          18,
          10,
          15,
          15,
          8,
          14,
          11,
          10,
          11,
          8,
          17
         ],
         "y": [
          10,
          11,
          11,
          16,
          10,
          14,
          7,
          10,
          10,
          6,
          13,
          11,
          11,
          14,
          11,
          10,
          14,
          8,
          17,
          8,
          13,
          13,
          10,
          14,
          11,
          12,
          10,
          14,
          11,
          13,
          8,
          6,
          17,
          9,
          14,
          10,
          15,
          15,
          13,
          11,
          15,
          10,
          18,
          11,
          10,
          16,
          14,
          10,
          13,
          15,
          10,
          8,
          11,
          12,
          16,
          10,
          16,
          15,
          14,
          17,
          16,
          11,
          11,
          10,
          10,
          9,
          7,
          10,
          11,
          13,
          13,
          10,
          11,
          13,
          10,
          10,
          11,
          11,
          12,
          11,
          6,
          12,
          19,
          13,
          10,
          16,
          11,
          11,
          11,
          12,
          16,
          11,
          13,
          15,
          14,
          13,
          17,
          9,
          18,
          12,
          11,
          13,
          13,
          12,
          9,
          8,
          10,
          11,
          13,
          12,
          12,
          10,
          12,
          10,
          6,
          11,
          12,
          11,
          8,
          9,
          14,
          10,
          8,
          11,
          15,
          13,
          17,
          8,
          15,
          12,
          10,
          11,
          10,
          12,
          10,
          14,
          13,
          7,
          13,
          8,
          9,
          9,
          15,
          12,
          9,
          9,
          18,
          16,
          8,
          14,
          11,
          7,
          15,
          13,
          17,
          15,
          12,
          8,
          9,
          8,
          12,
          9,
          13,
          14,
          9,
          17,
          13,
          10,
          11,
          10,
          10,
          10,
          14,
          11,
          15,
          12,
          11,
          15,
          14,
          19,
          17,
          15,
          13,
          16,
          18,
          18,
          9,
          10,
          12,
          13,
          12,
          14,
          14,
          13,
          8,
          13,
          11,
          12,
          15,
          15,
          12,
          18,
          16,
          12,
          11,
          12,
          16,
          9,
          10,
          14,
          8,
          7,
          14,
          11,
          11,
          8,
          9,
          10,
          13,
          12,
          10,
          11,
          15,
          12,
          14,
          15,
          16,
          12,
          16,
          13,
          13,
          9,
          10,
          14,
          18,
          10,
          15,
          15,
          8,
          14,
          11,
          10,
          11,
          8,
          17
         ]
        }
       ],
       "layout": {
        "template": {
         "data": {
          "bar": [
           {
            "error_x": {
             "color": "#2a3f5f"
            },
            "error_y": {
             "color": "#2a3f5f"
            },
            "marker": {
             "line": {
              "color": "#E5ECF6",
              "width": 0.5
             },
             "pattern": {
              "fillmode": "overlay",
              "size": 10,
              "solidity": 0.2
             }
            },
            "type": "bar"
           }
          ],
          "barpolar": [
           {
            "marker": {
             "line": {
              "color": "#E5ECF6",
              "width": 0.5
             },
             "pattern": {
              "fillmode": "overlay",
              "size": 10,
              "solidity": 0.2
             }
            },
            "type": "barpolar"
           }
          ],
          "carpet": [
           {
            "aaxis": {
             "endlinecolor": "#2a3f5f",
             "gridcolor": "white",
             "linecolor": "white",
             "minorgridcolor": "white",
             "startlinecolor": "#2a3f5f"
            },
            "baxis": {
             "endlinecolor": "#2a3f5f",
             "gridcolor": "white",
             "linecolor": "white",
             "minorgridcolor": "white",
             "startlinecolor": "#2a3f5f"
            },
            "type": "carpet"
           }
          ],
          "choropleth": [
           {
            "colorbar": {
             "outlinewidth": 0,
             "ticks": ""
            },
            "type": "choropleth"
           }
          ],
          "contour": [
           {
            "colorbar": {
             "outlinewidth": 0,
             "ticks": ""
            },
            "colorscale": [
             [
              0,
              "#0d0887"
             ],
             [
              0.1111111111111111,
              "#46039f"
             ],
             [
              0.2222222222222222,
              "#7201a8"
             ],
             [
              0.3333333333333333,
              "#9c179e"
             ],
             [
              0.4444444444444444,
              "#bd3786"
             ],
             [
              0.5555555555555556,
              "#d8576b"
             ],
             [
              0.6666666666666666,
              "#ed7953"
             ],
             [
              0.7777777777777778,
              "#fb9f3a"
             ],
             [
              0.8888888888888888,
              "#fdca26"
             ],
             [
              1,
              "#f0f921"
             ]
            ],
            "type": "contour"
           }
          ],
          "contourcarpet": [
           {
            "colorbar": {
             "outlinewidth": 0,
             "ticks": ""
            },
            "type": "contourcarpet"
           }
          ],
          "heatmap": [
           {
            "colorbar": {
             "outlinewidth": 0,
             "ticks": ""
            },
            "colorscale": [
             [
              0,
              "#0d0887"
             ],
             [
              0.1111111111111111,
              "#46039f"
             ],
             [
              0.2222222222222222,
              "#7201a8"
             ],
             [
              0.3333333333333333,
              "#9c179e"
             ],
             [
              0.4444444444444444,
              "#bd3786"
             ],
             [
              0.5555555555555556,
              "#d8576b"
             ],
             [
              0.6666666666666666,
              "#ed7953"
             ],
             [
              0.7777777777777778,
              "#fb9f3a"
             ],
             [
              0.8888888888888888,
              "#fdca26"
             ],
             [
              1,
              "#f0f921"
             ]
            ],
            "type": "heatmap"
           }
          ],
          "heatmapgl": [
           {
            "colorbar": {
             "outlinewidth": 0,
             "ticks": ""
            },
            "colorscale": [
             [
              0,
              "#0d0887"
             ],
             [
              0.1111111111111111,
              "#46039f"
             ],
             [
              0.2222222222222222,
              "#7201a8"
             ],
             [
              0.3333333333333333,
              "#9c179e"
             ],
             [
              0.4444444444444444,
              "#bd3786"
             ],
             [
              0.5555555555555556,
              "#d8576b"
             ],
             [
              0.6666666666666666,
              "#ed7953"
             ],
             [
              0.7777777777777778,
              "#fb9f3a"
             ],
             [
              0.8888888888888888,
              "#fdca26"
             ],
             [
              1,
              "#f0f921"
             ]
            ],
            "type": "heatmapgl"
           }
          ],
          "histogram": [
           {
            "marker": {
             "pattern": {
              "fillmode": "overlay",
              "size": 10,
              "solidity": 0.2
             }
            },
            "type": "histogram"
           }
          ],
          "histogram2d": [
           {
            "colorbar": {
             "outlinewidth": 0,
             "ticks": ""
            },
            "colorscale": [
             [
              0,
              "#0d0887"
             ],
             [
              0.1111111111111111,
              "#46039f"
             ],
             [
              0.2222222222222222,
              "#7201a8"
             ],
             [
              0.3333333333333333,
              "#9c179e"
             ],
             [
              0.4444444444444444,
              "#bd3786"
             ],
             [
              0.5555555555555556,
              "#d8576b"
             ],
             [
              0.6666666666666666,
              "#ed7953"
             ],
             [
              0.7777777777777778,
              "#fb9f3a"
             ],
             [
              0.8888888888888888,
              "#fdca26"
             ],
             [
              1,
              "#f0f921"
             ]
            ],
            "type": "histogram2d"
           }
          ],
          "histogram2dcontour": [
           {
            "colorbar": {
             "outlinewidth": 0,
             "ticks": ""
            },
            "colorscale": [
             [
              0,
              "#0d0887"
             ],
             [
              0.1111111111111111,
              "#46039f"
             ],
             [
              0.2222222222222222,
              "#7201a8"
             ],
             [
              0.3333333333333333,
              "#9c179e"
             ],
             [
              0.4444444444444444,
              "#bd3786"
             ],
             [
              0.5555555555555556,
              "#d8576b"
             ],
             [
              0.6666666666666666,
              "#ed7953"
             ],
             [
              0.7777777777777778,
              "#fb9f3a"
             ],
             [
              0.8888888888888888,
              "#fdca26"
             ],
             [
              1,
              "#f0f921"
             ]
            ],
            "type": "histogram2dcontour"
           }
          ],
          "mesh3d": [
           {
            "colorbar": {
             "outlinewidth": 0,
             "ticks": ""
            },
            "type": "mesh3d"
           }
          ],
          "parcoords": [
           {
            "line": {
             "colorbar": {
              "outlinewidth": 0,
              "ticks": ""
             }
            },
            "type": "parcoords"
           }
          ],
          "pie": [
           {
            "automargin": true,
            "type": "pie"
           }
          ],
          "scatter": [
           {
            "marker": {
             "colorbar": {
              "outlinewidth": 0,
              "ticks": ""
             }
            },
            "type": "scatter"
           }
          ],
          "scatter3d": [
           {
            "line": {
             "colorbar": {
              "outlinewidth": 0,
              "ticks": ""
             }
            },
            "marker": {
             "colorbar": {
              "outlinewidth": 0,
              "ticks": ""
             }
            },
            "type": "scatter3d"
           }
          ],
          "scattercarpet": [
           {
            "marker": {
             "colorbar": {
              "outlinewidth": 0,
              "ticks": ""
             }
            },
            "type": "scattercarpet"
           }
          ],
          "scattergeo": [
           {
            "marker": {
             "colorbar": {
              "outlinewidth": 0,
              "ticks": ""
             }
            },
            "type": "scattergeo"
           }
          ],
          "scattergl": [
           {
            "marker": {
             "colorbar": {
              "outlinewidth": 0,
              "ticks": ""
             }
            },
            "type": "scattergl"
           }
          ],
          "scattermapbox": [
           {
            "marker": {
             "colorbar": {
              "outlinewidth": 0,
              "ticks": ""
             }
            },
            "type": "scattermapbox"
           }
          ],
          "scatterpolar": [
           {
            "marker": {
             "colorbar": {
              "outlinewidth": 0,
              "ticks": ""
             }
            },
            "type": "scatterpolar"
           }
          ],
          "scatterpolargl": [
           {
            "marker": {
             "colorbar": {
              "outlinewidth": 0,
              "ticks": ""
             }
            },
            "type": "scatterpolargl"
           }
          ],
          "scatterternary": [
           {
            "marker": {
             "colorbar": {
              "outlinewidth": 0,
              "ticks": ""
             }
            },
            "type": "scatterternary"
           }
          ],
          "surface": [
           {
            "colorbar": {
             "outlinewidth": 0,
             "ticks": ""
            },
            "colorscale": [
             [
              0,
              "#0d0887"
             ],
             [
              0.1111111111111111,
              "#46039f"
             ],
             [
              0.2222222222222222,
              "#7201a8"
             ],
             [
              0.3333333333333333,
              "#9c179e"
             ],
             [
              0.4444444444444444,
              "#bd3786"
             ],
             [
              0.5555555555555556,
              "#d8576b"
             ],
             [
              0.6666666666666666,
              "#ed7953"
             ],
             [
              0.7777777777777778,
              "#fb9f3a"
             ],
             [
              0.8888888888888888,
              "#fdca26"
             ],
             [
              1,
              "#f0f921"
             ]
            ],
            "type": "surface"
           }
          ],
          "table": [
           {
            "cells": {
             "fill": {
              "color": "#EBF0F8"
             },
             "line": {
              "color": "white"
             }
            },
            "header": {
             "fill": {
              "color": "#C8D4E3"
             },
             "line": {
              "color": "white"
             }
            },
            "type": "table"
           }
          ]
         },
         "layout": {
          "annotationdefaults": {
           "arrowcolor": "#2a3f5f",
           "arrowhead": 0,
           "arrowwidth": 1
          },
          "autotypenumbers": "strict",
          "coloraxis": {
           "colorbar": {
            "outlinewidth": 0,
            "ticks": ""
           }
          },
          "colorscale": {
           "diverging": [
            [
             0,
             "#8e0152"
            ],
            [
             0.1,
             "#c51b7d"
            ],
            [
             0.2,
             "#de77ae"
            ],
            [
             0.3,
             "#f1b6da"
            ],
            [
             0.4,
             "#fde0ef"
            ],
            [
             0.5,
             "#f7f7f7"
            ],
            [
             0.6,
             "#e6f5d0"
            ],
            [
             0.7,
             "#b8e186"
            ],
            [
             0.8,
             "#7fbc41"
            ],
            [
             0.9,
             "#4d9221"
            ],
            [
             1,
             "#276419"
            ]
           ],
           "sequential": [
            [
             0,
             "#0d0887"
            ],
            [
             0.1111111111111111,
             "#46039f"
            ],
            [
             0.2222222222222222,
             "#7201a8"
            ],
            [
             0.3333333333333333,
             "#9c179e"
            ],
            [
             0.4444444444444444,
             "#bd3786"
            ],
            [
             0.5555555555555556,
             "#d8576b"
            ],
            [
             0.6666666666666666,
             "#ed7953"
            ],
            [
             0.7777777777777778,
             "#fb9f3a"
            ],
            [
             0.8888888888888888,
             "#fdca26"
            ],
            [
             1,
             "#f0f921"
            ]
           ],
           "sequentialminus": [
            [
             0,
             "#0d0887"
            ],
            [
             0.1111111111111111,
             "#46039f"
            ],
            [
             0.2222222222222222,
             "#7201a8"
            ],
            [
             0.3333333333333333,
             "#9c179e"
            ],
            [
             0.4444444444444444,
             "#bd3786"
            ],
            [
             0.5555555555555556,
             "#d8576b"
            ],
            [
             0.6666666666666666,
             "#ed7953"
            ],
            [
             0.7777777777777778,
             "#fb9f3a"
            ],
            [
             0.8888888888888888,
             "#fdca26"
            ],
            [
             1,
             "#f0f921"
            ]
           ]
          },
          "colorway": [
           "#636efa",
           "#EF553B",
           "#00cc96",
           "#ab63fa",
           "#FFA15A",
           "#19d3f3",
           "#FF6692",
           "#B6E880",
           "#FF97FF",
           "#FECB52"
          ],
          "font": {
           "color": "#2a3f5f"
          },
          "geo": {
           "bgcolor": "white",
           "lakecolor": "white",
           "landcolor": "#E5ECF6",
           "showlakes": true,
           "showland": true,
           "subunitcolor": "white"
          },
          "hoverlabel": {
           "align": "left"
          },
          "hovermode": "closest",
          "mapbox": {
           "style": "light"
          },
          "paper_bgcolor": "white",
          "plot_bgcolor": "#E5ECF6",
          "polar": {
           "angularaxis": {
            "gridcolor": "white",
            "linecolor": "white",
            "ticks": ""
           },
           "bgcolor": "#E5ECF6",
           "radialaxis": {
            "gridcolor": "white",
            "linecolor": "white",
            "ticks": ""
           }
          },
          "scene": {
           "xaxis": {
            "backgroundcolor": "#E5ECF6",
            "gridcolor": "white",
            "gridwidth": 2,
            "linecolor": "white",
            "showbackground": true,
            "ticks": "",
            "zerolinecolor": "white"
           },
           "yaxis": {
            "backgroundcolor": "#E5ECF6",
            "gridcolor": "white",
            "gridwidth": 2,
            "linecolor": "white",
            "showbackground": true,
            "ticks": "",
            "zerolinecolor": "white"
           },
           "zaxis": {
            "backgroundcolor": "#E5ECF6",
            "gridcolor": "white",
            "gridwidth": 2,
            "linecolor": "white",
            "showbackground": true,
            "ticks": "",
            "zerolinecolor": "white"
           }
          },
          "shapedefaults": {
           "line": {
            "color": "#2a3f5f"
           }
          },
          "ternary": {
           "aaxis": {
            "gridcolor": "white",
            "linecolor": "white",
            "ticks": ""
           },
           "baxis": {
            "gridcolor": "white",
            "linecolor": "white",
            "ticks": ""
           },
           "bgcolor": "#E5ECF6",
           "caxis": {
            "gridcolor": "white",
            "linecolor": "white",
            "ticks": ""
           }
          },
          "title": {
           "x": 0.05
          },
          "xaxis": {
           "automargin": true,
           "gridcolor": "white",
           "linecolor": "white",
           "ticks": "",
           "title": {
            "standoff": 15
           },
           "zerolinecolor": "white",
           "zerolinewidth": 2
          },
          "yaxis": {
           "automargin": true,
           "gridcolor": "white",
           "linecolor": "white",
           "ticks": "",
           "title": {
            "standoff": 15
           },
           "zerolinecolor": "white",
           "zerolinewidth": 2
          }
         }
        }
       }
      }
     },
     "metadata": {},
     "output_type": "display_data"
    }
   ],
   "source": [
    "print(lin.score(X_test, y_test['G3']))\n",
    "fig = go.Figure()\n",
    "fig.add_trace(go.Scatter(x=y_test['G3'], y=lin_pred,mode='markers'))\n",
    "fig.add_trace(go.Scatter(x=y_test['G3'], y=y_test['G3']))\n",
    "fig.show()"
   ]
  },
  {
   "cell_type": "code",
   "execution_count": 49,
   "id": "f8be2a06",
   "metadata": {},
   "outputs": [
    {
     "name": "stdout",
     "output_type": "stream",
     "text": [
      "0.2\n"
     ]
    },
    {
     "data": {
      "application/vnd.plotly.v1+json": {
       "config": {
        "plotlyServerURL": "https://plot.ly"
       },
       "data": [
        {
         "mode": "markers",
         "type": "scatter",
         "x": [
          10,
          11,
          11,
          16,
          10,
          14,
          7,
          10,
          10,
          6,
          13,
          11,
          11,
          14,
          11,
          10,
          14,
          8,
          17,
          8,
          13,
          13,
          10,
          14,
          11,
          12,
          10,
          14,
          11,
          13,
          8,
          6,
          17,
          9,
          14,
          10,
          15,
          15,
          13,
          11,
          15,
          10,
          18,
          11,
          10,
          16,
          14,
          10,
          13,
          15,
          10,
          8,
          11,
          12,
          16,
          10,
          16,
          15,
          14,
          17,
          16,
          11,
          11,
          10,
          10,
          9,
          7,
          10,
          11,
          13,
          13,
          10,
          11,
          13,
          10,
          10,
          11,
          11,
          12,
          11,
          6,
          12,
          19,
          13,
          10,
          16,
          11,
          11,
          11,
          12,
          16,
          11,
          13,
          15,
          14,
          13,
          17,
          9,
          18,
          12,
          11,
          13,
          13,
          12,
          9,
          8,
          10,
          11,
          13,
          12,
          12,
          10,
          12,
          10,
          6,
          11,
          12,
          11,
          8,
          9,
          14,
          10,
          8,
          11,
          15,
          13,
          17,
          8,
          15,
          12,
          10,
          11,
          10,
          12,
          10,
          14,
          13,
          7,
          13,
          8,
          9,
          9,
          15,
          12,
          9,
          9,
          18,
          16,
          8,
          14,
          11,
          7,
          15,
          13,
          17,
          15,
          12,
          8,
          9,
          8,
          12,
          9,
          13,
          14,
          9,
          17,
          13,
          10,
          11,
          10,
          10,
          10,
          14,
          11,
          15,
          12,
          11,
          15,
          14,
          19,
          17,
          15,
          13,
          16,
          18,
          18,
          9,
          10,
          12,
          13,
          12,
          14,
          14,
          13,
          8,
          13,
          11,
          12,
          15,
          15,
          12,
          18,
          16,
          12,
          11,
          12,
          16,
          9,
          10,
          14,
          8,
          7,
          14,
          11,
          11,
          8,
          9,
          10,
          13,
          12,
          10,
          11,
          15,
          12,
          14,
          15,
          16,
          12,
          16,
          13,
          13,
          9,
          10,
          14,
          18,
          10,
          15,
          15,
          8,
          14,
          11,
          10,
          11,
          8,
          17
         ],
         "y": [
          13,
          11,
          12,
          13,
          11,
          10,
          10,
          14,
          10,
          13,
          14,
          12,
          10,
          14,
          11,
          12,
          14,
          9,
          14,
          9,
          11,
          12,
          10,
          13,
          11,
          12,
          12,
          12,
          13,
          13,
          11,
          12,
          15,
          12,
          13,
          12,
          13,
          14,
          14,
          13,
          12,
          13,
          12,
          12,
          12,
          13,
          14,
          12,
          10,
          14,
          11,
          13,
          13,
          11,
          16,
          12,
          13,
          11,
          12,
          13,
          14,
          10,
          12,
          13,
          13,
          9,
          11,
          9,
          12,
          12,
          13,
          12,
          11,
          11,
          14,
          12,
          13,
          13,
          14,
          12,
          13,
          14,
          13,
          14,
          11,
          15,
          13,
          12,
          11,
          12,
          13,
          13,
          12,
          13,
          13,
          13,
          13,
          11,
          12,
          13,
          12,
          13,
          12,
          12,
          8,
          13,
          12,
          12,
          11,
          12,
          11,
          12,
          12,
          9,
          12,
          13,
          12,
          12,
          13,
          9,
          13,
          11,
          10,
          11,
          14,
          11,
          15,
          10,
          14,
          9,
          10,
          11,
          13,
          13,
          12,
          11,
          13,
          10,
          13,
          11,
          11,
          10,
          13,
          14,
          12,
          10,
          12,
          13,
          12,
          11,
          11,
          7,
          15,
          12,
          14,
          13,
          14,
          8,
          11,
          12,
          13,
          14,
          12,
          14,
          11,
          13,
          12,
          10,
          13,
          13,
          14,
          13,
          12,
          13,
          13,
          12,
          11,
          13,
          14,
          12,
          14,
          13,
          11,
          13,
          11,
          13,
          12,
          12,
          9,
          14,
          12,
          13,
          13,
          12,
          9,
          12,
          12,
          11,
          13,
          14,
          14,
          12,
          13,
          14,
          11,
          9,
          13,
          12,
          13,
          13,
          10,
          8,
          14,
          13,
          11,
          8,
          13,
          12,
          14,
          12,
          7,
          11,
          14,
          11,
          14,
          13,
          12,
          13,
          13,
          14,
          12,
          12,
          10,
          13,
          14,
          13,
          12,
          14,
          10,
          14,
          13,
          11,
          11,
          8,
          15
         ]
        },
        {
         "type": "scatter",
         "x": [
          10,
          11,
          11,
          16,
          10,
          14,
          7,
          10,
          10,
          6,
          13,
          11,
          11,
          14,
          11,
          10,
          14,
          8,
          17,
          8,
          13,
          13,
          10,
          14,
          11,
          12,
          10,
          14,
          11,
          13,
          8,
          6,
          17,
          9,
          14,
          10,
          15,
          15,
          13,
          11,
          15,
          10,
          18,
          11,
          10,
          16,
          14,
          10,
          13,
          15,
          10,
          8,
          11,
          12,
          16,
          10,
          16,
          15,
          14,
          17,
          16,
          11,
          11,
          10,
          10,
          9,
          7,
          10,
          11,
          13,
          13,
          10,
          11,
          13,
          10,
          10,
          11,
          11,
          12,
          11,
          6,
          12,
          19,
          13,
          10,
          16,
          11,
          11,
          11,
          12,
          16,
          11,
          13,
          15,
          14,
          13,
          17,
          9,
          18,
          12,
          11,
          13,
          13,
          12,
          9,
          8,
          10,
          11,
          13,
          12,
          12,
          10,
          12,
          10,
          6,
          11,
          12,
          11,
          8,
          9,
          14,
          10,
          8,
          11,
          15,
          13,
          17,
          8,
          15,
          12,
          10,
          11,
          10,
          12,
          10,
          14,
          13,
          7,
          13,
          8,
          9,
          9,
          15,
          12,
          9,
          9,
          18,
          16,
          8,
          14,
          11,
          7,
          15,
          13,
          17,
          15,
          12,
          8,
          9,
          8,
          12,
          9,
          13,
          14,
          9,
          17,
          13,
          10,
          11,
          10,
          10,
          10,
          14,
          11,
          15,
          12,
          11,
          15,
          14,
          19,
          17,
          15,
          13,
          16,
          18,
          18,
          9,
          10,
          12,
          13,
          12,
          14,
          14,
          13,
          8,
          13,
          11,
          12,
          15,
          15,
          12,
          18,
          16,
          12,
          11,
          12,
          16,
          9,
          10,
          14,
          8,
          7,
          14,
          11,
          11,
          8,
          9,
          10,
          13,
          12,
          10,
          11,
          15,
          12,
          14,
          15,
          16,
          12,
          16,
          13,
          13,
          9,
          10,
          14,
          18,
          10,
          15,
          15,
          8,
          14,
          11,
          10,
          11,
          8,
          17
         ],
         "y": [
          10,
          11,
          11,
          16,
          10,
          14,
          7,
          10,
          10,
          6,
          13,
          11,
          11,
          14,
          11,
          10,
          14,
          8,
          17,
          8,
          13,
          13,
          10,
          14,
          11,
          12,
          10,
          14,
          11,
          13,
          8,
          6,
          17,
          9,
          14,
          10,
          15,
          15,
          13,
          11,
          15,
          10,
          18,
          11,
          10,
          16,
          14,
          10,
          13,
          15,
          10,
          8,
          11,
          12,
          16,
          10,
          16,
          15,
          14,
          17,
          16,
          11,
          11,
          10,
          10,
          9,
          7,
          10,
          11,
          13,
          13,
          10,
          11,
          13,
          10,
          10,
          11,
          11,
          12,
          11,
          6,
          12,
          19,
          13,
          10,
          16,
          11,
          11,
          11,
          12,
          16,
          11,
          13,
          15,
          14,
          13,
          17,
          9,
          18,
          12,
          11,
          13,
          13,
          12,
          9,
          8,
          10,
          11,
          13,
          12,
          12,
          10,
          12,
          10,
          6,
          11,
          12,
          11,
          8,
          9,
          14,
          10,
          8,
          11,
          15,
          13,
          17,
          8,
          15,
          12,
          10,
          11,
          10,
          12,
          10,
          14,
          13,
          7,
          13,
          8,
          9,
          9,
          15,
          12,
          9,
          9,
          18,
          16,
          8,
          14,
          11,
          7,
          15,
          13,
          17,
          15,
          12,
          8,
          9,
          8,
          12,
          9,
          13,
          14,
          9,
          17,
          13,
          10,
          11,
          10,
          10,
          10,
          14,
          11,
          15,
          12,
          11,
          15,
          14,
          19,
          17,
          15,
          13,
          16,
          18,
          18,
          9,
          10,
          12,
          13,
          12,
          14,
          14,
          13,
          8,
          13,
          11,
          12,
          15,
          15,
          12,
          18,
          16,
          12,
          11,
          12,
          16,
          9,
          10,
          14,
          8,
          7,
          14,
          11,
          11,
          8,
          9,
          10,
          13,
          12,
          10,
          11,
          15,
          12,
          14,
          15,
          16,
          12,
          16,
          13,
          13,
          9,
          10,
          14,
          18,
          10,
          15,
          15,
          8,
          14,
          11,
          10,
          11,
          8,
          17
         ]
        }
       ],
       "layout": {
        "template": {
         "data": {
          "bar": [
           {
            "error_x": {
             "color": "#2a3f5f"
            },
            "error_y": {
             "color": "#2a3f5f"
            },
            "marker": {
             "line": {
              "color": "#E5ECF6",
              "width": 0.5
             },
             "pattern": {
              "fillmode": "overlay",
              "size": 10,
              "solidity": 0.2
             }
            },
            "type": "bar"
           }
          ],
          "barpolar": [
           {
            "marker": {
             "line": {
              "color": "#E5ECF6",
              "width": 0.5
             },
             "pattern": {
              "fillmode": "overlay",
              "size": 10,
              "solidity": 0.2
             }
            },
            "type": "barpolar"
           }
          ],
          "carpet": [
           {
            "aaxis": {
             "endlinecolor": "#2a3f5f",
             "gridcolor": "white",
             "linecolor": "white",
             "minorgridcolor": "white",
             "startlinecolor": "#2a3f5f"
            },
            "baxis": {
             "endlinecolor": "#2a3f5f",
             "gridcolor": "white",
             "linecolor": "white",
             "minorgridcolor": "white",
             "startlinecolor": "#2a3f5f"
            },
            "type": "carpet"
           }
          ],
          "choropleth": [
           {
            "colorbar": {
             "outlinewidth": 0,
             "ticks": ""
            },
            "type": "choropleth"
           }
          ],
          "contour": [
           {
            "colorbar": {
             "outlinewidth": 0,
             "ticks": ""
            },
            "colorscale": [
             [
              0,
              "#0d0887"
             ],
             [
              0.1111111111111111,
              "#46039f"
             ],
             [
              0.2222222222222222,
              "#7201a8"
             ],
             [
              0.3333333333333333,
              "#9c179e"
             ],
             [
              0.4444444444444444,
              "#bd3786"
             ],
             [
              0.5555555555555556,
              "#d8576b"
             ],
             [
              0.6666666666666666,
              "#ed7953"
             ],
             [
              0.7777777777777778,
              "#fb9f3a"
             ],
             [
              0.8888888888888888,
              "#fdca26"
             ],
             [
              1,
              "#f0f921"
             ]
            ],
            "type": "contour"
           }
          ],
          "contourcarpet": [
           {
            "colorbar": {
             "outlinewidth": 0,
             "ticks": ""
            },
            "type": "contourcarpet"
           }
          ],
          "heatmap": [
           {
            "colorbar": {
             "outlinewidth": 0,
             "ticks": ""
            },
            "colorscale": [
             [
              0,
              "#0d0887"
             ],
             [
              0.1111111111111111,
              "#46039f"
             ],
             [
              0.2222222222222222,
              "#7201a8"
             ],
             [
              0.3333333333333333,
              "#9c179e"
             ],
             [
              0.4444444444444444,
              "#bd3786"
             ],
             [
              0.5555555555555556,
              "#d8576b"
             ],
             [
              0.6666666666666666,
              "#ed7953"
             ],
             [
              0.7777777777777778,
              "#fb9f3a"
             ],
             [
              0.8888888888888888,
              "#fdca26"
             ],
             [
              1,
              "#f0f921"
             ]
            ],
            "type": "heatmap"
           }
          ],
          "heatmapgl": [
           {
            "colorbar": {
             "outlinewidth": 0,
             "ticks": ""
            },
            "colorscale": [
             [
              0,
              "#0d0887"
             ],
             [
              0.1111111111111111,
              "#46039f"
             ],
             [
              0.2222222222222222,
              "#7201a8"
             ],
             [
              0.3333333333333333,
              "#9c179e"
             ],
             [
              0.4444444444444444,
              "#bd3786"
             ],
             [
              0.5555555555555556,
              "#d8576b"
             ],
             [
              0.6666666666666666,
              "#ed7953"
             ],
             [
              0.7777777777777778,
              "#fb9f3a"
             ],
             [
              0.8888888888888888,
              "#fdca26"
             ],
             [
              1,
              "#f0f921"
             ]
            ],
            "type": "heatmapgl"
           }
          ],
          "histogram": [
           {
            "marker": {
             "pattern": {
              "fillmode": "overlay",
              "size": 10,
              "solidity": 0.2
             }
            },
            "type": "histogram"
           }
          ],
          "histogram2d": [
           {
            "colorbar": {
             "outlinewidth": 0,
             "ticks": ""
            },
            "colorscale": [
             [
              0,
              "#0d0887"
             ],
             [
              0.1111111111111111,
              "#46039f"
             ],
             [
              0.2222222222222222,
              "#7201a8"
             ],
             [
              0.3333333333333333,
              "#9c179e"
             ],
             [
              0.4444444444444444,
              "#bd3786"
             ],
             [
              0.5555555555555556,
              "#d8576b"
             ],
             [
              0.6666666666666666,
              "#ed7953"
             ],
             [
              0.7777777777777778,
              "#fb9f3a"
             ],
             [
              0.8888888888888888,
              "#fdca26"
             ],
             [
              1,
              "#f0f921"
             ]
            ],
            "type": "histogram2d"
           }
          ],
          "histogram2dcontour": [
           {
            "colorbar": {
             "outlinewidth": 0,
             "ticks": ""
            },
            "colorscale": [
             [
              0,
              "#0d0887"
             ],
             [
              0.1111111111111111,
              "#46039f"
             ],
             [
              0.2222222222222222,
              "#7201a8"
             ],
             [
              0.3333333333333333,
              "#9c179e"
             ],
             [
              0.4444444444444444,
              "#bd3786"
             ],
             [
              0.5555555555555556,
              "#d8576b"
             ],
             [
              0.6666666666666666,
              "#ed7953"
             ],
             [
              0.7777777777777778,
              "#fb9f3a"
             ],
             [
              0.8888888888888888,
              "#fdca26"
             ],
             [
              1,
              "#f0f921"
             ]
            ],
            "type": "histogram2dcontour"
           }
          ],
          "mesh3d": [
           {
            "colorbar": {
             "outlinewidth": 0,
             "ticks": ""
            },
            "type": "mesh3d"
           }
          ],
          "parcoords": [
           {
            "line": {
             "colorbar": {
              "outlinewidth": 0,
              "ticks": ""
             }
            },
            "type": "parcoords"
           }
          ],
          "pie": [
           {
            "automargin": true,
            "type": "pie"
           }
          ],
          "scatter": [
           {
            "marker": {
             "colorbar": {
              "outlinewidth": 0,
              "ticks": ""
             }
            },
            "type": "scatter"
           }
          ],
          "scatter3d": [
           {
            "line": {
             "colorbar": {
              "outlinewidth": 0,
              "ticks": ""
             }
            },
            "marker": {
             "colorbar": {
              "outlinewidth": 0,
              "ticks": ""
             }
            },
            "type": "scatter3d"
           }
          ],
          "scattercarpet": [
           {
            "marker": {
             "colorbar": {
              "outlinewidth": 0,
              "ticks": ""
             }
            },
            "type": "scattercarpet"
           }
          ],
          "scattergeo": [
           {
            "marker": {
             "colorbar": {
              "outlinewidth": 0,
              "ticks": ""
             }
            },
            "type": "scattergeo"
           }
          ],
          "scattergl": [
           {
            "marker": {
             "colorbar": {
              "outlinewidth": 0,
              "ticks": ""
             }
            },
            "type": "scattergl"
           }
          ],
          "scattermapbox": [
           {
            "marker": {
             "colorbar": {
              "outlinewidth": 0,
              "ticks": ""
             }
            },
            "type": "scattermapbox"
           }
          ],
          "scatterpolar": [
           {
            "marker": {
             "colorbar": {
              "outlinewidth": 0,
              "ticks": ""
             }
            },
            "type": "scatterpolar"
           }
          ],
          "scatterpolargl": [
           {
            "marker": {
             "colorbar": {
              "outlinewidth": 0,
              "ticks": ""
             }
            },
            "type": "scatterpolargl"
           }
          ],
          "scatterternary": [
           {
            "marker": {
             "colorbar": {
              "outlinewidth": 0,
              "ticks": ""
             }
            },
            "type": "scatterternary"
           }
          ],
          "surface": [
           {
            "colorbar": {
             "outlinewidth": 0,
             "ticks": ""
            },
            "colorscale": [
             [
              0,
              "#0d0887"
             ],
             [
              0.1111111111111111,
              "#46039f"
             ],
             [
              0.2222222222222222,
              "#7201a8"
             ],
             [
              0.3333333333333333,
              "#9c179e"
             ],
             [
              0.4444444444444444,
              "#bd3786"
             ],
             [
              0.5555555555555556,
              "#d8576b"
             ],
             [
              0.6666666666666666,
              "#ed7953"
             ],
             [
              0.7777777777777778,
              "#fb9f3a"
             ],
             [
              0.8888888888888888,
              "#fdca26"
             ],
             [
              1,
              "#f0f921"
             ]
            ],
            "type": "surface"
           }
          ],
          "table": [
           {
            "cells": {
             "fill": {
              "color": "#EBF0F8"
             },
             "line": {
              "color": "white"
             }
            },
            "header": {
             "fill": {
              "color": "#C8D4E3"
             },
             "line": {
              "color": "white"
             }
            },
            "type": "table"
           }
          ]
         },
         "layout": {
          "annotationdefaults": {
           "arrowcolor": "#2a3f5f",
           "arrowhead": 0,
           "arrowwidth": 1
          },
          "autotypenumbers": "strict",
          "coloraxis": {
           "colorbar": {
            "outlinewidth": 0,
            "ticks": ""
           }
          },
          "colorscale": {
           "diverging": [
            [
             0,
             "#8e0152"
            ],
            [
             0.1,
             "#c51b7d"
            ],
            [
             0.2,
             "#de77ae"
            ],
            [
             0.3,
             "#f1b6da"
            ],
            [
             0.4,
             "#fde0ef"
            ],
            [
             0.5,
             "#f7f7f7"
            ],
            [
             0.6,
             "#e6f5d0"
            ],
            [
             0.7,
             "#b8e186"
            ],
            [
             0.8,
             "#7fbc41"
            ],
            [
             0.9,
             "#4d9221"
            ],
            [
             1,
             "#276419"
            ]
           ],
           "sequential": [
            [
             0,
             "#0d0887"
            ],
            [
             0.1111111111111111,
             "#46039f"
            ],
            [
             0.2222222222222222,
             "#7201a8"
            ],
            [
             0.3333333333333333,
             "#9c179e"
            ],
            [
             0.4444444444444444,
             "#bd3786"
            ],
            [
             0.5555555555555556,
             "#d8576b"
            ],
            [
             0.6666666666666666,
             "#ed7953"
            ],
            [
             0.7777777777777778,
             "#fb9f3a"
            ],
            [
             0.8888888888888888,
             "#fdca26"
            ],
            [
             1,
             "#f0f921"
            ]
           ],
           "sequentialminus": [
            [
             0,
             "#0d0887"
            ],
            [
             0.1111111111111111,
             "#46039f"
            ],
            [
             0.2222222222222222,
             "#7201a8"
            ],
            [
             0.3333333333333333,
             "#9c179e"
            ],
            [
             0.4444444444444444,
             "#bd3786"
            ],
            [
             0.5555555555555556,
             "#d8576b"
            ],
            [
             0.6666666666666666,
             "#ed7953"
            ],
            [
             0.7777777777777778,
             "#fb9f3a"
            ],
            [
             0.8888888888888888,
             "#fdca26"
            ],
            [
             1,
             "#f0f921"
            ]
           ]
          },
          "colorway": [
           "#636efa",
           "#EF553B",
           "#00cc96",
           "#ab63fa",
           "#FFA15A",
           "#19d3f3",
           "#FF6692",
           "#B6E880",
           "#FF97FF",
           "#FECB52"
          ],
          "font": {
           "color": "#2a3f5f"
          },
          "geo": {
           "bgcolor": "white",
           "lakecolor": "white",
           "landcolor": "#E5ECF6",
           "showlakes": true,
           "showland": true,
           "subunitcolor": "white"
          },
          "hoverlabel": {
           "align": "left"
          },
          "hovermode": "closest",
          "mapbox": {
           "style": "light"
          },
          "paper_bgcolor": "white",
          "plot_bgcolor": "#E5ECF6",
          "polar": {
           "angularaxis": {
            "gridcolor": "white",
            "linecolor": "white",
            "ticks": ""
           },
           "bgcolor": "#E5ECF6",
           "radialaxis": {
            "gridcolor": "white",
            "linecolor": "white",
            "ticks": ""
           }
          },
          "scene": {
           "xaxis": {
            "backgroundcolor": "#E5ECF6",
            "gridcolor": "white",
            "gridwidth": 2,
            "linecolor": "white",
            "showbackground": true,
            "ticks": "",
            "zerolinecolor": "white"
           },
           "yaxis": {
            "backgroundcolor": "#E5ECF6",
            "gridcolor": "white",
            "gridwidth": 2,
            "linecolor": "white",
            "showbackground": true,
            "ticks": "",
            "zerolinecolor": "white"
           },
           "zaxis": {
            "backgroundcolor": "#E5ECF6",
            "gridcolor": "white",
            "gridwidth": 2,
            "linecolor": "white",
            "showbackground": true,
            "ticks": "",
            "zerolinecolor": "white"
           }
          },
          "shapedefaults": {
           "line": {
            "color": "#2a3f5f"
           }
          },
          "ternary": {
           "aaxis": {
            "gridcolor": "white",
            "linecolor": "white",
            "ticks": ""
           },
           "baxis": {
            "gridcolor": "white",
            "linecolor": "white",
            "ticks": ""
           },
           "bgcolor": "#E5ECF6",
           "caxis": {
            "gridcolor": "white",
            "linecolor": "white",
            "ticks": ""
           }
          },
          "title": {
           "x": 0.05
          },
          "xaxis": {
           "automargin": true,
           "gridcolor": "white",
           "linecolor": "white",
           "ticks": "",
           "title": {
            "standoff": 15
           },
           "zerolinecolor": "white",
           "zerolinewidth": 2
          },
          "yaxis": {
           "automargin": true,
           "gridcolor": "white",
           "linecolor": "white",
           "ticks": "",
           "title": {
            "standoff": 15
           },
           "zerolinecolor": "white",
           "zerolinewidth": 2
          }
         }
        }
       }
      }
     },
     "metadata": {},
     "output_type": "display_data"
    }
   ],
   "source": [
    "print(metrics.accuracy_score(y_test['G3'], lin_pred.copy().round()))\n",
    "fig1 = go.Figure()\n",
    "fig1.add_trace(go.Scatter(x=y_test['G3'], y=lin_pred.round(),mode='markers'))\n",
    "fig1.add_trace(go.Scatter(x=y_test['G3'], y=y_test['G3']))\n",
    "fig1.show()"
   ]
  },
  {
   "cell_type": "code",
   "execution_count": 141,
   "id": "c85288eb",
   "metadata": {},
   "outputs": [
    {
     "name": "stdout",
     "output_type": "stream",
     "text": [
      "0.298375776024414\n",
      "-0.0002005714899346404\n",
      "0.0352344336211981\n",
      "              precision    recall  f1-score   support\n",
      "\n",
      "           6       0.00      0.00      0.00         4\n",
      "           7       1.00      0.20      0.33         5\n",
      "           8       1.00      0.06      0.11        17\n",
      "           9       0.29      0.25      0.27        16\n",
      "          10       0.27      0.11      0.15        38\n",
      "          11       0.19      0.18      0.19        38\n",
      "          12       0.15      0.35      0.20        26\n",
      "          13       0.08      0.21      0.12        28\n",
      "          14       0.21      0.32      0.25        22\n",
      "          15       0.29      0.10      0.15        20\n",
      "          16       0.50      0.08      0.13        13\n",
      "          17       0.00      0.00      0.00         9\n",
      "          18       0.00      0.00      0.00         7\n",
      "          19       0.00      0.00      0.00         2\n",
      "\n",
      "    accuracy                           0.17       245\n",
      "   macro avg       0.28      0.13      0.14       245\n",
      "weighted avg       0.27      0.17      0.16       245\n",
      "\n"
     ]
    }
   ],
   "source": [
    "GB = GradientBoostingRegressor(loss='huber',learning_rate=0.094, random_state=8, n_estimators=100)\n",
    "GB.fit(X_train, y_train['G3'])\n",
    "GB_pred = GB.predict(X_test)\n",
    "print(GB.score(X_test, y_test['G3']))\n",
    "print(metrics.adjusted_rand_score(y_test['G3'], GB_pred.copy()))\n",
    "print(metrics.mean_squared_log_error(y_test['G3'], GB_pred.copy()))\n",
    "print(metrics.classification_report(y_test['G3'], GB_pred.copy().round()))"
   ]
  },
  {
   "cell_type": "code",
   "execution_count": 116,
   "id": "25be8626",
   "metadata": {},
   "outputs": [
    {
     "data": {
      "application/vnd.plotly.v1+json": {
       "config": {
        "plotlyServerURL": "https://plot.ly"
       },
       "data": [
        {
         "mode": "markers",
         "type": "scatter",
         "x": [
          11.83993785613498,
          11.072006777473815,
          11.266717114705694,
          13.09107653133989,
          11.67872950555962,
          12.45617184633582,
          10.120236460091116,
          13.087715962528305,
          9.76865599282524,
          11.442383552291824,
          13.731506588679167,
          11.236632960481177,
          14.278493239514622,
          14.47070369211358,
          12.793335125114961,
          12.237647695861295,
          15.06802959653236,
          8.487951871475532,
          14.204458755371196,
          8.996510404113588,
          10.854984924129843,
          11.484382637283817,
          9.682611270163758,
          13.872076004568008,
          11.802394460349355,
          12.914238445622404,
          12.328904818415586,
          12.813546189647472,
          13.07759521669612,
          12.55509358899144,
          11.912480935448153,
          12.471150122566765,
          14.41000481354835,
          11.562006736856272,
          13.26703927594328,
          12.498579620437821,
          13.163390618524323,
          14.586837805195309,
          13.599994330585853,
          13.330790327966715,
          12.616070848301531,
          12.792161800772433,
          11.939125477849268,
          12.076779077597026,
          11.630025726951619,
          12.793038248524883,
          13.82384277552484,
          10.545181121144092,
          11.809806656649522,
          13.898343430341496,
          12.026398205692743,
          11.959910139857667,
          12.173541176759295,
          11.786911101708224,
          16.21029697051575,
          11.243580713440155,
          13.39567199635766,
          10.990854886847558,
          12.02091611240126,
          13.506203645040308,
          14.454472323691062,
          10.26876235292954,
          12.558364676339869,
          12.354188406208229,
          12.582888133991522,
          9.103661044263093,
          10.757111725672804,
          8.954038096708336,
          13.026734032065242,
          11.822246091154652,
          15.091610810400093,
          12.321885993325285,
          11.357427261754502,
          11.867520056098078,
          13.017279272233107,
          11.800671006879561,
          12.247241040735709,
          13.532336816953537,
          12.762433526411609,
          12.75659298299733,
          11.6137578393593,
          14.422107824331315,
          14.32038406720716,
          13.458436536357407,
          9.768409122145792,
          15.001051138938385,
          12.344530797794166,
          11.822718277226107,
          12.870869574962262,
          11.979131445918561,
          13.354811051763301,
          13.255599410616863,
          13.14185425191232,
          13.39567199635766,
          12.805494919638484,
          12.6162030169672,
          12.634345844421391,
          10.736674921364084,
          11.449669413612913,
          11.488197395746708,
          12.3747116578265,
          13.184526973944044,
          10.788938751913484,
          11.841264450097759,
          9.5050991739146,
          13.50666529867254,
          11.16909009514066,
          12.867855736664707,
          10.562027482683334,
          12.01329452117874,
          10.681481481940178,
          11.100573931193537,
          10.33919233392115,
          9.924629457982004,
          11.446076545456336,
          12.78346366877874,
          12.132617776215834,
          11.175247535870898,
          12.983171970027895,
          9.0731791239847,
          13.867918344836696,
          9.13035979369763,
          9.95131219434817,
          12.293641489486678,
          15.118743434964829,
          10.231606934974808,
          15.409498458981416,
          12.498819702468568,
          13.82069034037531,
          8.528275917145159,
          10.722296950604214,
          10.957218653402183,
          11.233206622452819,
          12.64734795361901,
          12.258455710094907,
          11.69132547558771,
          12.649214579791302,
          9.71026971578354,
          12.373907164962576,
          10.702149267039134,
          11.19821534358081,
          10.428317912672322,
          12.3488548019814,
          13.269435689097373,
          11.192229865784341,
          9.109486631137862,
          11.999865139875116,
          13.078020611951697,
          12.201228086873266,
          10.9946952314405,
          10.78448502775786,
          9.079943887849694,
          13.845462971839442,
          12.347352078237218,
          14.07103186159406,
          13.494971399046111,
          13.371083808020222,
          9.50321601600831,
          11.436898208243568,
          11.649047128742707,
          15.642143401658824,
          13.229885217145835,
          12.560088672403195,
          13.169832052871667,
          10.155091175763317,
          13.033142414577155,
          11.36083666305463,
          11.85087080495508,
          12.066148681727187,
          13.099410664384196,
          13.433554914237755,
          12.876573161243691,
          13.359239961071658,
          13.535912173532653,
          13.75943296192834,
          12.494068875836572,
          11.697616334360056,
          12.385417607329057,
          13.863503957521404,
          12.679119605888252,
          13.845462971839442,
          13.56919374777405,
          11.21850967352819,
          13.121936032346307,
          11.991094537948152,
          13.661303233866551,
          12.01680680982358,
          11.02515951903073,
          10.802496412623555,
          13.755648803329146,
          12.049522242516376,
          12.941693075649223,
          12.853051401244112,
          13.125442591358247,
          9.383541326416411,
          12.422031164177588,
          11.730072108495236,
          11.617371255366981,
          13.334987648849392,
          13.722411010358961,
          14.660378816749457,
          12.95791486244871,
          13.06203343991573,
          13.683084154816955,
          9.431923387661538,
          10.772600336786308,
          13.455172223469585,
          12.114573936402286,
          13.615149904602955,
          12.705083856857346,
          10.789215507545785,
          6.902239702087778,
          12.604404242743625,
          13.181909427235508,
          12.74316734179893,
          9.12330380903682,
          13.826733685429323,
          11.844832182404845,
          13.781768373107576,
          11.594605685519182,
          9.244756403114927,
          12.26778214499166,
          14.225140894547643,
          10.12891591684201,
          13.755648803329146,
          12.665947305910716,
          13.606104454768394,
          12.798238765792899,
          12.658369324474025,
          13.553865784255176,
          11.085198572598811,
          10.978083304875502,
          8.972690845781134,
          12.63052407310017,
          14.509253892192842,
          12.955705669298677,
          12.68860374003426,
          14.56734502237408,
          10.046370517364842,
          13.5931616522624,
          12.933765381195999,
          11.974228173368903,
          11.564540873753998,
          13.192039024783321,
          13.993358236194355
         ],
         "y": [
          10,
          11,
          11,
          16,
          10,
          14,
          7,
          10,
          10,
          6,
          13,
          11,
          11,
          14,
          11,
          10,
          14,
          8,
          17,
          8,
          13,
          13,
          10,
          14,
          11,
          12,
          10,
          14,
          11,
          13,
          8,
          6,
          17,
          9,
          14,
          10,
          15,
          15,
          13,
          11,
          15,
          10,
          18,
          11,
          10,
          16,
          14,
          10,
          13,
          15,
          10,
          8,
          11,
          12,
          16,
          10,
          16,
          15,
          14,
          17,
          16,
          11,
          11,
          10,
          10,
          9,
          7,
          10,
          11,
          13,
          13,
          10,
          11,
          13,
          10,
          10,
          11,
          11,
          12,
          11,
          6,
          12,
          19,
          13,
          10,
          16,
          11,
          11,
          11,
          12,
          16,
          11,
          13,
          15,
          14,
          13,
          17,
          9,
          18,
          12,
          11,
          13,
          13,
          12,
          9,
          8,
          10,
          11,
          13,
          12,
          12,
          10,
          12,
          10,
          6,
          11,
          12,
          11,
          8,
          9,
          14,
          10,
          8,
          11,
          15,
          13,
          17,
          8,
          15,
          12,
          10,
          11,
          10,
          12,
          10,
          14,
          13,
          7,
          13,
          8,
          9,
          9,
          15,
          12,
          9,
          9,
          18,
          16,
          8,
          14,
          11,
          7,
          15,
          13,
          17,
          15,
          12,
          8,
          9,
          8,
          12,
          9,
          13,
          14,
          9,
          17,
          13,
          10,
          11,
          10,
          10,
          10,
          14,
          11,
          15,
          12,
          11,
          15,
          14,
          19,
          17,
          15,
          13,
          16,
          18,
          18,
          9,
          10,
          12,
          13,
          12,
          14,
          14,
          13,
          8,
          13,
          11,
          12,
          15,
          15,
          12,
          18,
          16,
          12,
          11,
          12,
          16,
          9,
          10,
          14,
          8,
          7,
          14,
          11,
          11,
          8,
          9,
          10,
          13,
          12,
          10,
          11,
          15,
          12,
          14,
          15,
          16,
          12,
          16,
          13,
          13,
          9,
          10,
          14,
          18,
          10,
          15,
          15,
          8,
          14,
          11,
          10,
          11,
          8,
          17
         ]
        },
        {
         "type": "scatter",
         "x": [
          10,
          11,
          11,
          16,
          10,
          14,
          7,
          10,
          10,
          6,
          13,
          11,
          11,
          14,
          11,
          10,
          14,
          8,
          17,
          8,
          13,
          13,
          10,
          14,
          11,
          12,
          10,
          14,
          11,
          13,
          8,
          6,
          17,
          9,
          14,
          10,
          15,
          15,
          13,
          11,
          15,
          10,
          18,
          11,
          10,
          16,
          14,
          10,
          13,
          15,
          10,
          8,
          11,
          12,
          16,
          10,
          16,
          15,
          14,
          17,
          16,
          11,
          11,
          10,
          10,
          9,
          7,
          10,
          11,
          13,
          13,
          10,
          11,
          13,
          10,
          10,
          11,
          11,
          12,
          11,
          6,
          12,
          19,
          13,
          10,
          16,
          11,
          11,
          11,
          12,
          16,
          11,
          13,
          15,
          14,
          13,
          17,
          9,
          18,
          12,
          11,
          13,
          13,
          12,
          9,
          8,
          10,
          11,
          13,
          12,
          12,
          10,
          12,
          10,
          6,
          11,
          12,
          11,
          8,
          9,
          14,
          10,
          8,
          11,
          15,
          13,
          17,
          8,
          15,
          12,
          10,
          11,
          10,
          12,
          10,
          14,
          13,
          7,
          13,
          8,
          9,
          9,
          15,
          12,
          9,
          9,
          18,
          16,
          8,
          14,
          11,
          7,
          15,
          13,
          17,
          15,
          12,
          8,
          9,
          8,
          12,
          9,
          13,
          14,
          9,
          17,
          13,
          10,
          11,
          10,
          10,
          10,
          14,
          11,
          15,
          12,
          11,
          15,
          14,
          19,
          17,
          15,
          13,
          16,
          18,
          18,
          9,
          10,
          12,
          13,
          12,
          14,
          14,
          13,
          8,
          13,
          11,
          12,
          15,
          15,
          12,
          18,
          16,
          12,
          11,
          12,
          16,
          9,
          10,
          14,
          8,
          7,
          14,
          11,
          11,
          8,
          9,
          10,
          13,
          12,
          10,
          11,
          15,
          12,
          14,
          15,
          16,
          12,
          16,
          13,
          13,
          9,
          10,
          14,
          18,
          10,
          15,
          15,
          8,
          14,
          11,
          10,
          11,
          8,
          17
         ],
         "y": [
          10,
          11,
          11,
          16,
          10,
          14,
          7,
          10,
          10,
          6,
          13,
          11,
          11,
          14,
          11,
          10,
          14,
          8,
          17,
          8,
          13,
          13,
          10,
          14,
          11,
          12,
          10,
          14,
          11,
          13,
          8,
          6,
          17,
          9,
          14,
          10,
          15,
          15,
          13,
          11,
          15,
          10,
          18,
          11,
          10,
          16,
          14,
          10,
          13,
          15,
          10,
          8,
          11,
          12,
          16,
          10,
          16,
          15,
          14,
          17,
          16,
          11,
          11,
          10,
          10,
          9,
          7,
          10,
          11,
          13,
          13,
          10,
          11,
          13,
          10,
          10,
          11,
          11,
          12,
          11,
          6,
          12,
          19,
          13,
          10,
          16,
          11,
          11,
          11,
          12,
          16,
          11,
          13,
          15,
          14,
          13,
          17,
          9,
          18,
          12,
          11,
          13,
          13,
          12,
          9,
          8,
          10,
          11,
          13,
          12,
          12,
          10,
          12,
          10,
          6,
          11,
          12,
          11,
          8,
          9,
          14,
          10,
          8,
          11,
          15,
          13,
          17,
          8,
          15,
          12,
          10,
          11,
          10,
          12,
          10,
          14,
          13,
          7,
          13,
          8,
          9,
          9,
          15,
          12,
          9,
          9,
          18,
          16,
          8,
          14,
          11,
          7,
          15,
          13,
          17,
          15,
          12,
          8,
          9,
          8,
          12,
          9,
          13,
          14,
          9,
          17,
          13,
          10,
          11,
          10,
          10,
          10,
          14,
          11,
          15,
          12,
          11,
          15,
          14,
          19,
          17,
          15,
          13,
          16,
          18,
          18,
          9,
          10,
          12,
          13,
          12,
          14,
          14,
          13,
          8,
          13,
          11,
          12,
          15,
          15,
          12,
          18,
          16,
          12,
          11,
          12,
          16,
          9,
          10,
          14,
          8,
          7,
          14,
          11,
          11,
          8,
          9,
          10,
          13,
          12,
          10,
          11,
          15,
          12,
          14,
          15,
          16,
          12,
          16,
          13,
          13,
          9,
          10,
          14,
          18,
          10,
          15,
          15,
          8,
          14,
          11,
          10,
          11,
          8,
          17
         ]
        }
       ],
       "layout": {
        "template": {
         "data": {
          "bar": [
           {
            "error_x": {
             "color": "#2a3f5f"
            },
            "error_y": {
             "color": "#2a3f5f"
            },
            "marker": {
             "line": {
              "color": "#E5ECF6",
              "width": 0.5
             },
             "pattern": {
              "fillmode": "overlay",
              "size": 10,
              "solidity": 0.2
             }
            },
            "type": "bar"
           }
          ],
          "barpolar": [
           {
            "marker": {
             "line": {
              "color": "#E5ECF6",
              "width": 0.5
             },
             "pattern": {
              "fillmode": "overlay",
              "size": 10,
              "solidity": 0.2
             }
            },
            "type": "barpolar"
           }
          ],
          "carpet": [
           {
            "aaxis": {
             "endlinecolor": "#2a3f5f",
             "gridcolor": "white",
             "linecolor": "white",
             "minorgridcolor": "white",
             "startlinecolor": "#2a3f5f"
            },
            "baxis": {
             "endlinecolor": "#2a3f5f",
             "gridcolor": "white",
             "linecolor": "white",
             "minorgridcolor": "white",
             "startlinecolor": "#2a3f5f"
            },
            "type": "carpet"
           }
          ],
          "choropleth": [
           {
            "colorbar": {
             "outlinewidth": 0,
             "ticks": ""
            },
            "type": "choropleth"
           }
          ],
          "contour": [
           {
            "colorbar": {
             "outlinewidth": 0,
             "ticks": ""
            },
            "colorscale": [
             [
              0,
              "#0d0887"
             ],
             [
              0.1111111111111111,
              "#46039f"
             ],
             [
              0.2222222222222222,
              "#7201a8"
             ],
             [
              0.3333333333333333,
              "#9c179e"
             ],
             [
              0.4444444444444444,
              "#bd3786"
             ],
             [
              0.5555555555555556,
              "#d8576b"
             ],
             [
              0.6666666666666666,
              "#ed7953"
             ],
             [
              0.7777777777777778,
              "#fb9f3a"
             ],
             [
              0.8888888888888888,
              "#fdca26"
             ],
             [
              1,
              "#f0f921"
             ]
            ],
            "type": "contour"
           }
          ],
          "contourcarpet": [
           {
            "colorbar": {
             "outlinewidth": 0,
             "ticks": ""
            },
            "type": "contourcarpet"
           }
          ],
          "heatmap": [
           {
            "colorbar": {
             "outlinewidth": 0,
             "ticks": ""
            },
            "colorscale": [
             [
              0,
              "#0d0887"
             ],
             [
              0.1111111111111111,
              "#46039f"
             ],
             [
              0.2222222222222222,
              "#7201a8"
             ],
             [
              0.3333333333333333,
              "#9c179e"
             ],
             [
              0.4444444444444444,
              "#bd3786"
             ],
             [
              0.5555555555555556,
              "#d8576b"
             ],
             [
              0.6666666666666666,
              "#ed7953"
             ],
             [
              0.7777777777777778,
              "#fb9f3a"
             ],
             [
              0.8888888888888888,
              "#fdca26"
             ],
             [
              1,
              "#f0f921"
             ]
            ],
            "type": "heatmap"
           }
          ],
          "heatmapgl": [
           {
            "colorbar": {
             "outlinewidth": 0,
             "ticks": ""
            },
            "colorscale": [
             [
              0,
              "#0d0887"
             ],
             [
              0.1111111111111111,
              "#46039f"
             ],
             [
              0.2222222222222222,
              "#7201a8"
             ],
             [
              0.3333333333333333,
              "#9c179e"
             ],
             [
              0.4444444444444444,
              "#bd3786"
             ],
             [
              0.5555555555555556,
              "#d8576b"
             ],
             [
              0.6666666666666666,
              "#ed7953"
             ],
             [
              0.7777777777777778,
              "#fb9f3a"
             ],
             [
              0.8888888888888888,
              "#fdca26"
             ],
             [
              1,
              "#f0f921"
             ]
            ],
            "type": "heatmapgl"
           }
          ],
          "histogram": [
           {
            "marker": {
             "pattern": {
              "fillmode": "overlay",
              "size": 10,
              "solidity": 0.2
             }
            },
            "type": "histogram"
           }
          ],
          "histogram2d": [
           {
            "colorbar": {
             "outlinewidth": 0,
             "ticks": ""
            },
            "colorscale": [
             [
              0,
              "#0d0887"
             ],
             [
              0.1111111111111111,
              "#46039f"
             ],
             [
              0.2222222222222222,
              "#7201a8"
             ],
             [
              0.3333333333333333,
              "#9c179e"
             ],
             [
              0.4444444444444444,
              "#bd3786"
             ],
             [
              0.5555555555555556,
              "#d8576b"
             ],
             [
              0.6666666666666666,
              "#ed7953"
             ],
             [
              0.7777777777777778,
              "#fb9f3a"
             ],
             [
              0.8888888888888888,
              "#fdca26"
             ],
             [
              1,
              "#f0f921"
             ]
            ],
            "type": "histogram2d"
           }
          ],
          "histogram2dcontour": [
           {
            "colorbar": {
             "outlinewidth": 0,
             "ticks": ""
            },
            "colorscale": [
             [
              0,
              "#0d0887"
             ],
             [
              0.1111111111111111,
              "#46039f"
             ],
             [
              0.2222222222222222,
              "#7201a8"
             ],
             [
              0.3333333333333333,
              "#9c179e"
             ],
             [
              0.4444444444444444,
              "#bd3786"
             ],
             [
              0.5555555555555556,
              "#d8576b"
             ],
             [
              0.6666666666666666,
              "#ed7953"
             ],
             [
              0.7777777777777778,
              "#fb9f3a"
             ],
             [
              0.8888888888888888,
              "#fdca26"
             ],
             [
              1,
              "#f0f921"
             ]
            ],
            "type": "histogram2dcontour"
           }
          ],
          "mesh3d": [
           {
            "colorbar": {
             "outlinewidth": 0,
             "ticks": ""
            },
            "type": "mesh3d"
           }
          ],
          "parcoords": [
           {
            "line": {
             "colorbar": {
              "outlinewidth": 0,
              "ticks": ""
             }
            },
            "type": "parcoords"
           }
          ],
          "pie": [
           {
            "automargin": true,
            "type": "pie"
           }
          ],
          "scatter": [
           {
            "marker": {
             "colorbar": {
              "outlinewidth": 0,
              "ticks": ""
             }
            },
            "type": "scatter"
           }
          ],
          "scatter3d": [
           {
            "line": {
             "colorbar": {
              "outlinewidth": 0,
              "ticks": ""
             }
            },
            "marker": {
             "colorbar": {
              "outlinewidth": 0,
              "ticks": ""
             }
            },
            "type": "scatter3d"
           }
          ],
          "scattercarpet": [
           {
            "marker": {
             "colorbar": {
              "outlinewidth": 0,
              "ticks": ""
             }
            },
            "type": "scattercarpet"
           }
          ],
          "scattergeo": [
           {
            "marker": {
             "colorbar": {
              "outlinewidth": 0,
              "ticks": ""
             }
            },
            "type": "scattergeo"
           }
          ],
          "scattergl": [
           {
            "marker": {
             "colorbar": {
              "outlinewidth": 0,
              "ticks": ""
             }
            },
            "type": "scattergl"
           }
          ],
          "scattermapbox": [
           {
            "marker": {
             "colorbar": {
              "outlinewidth": 0,
              "ticks": ""
             }
            },
            "type": "scattermapbox"
           }
          ],
          "scatterpolar": [
           {
            "marker": {
             "colorbar": {
              "outlinewidth": 0,
              "ticks": ""
             }
            },
            "type": "scatterpolar"
           }
          ],
          "scatterpolargl": [
           {
            "marker": {
             "colorbar": {
              "outlinewidth": 0,
              "ticks": ""
             }
            },
            "type": "scatterpolargl"
           }
          ],
          "scatterternary": [
           {
            "marker": {
             "colorbar": {
              "outlinewidth": 0,
              "ticks": ""
             }
            },
            "type": "scatterternary"
           }
          ],
          "surface": [
           {
            "colorbar": {
             "outlinewidth": 0,
             "ticks": ""
            },
            "colorscale": [
             [
              0,
              "#0d0887"
             ],
             [
              0.1111111111111111,
              "#46039f"
             ],
             [
              0.2222222222222222,
              "#7201a8"
             ],
             [
              0.3333333333333333,
              "#9c179e"
             ],
             [
              0.4444444444444444,
              "#bd3786"
             ],
             [
              0.5555555555555556,
              "#d8576b"
             ],
             [
              0.6666666666666666,
              "#ed7953"
             ],
             [
              0.7777777777777778,
              "#fb9f3a"
             ],
             [
              0.8888888888888888,
              "#fdca26"
             ],
             [
              1,
              "#f0f921"
             ]
            ],
            "type": "surface"
           }
          ],
          "table": [
           {
            "cells": {
             "fill": {
              "color": "#EBF0F8"
             },
             "line": {
              "color": "white"
             }
            },
            "header": {
             "fill": {
              "color": "#C8D4E3"
             },
             "line": {
              "color": "white"
             }
            },
            "type": "table"
           }
          ]
         },
         "layout": {
          "annotationdefaults": {
           "arrowcolor": "#2a3f5f",
           "arrowhead": 0,
           "arrowwidth": 1
          },
          "autotypenumbers": "strict",
          "coloraxis": {
           "colorbar": {
            "outlinewidth": 0,
            "ticks": ""
           }
          },
          "colorscale": {
           "diverging": [
            [
             0,
             "#8e0152"
            ],
            [
             0.1,
             "#c51b7d"
            ],
            [
             0.2,
             "#de77ae"
            ],
            [
             0.3,
             "#f1b6da"
            ],
            [
             0.4,
             "#fde0ef"
            ],
            [
             0.5,
             "#f7f7f7"
            ],
            [
             0.6,
             "#e6f5d0"
            ],
            [
             0.7,
             "#b8e186"
            ],
            [
             0.8,
             "#7fbc41"
            ],
            [
             0.9,
             "#4d9221"
            ],
            [
             1,
             "#276419"
            ]
           ],
           "sequential": [
            [
             0,
             "#0d0887"
            ],
            [
             0.1111111111111111,
             "#46039f"
            ],
            [
             0.2222222222222222,
             "#7201a8"
            ],
            [
             0.3333333333333333,
             "#9c179e"
            ],
            [
             0.4444444444444444,
             "#bd3786"
            ],
            [
             0.5555555555555556,
             "#d8576b"
            ],
            [
             0.6666666666666666,
             "#ed7953"
            ],
            [
             0.7777777777777778,
             "#fb9f3a"
            ],
            [
             0.8888888888888888,
             "#fdca26"
            ],
            [
             1,
             "#f0f921"
            ]
           ],
           "sequentialminus": [
            [
             0,
             "#0d0887"
            ],
            [
             0.1111111111111111,
             "#46039f"
            ],
            [
             0.2222222222222222,
             "#7201a8"
            ],
            [
             0.3333333333333333,
             "#9c179e"
            ],
            [
             0.4444444444444444,
             "#bd3786"
            ],
            [
             0.5555555555555556,
             "#d8576b"
            ],
            [
             0.6666666666666666,
             "#ed7953"
            ],
            [
             0.7777777777777778,
             "#fb9f3a"
            ],
            [
             0.8888888888888888,
             "#fdca26"
            ],
            [
             1,
             "#f0f921"
            ]
           ]
          },
          "colorway": [
           "#636efa",
           "#EF553B",
           "#00cc96",
           "#ab63fa",
           "#FFA15A",
           "#19d3f3",
           "#FF6692",
           "#B6E880",
           "#FF97FF",
           "#FECB52"
          ],
          "font": {
           "color": "#2a3f5f"
          },
          "geo": {
           "bgcolor": "white",
           "lakecolor": "white",
           "landcolor": "#E5ECF6",
           "showlakes": true,
           "showland": true,
           "subunitcolor": "white"
          },
          "hoverlabel": {
           "align": "left"
          },
          "hovermode": "closest",
          "mapbox": {
           "style": "light"
          },
          "paper_bgcolor": "white",
          "plot_bgcolor": "#E5ECF6",
          "polar": {
           "angularaxis": {
            "gridcolor": "white",
            "linecolor": "white",
            "ticks": ""
           },
           "bgcolor": "#E5ECF6",
           "radialaxis": {
            "gridcolor": "white",
            "linecolor": "white",
            "ticks": ""
           }
          },
          "scene": {
           "xaxis": {
            "backgroundcolor": "#E5ECF6",
            "gridcolor": "white",
            "gridwidth": 2,
            "linecolor": "white",
            "showbackground": true,
            "ticks": "",
            "zerolinecolor": "white"
           },
           "yaxis": {
            "backgroundcolor": "#E5ECF6",
            "gridcolor": "white",
            "gridwidth": 2,
            "linecolor": "white",
            "showbackground": true,
            "ticks": "",
            "zerolinecolor": "white"
           },
           "zaxis": {
            "backgroundcolor": "#E5ECF6",
            "gridcolor": "white",
            "gridwidth": 2,
            "linecolor": "white",
            "showbackground": true,
            "ticks": "",
            "zerolinecolor": "white"
           }
          },
          "shapedefaults": {
           "line": {
            "color": "#2a3f5f"
           }
          },
          "ternary": {
           "aaxis": {
            "gridcolor": "white",
            "linecolor": "white",
            "ticks": ""
           },
           "baxis": {
            "gridcolor": "white",
            "linecolor": "white",
            "ticks": ""
           },
           "bgcolor": "#E5ECF6",
           "caxis": {
            "gridcolor": "white",
            "linecolor": "white",
            "ticks": ""
           }
          },
          "title": {
           "x": 0.05
          },
          "xaxis": {
           "automargin": true,
           "gridcolor": "white",
           "linecolor": "white",
           "ticks": "",
           "title": {
            "standoff": 15
           },
           "zerolinecolor": "white",
           "zerolinewidth": 2
          },
          "yaxis": {
           "automargin": true,
           "gridcolor": "white",
           "linecolor": "white",
           "ticks": "",
           "title": {
            "standoff": 15
           },
           "zerolinecolor": "white",
           "zerolinewidth": 2
          }
         }
        }
       }
      }
     },
     "metadata": {},
     "output_type": "display_data"
    }
   ],
   "source": [
    "fig3 = go.Figure()\n",
    "fig3.add_trace(go.Scatter(y=y_test['G3'], x=(GB_pred.copy()),mode='markers'))\n",
    "fig3.add_trace(go.Scatter(x=y_test['G3'], y=y_test['G3']))\n",
    "fig3.show()"
   ]
  },
  {
   "cell_type": "code",
   "execution_count": 115,
   "id": "94515089",
   "metadata": {},
   "outputs": [
    {
     "data": {
      "application/vnd.plotly.v1+json": {
       "config": {
        "plotlyServerURL": "https://plot.ly"
       },
       "data": [
        {
         "mode": "markers",
         "type": "scatter",
         "x": [
          10,
          11,
          11,
          16,
          10,
          14,
          7,
          10,
          10,
          6,
          13,
          11,
          11,
          14,
          11,
          10,
          14,
          8,
          17,
          8,
          13,
          13,
          10,
          14,
          11,
          12,
          10,
          14,
          11,
          13,
          8,
          6,
          17,
          9,
          14,
          10,
          15,
          15,
          13,
          11,
          15,
          10,
          18,
          11,
          10,
          16,
          14,
          10,
          13,
          15,
          10,
          8,
          11,
          12,
          16,
          10,
          16,
          15,
          14,
          17,
          16,
          11,
          11,
          10,
          10,
          9,
          7,
          10,
          11,
          13,
          13,
          10,
          11,
          13,
          10,
          10,
          11,
          11,
          12,
          11,
          6,
          12,
          19,
          13,
          10,
          16,
          11,
          11,
          11,
          12,
          16,
          11,
          13,
          15,
          14,
          13,
          17,
          9,
          18,
          12,
          11,
          13,
          13,
          12,
          9,
          8,
          10,
          11,
          13,
          12,
          12,
          10,
          12,
          10,
          6,
          11,
          12,
          11,
          8,
          9,
          14,
          10,
          8,
          11,
          15,
          13,
          17,
          8,
          15,
          12,
          10,
          11,
          10,
          12,
          10,
          14,
          13,
          7,
          13,
          8,
          9,
          9,
          15,
          12,
          9,
          9,
          18,
          16,
          8,
          14,
          11,
          7,
          15,
          13,
          17,
          15,
          12,
          8,
          9,
          8,
          12,
          9,
          13,
          14,
          9,
          17,
          13,
          10,
          11,
          10,
          10,
          10,
          14,
          11,
          15,
          12,
          11,
          15,
          14,
          19,
          17,
          15,
          13,
          16,
          18,
          18,
          9,
          10,
          12,
          13,
          12,
          14,
          14,
          13,
          8,
          13,
          11,
          12,
          15,
          15,
          12,
          18,
          16,
          12,
          11,
          12,
          16,
          9,
          10,
          14,
          8,
          7,
          14,
          11,
          11,
          8,
          9,
          10,
          13,
          12,
          10,
          11,
          15,
          12,
          14,
          15,
          16,
          12,
          16,
          13,
          13,
          9,
          10,
          14,
          18,
          10,
          15,
          15,
          8,
          14,
          11,
          10,
          11,
          8,
          17
         ],
         "y": [
          11.83993785613498,
          11.072006777473815,
          11.266717114705694,
          13.09107653133989,
          11.67872950555962,
          12.45617184633582,
          10.120236460091116,
          13.087715962528305,
          9.76865599282524,
          11.442383552291824,
          13.731506588679167,
          11.236632960481177,
          14.278493239514622,
          14.47070369211358,
          12.793335125114961,
          12.237647695861295,
          15.06802959653236,
          8.487951871475532,
          14.204458755371196,
          8.996510404113588,
          10.854984924129843,
          11.484382637283817,
          9.682611270163758,
          13.872076004568008,
          11.802394460349355,
          12.914238445622404,
          12.328904818415586,
          12.813546189647472,
          13.07759521669612,
          12.55509358899144,
          11.912480935448153,
          12.471150122566765,
          14.41000481354835,
          11.562006736856272,
          13.26703927594328,
          12.498579620437821,
          13.163390618524323,
          14.586837805195309,
          13.599994330585853,
          13.330790327966715,
          12.616070848301531,
          12.792161800772433,
          11.939125477849268,
          12.076779077597026,
          11.630025726951619,
          12.793038248524883,
          13.82384277552484,
          10.545181121144092,
          11.809806656649522,
          13.898343430341496,
          12.026398205692743,
          11.959910139857667,
          12.173541176759295,
          11.786911101708224,
          16.21029697051575,
          11.243580713440155,
          13.39567199635766,
          10.990854886847558,
          12.02091611240126,
          13.506203645040308,
          14.454472323691062,
          10.26876235292954,
          12.558364676339869,
          12.354188406208229,
          12.582888133991522,
          9.103661044263093,
          10.757111725672804,
          8.954038096708336,
          13.026734032065242,
          11.822246091154652,
          15.091610810400093,
          12.321885993325285,
          11.357427261754502,
          11.867520056098078,
          13.017279272233107,
          11.800671006879561,
          12.247241040735709,
          13.532336816953537,
          12.762433526411609,
          12.75659298299733,
          11.6137578393593,
          14.422107824331315,
          14.32038406720716,
          13.458436536357407,
          9.768409122145792,
          15.001051138938385,
          12.344530797794166,
          11.822718277226107,
          12.870869574962262,
          11.979131445918561,
          13.354811051763301,
          13.255599410616863,
          13.14185425191232,
          13.39567199635766,
          12.805494919638484,
          12.6162030169672,
          12.634345844421391,
          10.736674921364084,
          11.449669413612913,
          11.488197395746708,
          12.3747116578265,
          13.184526973944044,
          10.788938751913484,
          11.841264450097759,
          9.5050991739146,
          13.50666529867254,
          11.16909009514066,
          12.867855736664707,
          10.562027482683334,
          12.01329452117874,
          10.681481481940178,
          11.100573931193537,
          10.33919233392115,
          9.924629457982004,
          11.446076545456336,
          12.78346366877874,
          12.132617776215834,
          11.175247535870898,
          12.983171970027895,
          9.0731791239847,
          13.867918344836696,
          9.13035979369763,
          9.95131219434817,
          12.293641489486678,
          15.118743434964829,
          10.231606934974808,
          15.409498458981416,
          12.498819702468568,
          13.82069034037531,
          8.528275917145159,
          10.722296950604214,
          10.957218653402183,
          11.233206622452819,
          12.64734795361901,
          12.258455710094907,
          11.69132547558771,
          12.649214579791302,
          9.71026971578354,
          12.373907164962576,
          10.702149267039134,
          11.19821534358081,
          10.428317912672322,
          12.3488548019814,
          13.269435689097373,
          11.192229865784341,
          9.109486631137862,
          11.999865139875116,
          13.078020611951697,
          12.201228086873266,
          10.9946952314405,
          10.78448502775786,
          9.079943887849694,
          13.845462971839442,
          12.347352078237218,
          14.07103186159406,
          13.494971399046111,
          13.371083808020222,
          9.50321601600831,
          11.436898208243568,
          11.649047128742707,
          15.642143401658824,
          13.229885217145835,
          12.560088672403195,
          13.169832052871667,
          10.155091175763317,
          13.033142414577155,
          11.36083666305463,
          11.85087080495508,
          12.066148681727187,
          13.099410664384196,
          13.433554914237755,
          12.876573161243691,
          13.359239961071658,
          13.535912173532653,
          13.75943296192834,
          12.494068875836572,
          11.697616334360056,
          12.385417607329057,
          13.863503957521404,
          12.679119605888252,
          13.845462971839442,
          13.56919374777405,
          11.21850967352819,
          13.121936032346307,
          11.991094537948152,
          13.661303233866551,
          12.01680680982358,
          11.02515951903073,
          10.802496412623555,
          13.755648803329146,
          12.049522242516376,
          12.941693075649223,
          12.853051401244112,
          13.125442591358247,
          9.383541326416411,
          12.422031164177588,
          11.730072108495236,
          11.617371255366981,
          13.334987648849392,
          13.722411010358961,
          14.660378816749457,
          12.95791486244871,
          13.06203343991573,
          13.683084154816955,
          9.431923387661538,
          10.772600336786308,
          13.455172223469585,
          12.114573936402286,
          13.615149904602955,
          12.705083856857346,
          10.789215507545785,
          6.902239702087778,
          12.604404242743625,
          13.181909427235508,
          12.74316734179893,
          9.12330380903682,
          13.826733685429323,
          11.844832182404845,
          13.781768373107576,
          11.594605685519182,
          9.244756403114927,
          12.26778214499166,
          14.225140894547643,
          10.12891591684201,
          13.755648803329146,
          12.665947305910716,
          13.606104454768394,
          12.798238765792899,
          12.658369324474025,
          13.553865784255176,
          11.085198572598811,
          10.978083304875502,
          8.972690845781134,
          12.63052407310017,
          14.509253892192842,
          12.955705669298677,
          12.68860374003426,
          14.56734502237408,
          10.046370517364842,
          13.5931616522624,
          12.933765381195999,
          11.974228173368903,
          11.564540873753998,
          13.192039024783321,
          13.993358236194355
         ]
        },
        {
         "type": "scatter",
         "x": [
          10,
          11,
          11,
          16,
          10,
          14,
          7,
          10,
          10,
          6,
          13,
          11,
          11,
          14,
          11,
          10,
          14,
          8,
          17,
          8,
          13,
          13,
          10,
          14,
          11,
          12,
          10,
          14,
          11,
          13,
          8,
          6,
          17,
          9,
          14,
          10,
          15,
          15,
          13,
          11,
          15,
          10,
          18,
          11,
          10,
          16,
          14,
          10,
          13,
          15,
          10,
          8,
          11,
          12,
          16,
          10,
          16,
          15,
          14,
          17,
          16,
          11,
          11,
          10,
          10,
          9,
          7,
          10,
          11,
          13,
          13,
          10,
          11,
          13,
          10,
          10,
          11,
          11,
          12,
          11,
          6,
          12,
          19,
          13,
          10,
          16,
          11,
          11,
          11,
          12,
          16,
          11,
          13,
          15,
          14,
          13,
          17,
          9,
          18,
          12,
          11,
          13,
          13,
          12,
          9,
          8,
          10,
          11,
          13,
          12,
          12,
          10,
          12,
          10,
          6,
          11,
          12,
          11,
          8,
          9,
          14,
          10,
          8,
          11,
          15,
          13,
          17,
          8,
          15,
          12,
          10,
          11,
          10,
          12,
          10,
          14,
          13,
          7,
          13,
          8,
          9,
          9,
          15,
          12,
          9,
          9,
          18,
          16,
          8,
          14,
          11,
          7,
          15,
          13,
          17,
          15,
          12,
          8,
          9,
          8,
          12,
          9,
          13,
          14,
          9,
          17,
          13,
          10,
          11,
          10,
          10,
          10,
          14,
          11,
          15,
          12,
          11,
          15,
          14,
          19,
          17,
          15,
          13,
          16,
          18,
          18,
          9,
          10,
          12,
          13,
          12,
          14,
          14,
          13,
          8,
          13,
          11,
          12,
          15,
          15,
          12,
          18,
          16,
          12,
          11,
          12,
          16,
          9,
          10,
          14,
          8,
          7,
          14,
          11,
          11,
          8,
          9,
          10,
          13,
          12,
          10,
          11,
          15,
          12,
          14,
          15,
          16,
          12,
          16,
          13,
          13,
          9,
          10,
          14,
          18,
          10,
          15,
          15,
          8,
          14,
          11,
          10,
          11,
          8,
          17
         ],
         "y": [
          10,
          11,
          11,
          16,
          10,
          14,
          7,
          10,
          10,
          6,
          13,
          11,
          11,
          14,
          11,
          10,
          14,
          8,
          17,
          8,
          13,
          13,
          10,
          14,
          11,
          12,
          10,
          14,
          11,
          13,
          8,
          6,
          17,
          9,
          14,
          10,
          15,
          15,
          13,
          11,
          15,
          10,
          18,
          11,
          10,
          16,
          14,
          10,
          13,
          15,
          10,
          8,
          11,
          12,
          16,
          10,
          16,
          15,
          14,
          17,
          16,
          11,
          11,
          10,
          10,
          9,
          7,
          10,
          11,
          13,
          13,
          10,
          11,
          13,
          10,
          10,
          11,
          11,
          12,
          11,
          6,
          12,
          19,
          13,
          10,
          16,
          11,
          11,
          11,
          12,
          16,
          11,
          13,
          15,
          14,
          13,
          17,
          9,
          18,
          12,
          11,
          13,
          13,
          12,
          9,
          8,
          10,
          11,
          13,
          12,
          12,
          10,
          12,
          10,
          6,
          11,
          12,
          11,
          8,
          9,
          14,
          10,
          8,
          11,
          15,
          13,
          17,
          8,
          15,
          12,
          10,
          11,
          10,
          12,
          10,
          14,
          13,
          7,
          13,
          8,
          9,
          9,
          15,
          12,
          9,
          9,
          18,
          16,
          8,
          14,
          11,
          7,
          15,
          13,
          17,
          15,
          12,
          8,
          9,
          8,
          12,
          9,
          13,
          14,
          9,
          17,
          13,
          10,
          11,
          10,
          10,
          10,
          14,
          11,
          15,
          12,
          11,
          15,
          14,
          19,
          17,
          15,
          13,
          16,
          18,
          18,
          9,
          10,
          12,
          13,
          12,
          14,
          14,
          13,
          8,
          13,
          11,
          12,
          15,
          15,
          12,
          18,
          16,
          12,
          11,
          12,
          16,
          9,
          10,
          14,
          8,
          7,
          14,
          11,
          11,
          8,
          9,
          10,
          13,
          12,
          10,
          11,
          15,
          12,
          14,
          15,
          16,
          12,
          16,
          13,
          13,
          9,
          10,
          14,
          18,
          10,
          15,
          15,
          8,
          14,
          11,
          10,
          11,
          8,
          17
         ]
        }
       ],
       "layout": {
        "template": {
         "data": {
          "bar": [
           {
            "error_x": {
             "color": "#2a3f5f"
            },
            "error_y": {
             "color": "#2a3f5f"
            },
            "marker": {
             "line": {
              "color": "#E5ECF6",
              "width": 0.5
             },
             "pattern": {
              "fillmode": "overlay",
              "size": 10,
              "solidity": 0.2
             }
            },
            "type": "bar"
           }
          ],
          "barpolar": [
           {
            "marker": {
             "line": {
              "color": "#E5ECF6",
              "width": 0.5
             },
             "pattern": {
              "fillmode": "overlay",
              "size": 10,
              "solidity": 0.2
             }
            },
            "type": "barpolar"
           }
          ],
          "carpet": [
           {
            "aaxis": {
             "endlinecolor": "#2a3f5f",
             "gridcolor": "white",
             "linecolor": "white",
             "minorgridcolor": "white",
             "startlinecolor": "#2a3f5f"
            },
            "baxis": {
             "endlinecolor": "#2a3f5f",
             "gridcolor": "white",
             "linecolor": "white",
             "minorgridcolor": "white",
             "startlinecolor": "#2a3f5f"
            },
            "type": "carpet"
           }
          ],
          "choropleth": [
           {
            "colorbar": {
             "outlinewidth": 0,
             "ticks": ""
            },
            "type": "choropleth"
           }
          ],
          "contour": [
           {
            "colorbar": {
             "outlinewidth": 0,
             "ticks": ""
            },
            "colorscale": [
             [
              0,
              "#0d0887"
             ],
             [
              0.1111111111111111,
              "#46039f"
             ],
             [
              0.2222222222222222,
              "#7201a8"
             ],
             [
              0.3333333333333333,
              "#9c179e"
             ],
             [
              0.4444444444444444,
              "#bd3786"
             ],
             [
              0.5555555555555556,
              "#d8576b"
             ],
             [
              0.6666666666666666,
              "#ed7953"
             ],
             [
              0.7777777777777778,
              "#fb9f3a"
             ],
             [
              0.8888888888888888,
              "#fdca26"
             ],
             [
              1,
              "#f0f921"
             ]
            ],
            "type": "contour"
           }
          ],
          "contourcarpet": [
           {
            "colorbar": {
             "outlinewidth": 0,
             "ticks": ""
            },
            "type": "contourcarpet"
           }
          ],
          "heatmap": [
           {
            "colorbar": {
             "outlinewidth": 0,
             "ticks": ""
            },
            "colorscale": [
             [
              0,
              "#0d0887"
             ],
             [
              0.1111111111111111,
              "#46039f"
             ],
             [
              0.2222222222222222,
              "#7201a8"
             ],
             [
              0.3333333333333333,
              "#9c179e"
             ],
             [
              0.4444444444444444,
              "#bd3786"
             ],
             [
              0.5555555555555556,
              "#d8576b"
             ],
             [
              0.6666666666666666,
              "#ed7953"
             ],
             [
              0.7777777777777778,
              "#fb9f3a"
             ],
             [
              0.8888888888888888,
              "#fdca26"
             ],
             [
              1,
              "#f0f921"
             ]
            ],
            "type": "heatmap"
           }
          ],
          "heatmapgl": [
           {
            "colorbar": {
             "outlinewidth": 0,
             "ticks": ""
            },
            "colorscale": [
             [
              0,
              "#0d0887"
             ],
             [
              0.1111111111111111,
              "#46039f"
             ],
             [
              0.2222222222222222,
              "#7201a8"
             ],
             [
              0.3333333333333333,
              "#9c179e"
             ],
             [
              0.4444444444444444,
              "#bd3786"
             ],
             [
              0.5555555555555556,
              "#d8576b"
             ],
             [
              0.6666666666666666,
              "#ed7953"
             ],
             [
              0.7777777777777778,
              "#fb9f3a"
             ],
             [
              0.8888888888888888,
              "#fdca26"
             ],
             [
              1,
              "#f0f921"
             ]
            ],
            "type": "heatmapgl"
           }
          ],
          "histogram": [
           {
            "marker": {
             "pattern": {
              "fillmode": "overlay",
              "size": 10,
              "solidity": 0.2
             }
            },
            "type": "histogram"
           }
          ],
          "histogram2d": [
           {
            "colorbar": {
             "outlinewidth": 0,
             "ticks": ""
            },
            "colorscale": [
             [
              0,
              "#0d0887"
             ],
             [
              0.1111111111111111,
              "#46039f"
             ],
             [
              0.2222222222222222,
              "#7201a8"
             ],
             [
              0.3333333333333333,
              "#9c179e"
             ],
             [
              0.4444444444444444,
              "#bd3786"
             ],
             [
              0.5555555555555556,
              "#d8576b"
             ],
             [
              0.6666666666666666,
              "#ed7953"
             ],
             [
              0.7777777777777778,
              "#fb9f3a"
             ],
             [
              0.8888888888888888,
              "#fdca26"
             ],
             [
              1,
              "#f0f921"
             ]
            ],
            "type": "histogram2d"
           }
          ],
          "histogram2dcontour": [
           {
            "colorbar": {
             "outlinewidth": 0,
             "ticks": ""
            },
            "colorscale": [
             [
              0,
              "#0d0887"
             ],
             [
              0.1111111111111111,
              "#46039f"
             ],
             [
              0.2222222222222222,
              "#7201a8"
             ],
             [
              0.3333333333333333,
              "#9c179e"
             ],
             [
              0.4444444444444444,
              "#bd3786"
             ],
             [
              0.5555555555555556,
              "#d8576b"
             ],
             [
              0.6666666666666666,
              "#ed7953"
             ],
             [
              0.7777777777777778,
              "#fb9f3a"
             ],
             [
              0.8888888888888888,
              "#fdca26"
             ],
             [
              1,
              "#f0f921"
             ]
            ],
            "type": "histogram2dcontour"
           }
          ],
          "mesh3d": [
           {
            "colorbar": {
             "outlinewidth": 0,
             "ticks": ""
            },
            "type": "mesh3d"
           }
          ],
          "parcoords": [
           {
            "line": {
             "colorbar": {
              "outlinewidth": 0,
              "ticks": ""
             }
            },
            "type": "parcoords"
           }
          ],
          "pie": [
           {
            "automargin": true,
            "type": "pie"
           }
          ],
          "scatter": [
           {
            "marker": {
             "colorbar": {
              "outlinewidth": 0,
              "ticks": ""
             }
            },
            "type": "scatter"
           }
          ],
          "scatter3d": [
           {
            "line": {
             "colorbar": {
              "outlinewidth": 0,
              "ticks": ""
             }
            },
            "marker": {
             "colorbar": {
              "outlinewidth": 0,
              "ticks": ""
             }
            },
            "type": "scatter3d"
           }
          ],
          "scattercarpet": [
           {
            "marker": {
             "colorbar": {
              "outlinewidth": 0,
              "ticks": ""
             }
            },
            "type": "scattercarpet"
           }
          ],
          "scattergeo": [
           {
            "marker": {
             "colorbar": {
              "outlinewidth": 0,
              "ticks": ""
             }
            },
            "type": "scattergeo"
           }
          ],
          "scattergl": [
           {
            "marker": {
             "colorbar": {
              "outlinewidth": 0,
              "ticks": ""
             }
            },
            "type": "scattergl"
           }
          ],
          "scattermapbox": [
           {
            "marker": {
             "colorbar": {
              "outlinewidth": 0,
              "ticks": ""
             }
            },
            "type": "scattermapbox"
           }
          ],
          "scatterpolar": [
           {
            "marker": {
             "colorbar": {
              "outlinewidth": 0,
              "ticks": ""
             }
            },
            "type": "scatterpolar"
           }
          ],
          "scatterpolargl": [
           {
            "marker": {
             "colorbar": {
              "outlinewidth": 0,
              "ticks": ""
             }
            },
            "type": "scatterpolargl"
           }
          ],
          "scatterternary": [
           {
            "marker": {
             "colorbar": {
              "outlinewidth": 0,
              "ticks": ""
             }
            },
            "type": "scatterternary"
           }
          ],
          "surface": [
           {
            "colorbar": {
             "outlinewidth": 0,
             "ticks": ""
            },
            "colorscale": [
             [
              0,
              "#0d0887"
             ],
             [
              0.1111111111111111,
              "#46039f"
             ],
             [
              0.2222222222222222,
              "#7201a8"
             ],
             [
              0.3333333333333333,
              "#9c179e"
             ],
             [
              0.4444444444444444,
              "#bd3786"
             ],
             [
              0.5555555555555556,
              "#d8576b"
             ],
             [
              0.6666666666666666,
              "#ed7953"
             ],
             [
              0.7777777777777778,
              "#fb9f3a"
             ],
             [
              0.8888888888888888,
              "#fdca26"
             ],
             [
              1,
              "#f0f921"
             ]
            ],
            "type": "surface"
           }
          ],
          "table": [
           {
            "cells": {
             "fill": {
              "color": "#EBF0F8"
             },
             "line": {
              "color": "white"
             }
            },
            "header": {
             "fill": {
              "color": "#C8D4E3"
             },
             "line": {
              "color": "white"
             }
            },
            "type": "table"
           }
          ]
         },
         "layout": {
          "annotationdefaults": {
           "arrowcolor": "#2a3f5f",
           "arrowhead": 0,
           "arrowwidth": 1
          },
          "autotypenumbers": "strict",
          "coloraxis": {
           "colorbar": {
            "outlinewidth": 0,
            "ticks": ""
           }
          },
          "colorscale": {
           "diverging": [
            [
             0,
             "#8e0152"
            ],
            [
             0.1,
             "#c51b7d"
            ],
            [
             0.2,
             "#de77ae"
            ],
            [
             0.3,
             "#f1b6da"
            ],
            [
             0.4,
             "#fde0ef"
            ],
            [
             0.5,
             "#f7f7f7"
            ],
            [
             0.6,
             "#e6f5d0"
            ],
            [
             0.7,
             "#b8e186"
            ],
            [
             0.8,
             "#7fbc41"
            ],
            [
             0.9,
             "#4d9221"
            ],
            [
             1,
             "#276419"
            ]
           ],
           "sequential": [
            [
             0,
             "#0d0887"
            ],
            [
             0.1111111111111111,
             "#46039f"
            ],
            [
             0.2222222222222222,
             "#7201a8"
            ],
            [
             0.3333333333333333,
             "#9c179e"
            ],
            [
             0.4444444444444444,
             "#bd3786"
            ],
            [
             0.5555555555555556,
             "#d8576b"
            ],
            [
             0.6666666666666666,
             "#ed7953"
            ],
            [
             0.7777777777777778,
             "#fb9f3a"
            ],
            [
             0.8888888888888888,
             "#fdca26"
            ],
            [
             1,
             "#f0f921"
            ]
           ],
           "sequentialminus": [
            [
             0,
             "#0d0887"
            ],
            [
             0.1111111111111111,
             "#46039f"
            ],
            [
             0.2222222222222222,
             "#7201a8"
            ],
            [
             0.3333333333333333,
             "#9c179e"
            ],
            [
             0.4444444444444444,
             "#bd3786"
            ],
            [
             0.5555555555555556,
             "#d8576b"
            ],
            [
             0.6666666666666666,
             "#ed7953"
            ],
            [
             0.7777777777777778,
             "#fb9f3a"
            ],
            [
             0.8888888888888888,
             "#fdca26"
            ],
            [
             1,
             "#f0f921"
            ]
           ]
          },
          "colorway": [
           "#636efa",
           "#EF553B",
           "#00cc96",
           "#ab63fa",
           "#FFA15A",
           "#19d3f3",
           "#FF6692",
           "#B6E880",
           "#FF97FF",
           "#FECB52"
          ],
          "font": {
           "color": "#2a3f5f"
          },
          "geo": {
           "bgcolor": "white",
           "lakecolor": "white",
           "landcolor": "#E5ECF6",
           "showlakes": true,
           "showland": true,
           "subunitcolor": "white"
          },
          "hoverlabel": {
           "align": "left"
          },
          "hovermode": "closest",
          "mapbox": {
           "style": "light"
          },
          "paper_bgcolor": "white",
          "plot_bgcolor": "#E5ECF6",
          "polar": {
           "angularaxis": {
            "gridcolor": "white",
            "linecolor": "white",
            "ticks": ""
           },
           "bgcolor": "#E5ECF6",
           "radialaxis": {
            "gridcolor": "white",
            "linecolor": "white",
            "ticks": ""
           }
          },
          "scene": {
           "xaxis": {
            "backgroundcolor": "#E5ECF6",
            "gridcolor": "white",
            "gridwidth": 2,
            "linecolor": "white",
            "showbackground": true,
            "ticks": "",
            "zerolinecolor": "white"
           },
           "yaxis": {
            "backgroundcolor": "#E5ECF6",
            "gridcolor": "white",
            "gridwidth": 2,
            "linecolor": "white",
            "showbackground": true,
            "ticks": "",
            "zerolinecolor": "white"
           },
           "zaxis": {
            "backgroundcolor": "#E5ECF6",
            "gridcolor": "white",
            "gridwidth": 2,
            "linecolor": "white",
            "showbackground": true,
            "ticks": "",
            "zerolinecolor": "white"
           }
          },
          "shapedefaults": {
           "line": {
            "color": "#2a3f5f"
           }
          },
          "ternary": {
           "aaxis": {
            "gridcolor": "white",
            "linecolor": "white",
            "ticks": ""
           },
           "baxis": {
            "gridcolor": "white",
            "linecolor": "white",
            "ticks": ""
           },
           "bgcolor": "#E5ECF6",
           "caxis": {
            "gridcolor": "white",
            "linecolor": "white",
            "ticks": ""
           }
          },
          "title": {
           "x": 0.05
          },
          "xaxis": {
           "automargin": true,
           "gridcolor": "white",
           "linecolor": "white",
           "ticks": "",
           "title": {
            "standoff": 15
           },
           "zerolinecolor": "white",
           "zerolinewidth": 2
          },
          "yaxis": {
           "automargin": true,
           "gridcolor": "white",
           "linecolor": "white",
           "ticks": "",
           "title": {
            "standoff": 15
           },
           "zerolinecolor": "white",
           "zerolinewidth": 2
          }
         }
        }
       }
      }
     },
     "metadata": {},
     "output_type": "display_data"
    }
   ],
   "source": [
    "fig4 = go.Figure()\n",
    "fig4.add_trace(go.Scatter(x=y_test['G3'], y=(GB_pred.copy()),mode='markers'))\n",
    "fig4.add_trace(go.Scatter(x=y_test['G3'], y=y_test['G3']))\n",
    "fig4.show()"
   ]
  },
  {
   "cell_type": "code",
   "execution_count": 117,
   "id": "d055a87a",
   "metadata": {},
   "outputs": [],
   "source": [
    "kor_col= ['studytime', 'Medu', 'Fedu', 'Dalc', 'Walc','failures','Mjob_at_home', 'Mjob_health', 'Mjob_other', 'Mjob_services',\n",
    "       'Mjob_teacher', 'Fjob_at_home', 'Fjob_health', 'Fjob_other',\n",
    "       'Fjob_services', 'Fjob_teacher']"
   ]
  },
  {
   "cell_type": "code",
   "execution_count": 136,
   "id": "4818a7ba",
   "metadata": {},
   "outputs": [
    {
     "data": {
      "text/plain": [
       "0.16650331636102056"
      ]
     },
     "execution_count": 136,
     "metadata": {},
     "output_type": "execute_result"
    }
   ],
   "source": [
    "GB = GradientBoostingRegressor(loss='huber',learning_rate=0.07)\n",
    "GB.fit(X_train[kor_col], y_train['G3'])\n",
    "GB_pred = GB.predict(X_test[kor_col])\n",
    "GB.score(X_test[kor_col], y_test['G3'])"
   ]
  },
  {
   "cell_type": "code",
   "execution_count": 160,
   "id": "19d9e298",
   "metadata": {},
   "outputs": [],
   "source": [
    "from sklearn.base import clone\n",
    "\n",
    "\n",
    "class OrdinalClassifier():\n",
    "    \n",
    "    def __init__(self, clf):\n",
    "        self.clf = clf\n",
    "        self.clfs = {}\n",
    "    \n",
    "    def fit(self, X, y):\n",
    "        self.unique_class = np.sort(np.unique(y))\n",
    "        if self.unique_class.shape[0] > 2:\n",
    "            for i in range(self.unique_class.shape[0]-1):\n",
    "                binary_y = (y > self.unique_class[i]).astype(np.uint8)\n",
    "                clf = clone(self.clf)\n",
    "                clf.fit(X, binary_y)\n",
    "                self.clfs[i] = clf\n",
    "    \n",
    "    def predict_proba(self, X):\n",
    "        clfs_predict = {k+6:self.clfs[k].predict_proba(X) for k in self.clfs}\n",
    "        predicted = []\n",
    "        for i,y in enumerate(self.unique_class):\n",
    "            if i == 0:\n",
    "                predicted.append(1 - clfs_predict[y][:,1])\n",
    "            elif y in clfs_predict:\n",
    "                 predicted.append(clfs_predict[y-1][:,1] - clfs_predict[y][:,1])\n",
    "            else:\n",
    "                predicted.append(clfs_predict[y-1][:,1])\n",
    "        return np.vstack(predicted).T\n",
    "    \n",
    "    def predict(self, X):\n",
    "        return np.argmax(self.predict_proba(X), axis=1)"
   ]
  },
  {
   "cell_type": "code",
   "execution_count": 161,
   "id": "338e8f7c",
   "metadata": {},
   "outputs": [],
   "source": [
    "from sklearn.ensemble import RandomForestClassifier, AdaBoostClassifier"
   ]
  },
  {
   "cell_type": "code",
   "execution_count": 162,
   "id": "f1265db7",
   "metadata": {},
   "outputs": [],
   "source": [
    "clf = OrdinalClassifier(GradientBoostingClassifier(max_depth=3))\n",
    "#clf = OrdinalClassifier(DecisionTreeClassifier(max_depth=3))\n",
    "#clf = OrdinalClassifier(RandomForestClassifier())\n",
    "#clf = OrdinalClassifier(KNeighborsClassifier(n_neighbors=3, weights=\"distance\"))\n",
    "#clf = OrdinalClassifier(AdaBoostClassifier())"
   ]
  },
  {
   "cell_type": "code",
   "execution_count": 163,
   "id": "42f87d94",
   "metadata": {},
   "outputs": [
    {
     "name": "stdout",
     "output_type": "stream",
     "text": [
      "0.17142857142857143\n",
      "              precision    recall  f1-score   support\n",
      "\n",
      "           6       0.00      0.00      0.00         4\n",
      "           7       0.00      0.00      0.00         5\n",
      "           8       0.08      0.06      0.07        17\n",
      "           9       0.09      0.06      0.07        16\n",
      "          10       0.22      0.24      0.23        38\n",
      "          11       0.27      0.29      0.28        38\n",
      "          12       0.09      0.08      0.08        26\n",
      "          13       0.30      0.29      0.29        28\n",
      "          14       0.14      0.18      0.16        22\n",
      "          15       0.14      0.20      0.16        20\n",
      "          16       0.05      0.08      0.06        13\n",
      "          17       0.17      0.11      0.13         9\n",
      "          18       0.00      0.00      0.00         7\n",
      "          19       0.00      0.00      0.00         2\n",
      "\n",
      "    accuracy                           0.17       245\n",
      "   macro avg       0.11      0.11      0.11       245\n",
      "weighted avg       0.16      0.17      0.17       245\n",
      "\n"
     ]
    }
   ],
   "source": [
    "clf.fit(X_train, y_train['G3'])\n",
    "clf_pred = clf.predict(X_test)+6\n",
    "print(metrics.accuracy_score(y_test['G3'], clf_pred))\n",
    "print(metrics.classification_report(y_test['G3'], clf_pred.copy()))"
   ]
  },
  {
   "cell_type": "code",
   "execution_count": 155,
   "id": "d6464374",
   "metadata": {},
   "outputs": [
    {
     "data": {
      "application/vnd.plotly.v1+json": {
       "config": {
        "plotlyServerURL": "https://plot.ly"
       },
       "data": [
        {
         "mode": "markers",
         "type": "scatter",
         "x": [
          10,
          11,
          11,
          16,
          10,
          14,
          7,
          10,
          10,
          6,
          13,
          11,
          11,
          14,
          11,
          10,
          14,
          8,
          17,
          8,
          13,
          13,
          10,
          14,
          11,
          12,
          10,
          14,
          11,
          13,
          8,
          6,
          17,
          9,
          14,
          10,
          15,
          15,
          13,
          11,
          15,
          10,
          18,
          11,
          10,
          16,
          14,
          10,
          13,
          15,
          10,
          8,
          11,
          12,
          16,
          10,
          16,
          15,
          14,
          17,
          16,
          11,
          11,
          10,
          10,
          9,
          7,
          10,
          11,
          13,
          13,
          10,
          11,
          13,
          10,
          10,
          11,
          11,
          12,
          11,
          6,
          12,
          19,
          13,
          10,
          16,
          11,
          11,
          11,
          12,
          16,
          11,
          13,
          15,
          14,
          13,
          17,
          9,
          18,
          12,
          11,
          13,
          13,
          12,
          9,
          8,
          10,
          11,
          13,
          12,
          12,
          10,
          12,
          10,
          6,
          11,
          12,
          11,
          8,
          9,
          14,
          10,
          8,
          11,
          15,
          13,
          17,
          8,
          15,
          12,
          10,
          11,
          10,
          12,
          10,
          14,
          13,
          7,
          13,
          8,
          9,
          9,
          15,
          12,
          9,
          9,
          18,
          16,
          8,
          14,
          11,
          7,
          15,
          13,
          17,
          15,
          12,
          8,
          9,
          8,
          12,
          9,
          13,
          14,
          9,
          17,
          13,
          10,
          11,
          10,
          10,
          10,
          14,
          11,
          15,
          12,
          11,
          15,
          14,
          19,
          17,
          15,
          13,
          16,
          18,
          18,
          9,
          10,
          12,
          13,
          12,
          14,
          14,
          13,
          8,
          13,
          11,
          12,
          15,
          15,
          12,
          18,
          16,
          12,
          11,
          12,
          16,
          9,
          10,
          14,
          8,
          7,
          14,
          11,
          11,
          8,
          9,
          10,
          13,
          12,
          10,
          11,
          15,
          12,
          14,
          15,
          16,
          12,
          16,
          13,
          13,
          9,
          10,
          14,
          18,
          10,
          15,
          15,
          8,
          14,
          11,
          10,
          11,
          8,
          17
         ],
         "y": [
          12,
          10,
          11,
          14,
          10,
          13,
          9,
          12,
          10,
          9,
          12,
          10,
          16,
          15,
          13,
          14,
          16,
          8,
          19,
          10,
          10,
          11,
          10,
          15,
          14,
          13,
          12,
          14,
          12,
          12,
          11,
          11,
          16,
          10,
          15,
          13,
          16,
          14,
          16,
          16,
          16,
          12,
          10,
          11,
          11,
          13,
          15,
          10,
          10,
          14,
          10,
          16,
          11,
          13,
          14,
          11,
          14,
          11,
          11,
          15,
          14,
          9,
          15,
          11,
          18,
          8,
          10,
          9,
          15,
          13,
          15,
          11,
          9,
          11,
          13,
          11,
          11,
          17,
          15,
          13,
          11,
          13,
          15,
          18,
          10,
          14,
          11,
          11,
          11,
          11,
          16,
          13,
          13,
          14,
          15,
          14,
          15,
          10,
          10,
          12,
          12,
          13,
          12,
          10,
          10,
          16,
          11,
          11,
          11,
          8,
          10,
          11,
          8,
          10,
          10,
          11,
          11,
          10,
          14,
          9,
          17,
          8,
          10,
          11,
          18,
          8,
          16,
          14,
          14,
          10,
          11,
          10,
          9,
          13,
          13,
          12,
          13,
          9,
          13,
          10,
          10,
          11,
          11,
          15,
          10,
          8,
          11,
          15,
          10,
          11,
          11,
          10,
          17,
          15,
          12,
          16,
          14,
          7,
          12,
          10,
          18,
          17,
          12,
          11,
          10,
          10,
          13,
          10,
          10,
          14,
          14,
          10,
          15,
          15,
          16,
          14,
          16,
          13,
          15,
          18,
          17,
          15,
          11,
          14,
          12,
          14,
          12,
          8,
          10,
          14,
          14,
          13,
          15,
          13,
          11,
          13,
          12,
          12,
          15,
          13,
          16,
          15,
          12,
          15,
          8,
          9,
          15,
          14,
          13,
          14,
          10,
          8,
          12,
          7,
          12,
          10,
          16,
          10,
          15,
          8,
          8,
          15,
          15,
          13,
          14,
          15,
          15,
          13,
          12,
          14,
          11,
          11,
          8,
          14,
          16,
          11,
          16,
          17,
          10,
          16,
          14,
          13,
          10,
          9,
          16
         ]
        },
        {
         "type": "scatter",
         "x": [
          10,
          11,
          11,
          16,
          10,
          14,
          7,
          10,
          10,
          6,
          13,
          11,
          11,
          14,
          11,
          10,
          14,
          8,
          17,
          8,
          13,
          13,
          10,
          14,
          11,
          12,
          10,
          14,
          11,
          13,
          8,
          6,
          17,
          9,
          14,
          10,
          15,
          15,
          13,
          11,
          15,
          10,
          18,
          11,
          10,
          16,
          14,
          10,
          13,
          15,
          10,
          8,
          11,
          12,
          16,
          10,
          16,
          15,
          14,
          17,
          16,
          11,
          11,
          10,
          10,
          9,
          7,
          10,
          11,
          13,
          13,
          10,
          11,
          13,
          10,
          10,
          11,
          11,
          12,
          11,
          6,
          12,
          19,
          13,
          10,
          16,
          11,
          11,
          11,
          12,
          16,
          11,
          13,
          15,
          14,
          13,
          17,
          9,
          18,
          12,
          11,
          13,
          13,
          12,
          9,
          8,
          10,
          11,
          13,
          12,
          12,
          10,
          12,
          10,
          6,
          11,
          12,
          11,
          8,
          9,
          14,
          10,
          8,
          11,
          15,
          13,
          17,
          8,
          15,
          12,
          10,
          11,
          10,
          12,
          10,
          14,
          13,
          7,
          13,
          8,
          9,
          9,
          15,
          12,
          9,
          9,
          18,
          16,
          8,
          14,
          11,
          7,
          15,
          13,
          17,
          15,
          12,
          8,
          9,
          8,
          12,
          9,
          13,
          14,
          9,
          17,
          13,
          10,
          11,
          10,
          10,
          10,
          14,
          11,
          15,
          12,
          11,
          15,
          14,
          19,
          17,
          15,
          13,
          16,
          18,
          18,
          9,
          10,
          12,
          13,
          12,
          14,
          14,
          13,
          8,
          13,
          11,
          12,
          15,
          15,
          12,
          18,
          16,
          12,
          11,
          12,
          16,
          9,
          10,
          14,
          8,
          7,
          14,
          11,
          11,
          8,
          9,
          10,
          13,
          12,
          10,
          11,
          15,
          12,
          14,
          15,
          16,
          12,
          16,
          13,
          13,
          9,
          10,
          14,
          18,
          10,
          15,
          15,
          8,
          14,
          11,
          10,
          11,
          8,
          17
         ],
         "y": [
          10,
          11,
          11,
          16,
          10,
          14,
          7,
          10,
          10,
          6,
          13,
          11,
          11,
          14,
          11,
          10,
          14,
          8,
          17,
          8,
          13,
          13,
          10,
          14,
          11,
          12,
          10,
          14,
          11,
          13,
          8,
          6,
          17,
          9,
          14,
          10,
          15,
          15,
          13,
          11,
          15,
          10,
          18,
          11,
          10,
          16,
          14,
          10,
          13,
          15,
          10,
          8,
          11,
          12,
          16,
          10,
          16,
          15,
          14,
          17,
          16,
          11,
          11,
          10,
          10,
          9,
          7,
          10,
          11,
          13,
          13,
          10,
          11,
          13,
          10,
          10,
          11,
          11,
          12,
          11,
          6,
          12,
          19,
          13,
          10,
          16,
          11,
          11,
          11,
          12,
          16,
          11,
          13,
          15,
          14,
          13,
          17,
          9,
          18,
          12,
          11,
          13,
          13,
          12,
          9,
          8,
          10,
          11,
          13,
          12,
          12,
          10,
          12,
          10,
          6,
          11,
          12,
          11,
          8,
          9,
          14,
          10,
          8,
          11,
          15,
          13,
          17,
          8,
          15,
          12,
          10,
          11,
          10,
          12,
          10,
          14,
          13,
          7,
          13,
          8,
          9,
          9,
          15,
          12,
          9,
          9,
          18,
          16,
          8,
          14,
          11,
          7,
          15,
          13,
          17,
          15,
          12,
          8,
          9,
          8,
          12,
          9,
          13,
          14,
          9,
          17,
          13,
          10,
          11,
          10,
          10,
          10,
          14,
          11,
          15,
          12,
          11,
          15,
          14,
          19,
          17,
          15,
          13,
          16,
          18,
          18,
          9,
          10,
          12,
          13,
          12,
          14,
          14,
          13,
          8,
          13,
          11,
          12,
          15,
          15,
          12,
          18,
          16,
          12,
          11,
          12,
          16,
          9,
          10,
          14,
          8,
          7,
          14,
          11,
          11,
          8,
          9,
          10,
          13,
          12,
          10,
          11,
          15,
          12,
          14,
          15,
          16,
          12,
          16,
          13,
          13,
          9,
          10,
          14,
          18,
          10,
          15,
          15,
          8,
          14,
          11,
          10,
          11,
          8,
          17
         ]
        }
       ],
       "layout": {
        "template": {
         "data": {
          "bar": [
           {
            "error_x": {
             "color": "#2a3f5f"
            },
            "error_y": {
             "color": "#2a3f5f"
            },
            "marker": {
             "line": {
              "color": "#E5ECF6",
              "width": 0.5
             },
             "pattern": {
              "fillmode": "overlay",
              "size": 10,
              "solidity": 0.2
             }
            },
            "type": "bar"
           }
          ],
          "barpolar": [
           {
            "marker": {
             "line": {
              "color": "#E5ECF6",
              "width": 0.5
             },
             "pattern": {
              "fillmode": "overlay",
              "size": 10,
              "solidity": 0.2
             }
            },
            "type": "barpolar"
           }
          ],
          "carpet": [
           {
            "aaxis": {
             "endlinecolor": "#2a3f5f",
             "gridcolor": "white",
             "linecolor": "white",
             "minorgridcolor": "white",
             "startlinecolor": "#2a3f5f"
            },
            "baxis": {
             "endlinecolor": "#2a3f5f",
             "gridcolor": "white",
             "linecolor": "white",
             "minorgridcolor": "white",
             "startlinecolor": "#2a3f5f"
            },
            "type": "carpet"
           }
          ],
          "choropleth": [
           {
            "colorbar": {
             "outlinewidth": 0,
             "ticks": ""
            },
            "type": "choropleth"
           }
          ],
          "contour": [
           {
            "colorbar": {
             "outlinewidth": 0,
             "ticks": ""
            },
            "colorscale": [
             [
              0,
              "#0d0887"
             ],
             [
              0.1111111111111111,
              "#46039f"
             ],
             [
              0.2222222222222222,
              "#7201a8"
             ],
             [
              0.3333333333333333,
              "#9c179e"
             ],
             [
              0.4444444444444444,
              "#bd3786"
             ],
             [
              0.5555555555555556,
              "#d8576b"
             ],
             [
              0.6666666666666666,
              "#ed7953"
             ],
             [
              0.7777777777777778,
              "#fb9f3a"
             ],
             [
              0.8888888888888888,
              "#fdca26"
             ],
             [
              1,
              "#f0f921"
             ]
            ],
            "type": "contour"
           }
          ],
          "contourcarpet": [
           {
            "colorbar": {
             "outlinewidth": 0,
             "ticks": ""
            },
            "type": "contourcarpet"
           }
          ],
          "heatmap": [
           {
            "colorbar": {
             "outlinewidth": 0,
             "ticks": ""
            },
            "colorscale": [
             [
              0,
              "#0d0887"
             ],
             [
              0.1111111111111111,
              "#46039f"
             ],
             [
              0.2222222222222222,
              "#7201a8"
             ],
             [
              0.3333333333333333,
              "#9c179e"
             ],
             [
              0.4444444444444444,
              "#bd3786"
             ],
             [
              0.5555555555555556,
              "#d8576b"
             ],
             [
              0.6666666666666666,
              "#ed7953"
             ],
             [
              0.7777777777777778,
              "#fb9f3a"
             ],
             [
              0.8888888888888888,
              "#fdca26"
             ],
             [
              1,
              "#f0f921"
             ]
            ],
            "type": "heatmap"
           }
          ],
          "heatmapgl": [
           {
            "colorbar": {
             "outlinewidth": 0,
             "ticks": ""
            },
            "colorscale": [
             [
              0,
              "#0d0887"
             ],
             [
              0.1111111111111111,
              "#46039f"
             ],
             [
              0.2222222222222222,
              "#7201a8"
             ],
             [
              0.3333333333333333,
              "#9c179e"
             ],
             [
              0.4444444444444444,
              "#bd3786"
             ],
             [
              0.5555555555555556,
              "#d8576b"
             ],
             [
              0.6666666666666666,
              "#ed7953"
             ],
             [
              0.7777777777777778,
              "#fb9f3a"
             ],
             [
              0.8888888888888888,
              "#fdca26"
             ],
             [
              1,
              "#f0f921"
             ]
            ],
            "type": "heatmapgl"
           }
          ],
          "histogram": [
           {
            "marker": {
             "pattern": {
              "fillmode": "overlay",
              "size": 10,
              "solidity": 0.2
             }
            },
            "type": "histogram"
           }
          ],
          "histogram2d": [
           {
            "colorbar": {
             "outlinewidth": 0,
             "ticks": ""
            },
            "colorscale": [
             [
              0,
              "#0d0887"
             ],
             [
              0.1111111111111111,
              "#46039f"
             ],
             [
              0.2222222222222222,
              "#7201a8"
             ],
             [
              0.3333333333333333,
              "#9c179e"
             ],
             [
              0.4444444444444444,
              "#bd3786"
             ],
             [
              0.5555555555555556,
              "#d8576b"
             ],
             [
              0.6666666666666666,
              "#ed7953"
             ],
             [
              0.7777777777777778,
              "#fb9f3a"
             ],
             [
              0.8888888888888888,
              "#fdca26"
             ],
             [
              1,
              "#f0f921"
             ]
            ],
            "type": "histogram2d"
           }
          ],
          "histogram2dcontour": [
           {
            "colorbar": {
             "outlinewidth": 0,
             "ticks": ""
            },
            "colorscale": [
             [
              0,
              "#0d0887"
             ],
             [
              0.1111111111111111,
              "#46039f"
             ],
             [
              0.2222222222222222,
              "#7201a8"
             ],
             [
              0.3333333333333333,
              "#9c179e"
             ],
             [
              0.4444444444444444,
              "#bd3786"
             ],
             [
              0.5555555555555556,
              "#d8576b"
             ],
             [
              0.6666666666666666,
              "#ed7953"
             ],
             [
              0.7777777777777778,
              "#fb9f3a"
             ],
             [
              0.8888888888888888,
              "#fdca26"
             ],
             [
              1,
              "#f0f921"
             ]
            ],
            "type": "histogram2dcontour"
           }
          ],
          "mesh3d": [
           {
            "colorbar": {
             "outlinewidth": 0,
             "ticks": ""
            },
            "type": "mesh3d"
           }
          ],
          "parcoords": [
           {
            "line": {
             "colorbar": {
              "outlinewidth": 0,
              "ticks": ""
             }
            },
            "type": "parcoords"
           }
          ],
          "pie": [
           {
            "automargin": true,
            "type": "pie"
           }
          ],
          "scatter": [
           {
            "marker": {
             "colorbar": {
              "outlinewidth": 0,
              "ticks": ""
             }
            },
            "type": "scatter"
           }
          ],
          "scatter3d": [
           {
            "line": {
             "colorbar": {
              "outlinewidth": 0,
              "ticks": ""
             }
            },
            "marker": {
             "colorbar": {
              "outlinewidth": 0,
              "ticks": ""
             }
            },
            "type": "scatter3d"
           }
          ],
          "scattercarpet": [
           {
            "marker": {
             "colorbar": {
              "outlinewidth": 0,
              "ticks": ""
             }
            },
            "type": "scattercarpet"
           }
          ],
          "scattergeo": [
           {
            "marker": {
             "colorbar": {
              "outlinewidth": 0,
              "ticks": ""
             }
            },
            "type": "scattergeo"
           }
          ],
          "scattergl": [
           {
            "marker": {
             "colorbar": {
              "outlinewidth": 0,
              "ticks": ""
             }
            },
            "type": "scattergl"
           }
          ],
          "scattermapbox": [
           {
            "marker": {
             "colorbar": {
              "outlinewidth": 0,
              "ticks": ""
             }
            },
            "type": "scattermapbox"
           }
          ],
          "scatterpolar": [
           {
            "marker": {
             "colorbar": {
              "outlinewidth": 0,
              "ticks": ""
             }
            },
            "type": "scatterpolar"
           }
          ],
          "scatterpolargl": [
           {
            "marker": {
             "colorbar": {
              "outlinewidth": 0,
              "ticks": ""
             }
            },
            "type": "scatterpolargl"
           }
          ],
          "scatterternary": [
           {
            "marker": {
             "colorbar": {
              "outlinewidth": 0,
              "ticks": ""
             }
            },
            "type": "scatterternary"
           }
          ],
          "surface": [
           {
            "colorbar": {
             "outlinewidth": 0,
             "ticks": ""
            },
            "colorscale": [
             [
              0,
              "#0d0887"
             ],
             [
              0.1111111111111111,
              "#46039f"
             ],
             [
              0.2222222222222222,
              "#7201a8"
             ],
             [
              0.3333333333333333,
              "#9c179e"
             ],
             [
              0.4444444444444444,
              "#bd3786"
             ],
             [
              0.5555555555555556,
              "#d8576b"
             ],
             [
              0.6666666666666666,
              "#ed7953"
             ],
             [
              0.7777777777777778,
              "#fb9f3a"
             ],
             [
              0.8888888888888888,
              "#fdca26"
             ],
             [
              1,
              "#f0f921"
             ]
            ],
            "type": "surface"
           }
          ],
          "table": [
           {
            "cells": {
             "fill": {
              "color": "#EBF0F8"
             },
             "line": {
              "color": "white"
             }
            },
            "header": {
             "fill": {
              "color": "#C8D4E3"
             },
             "line": {
              "color": "white"
             }
            },
            "type": "table"
           }
          ]
         },
         "layout": {
          "annotationdefaults": {
           "arrowcolor": "#2a3f5f",
           "arrowhead": 0,
           "arrowwidth": 1
          },
          "autotypenumbers": "strict",
          "coloraxis": {
           "colorbar": {
            "outlinewidth": 0,
            "ticks": ""
           }
          },
          "colorscale": {
           "diverging": [
            [
             0,
             "#8e0152"
            ],
            [
             0.1,
             "#c51b7d"
            ],
            [
             0.2,
             "#de77ae"
            ],
            [
             0.3,
             "#f1b6da"
            ],
            [
             0.4,
             "#fde0ef"
            ],
            [
             0.5,
             "#f7f7f7"
            ],
            [
             0.6,
             "#e6f5d0"
            ],
            [
             0.7,
             "#b8e186"
            ],
            [
             0.8,
             "#7fbc41"
            ],
            [
             0.9,
             "#4d9221"
            ],
            [
             1,
             "#276419"
            ]
           ],
           "sequential": [
            [
             0,
             "#0d0887"
            ],
            [
             0.1111111111111111,
             "#46039f"
            ],
            [
             0.2222222222222222,
             "#7201a8"
            ],
            [
             0.3333333333333333,
             "#9c179e"
            ],
            [
             0.4444444444444444,
             "#bd3786"
            ],
            [
             0.5555555555555556,
             "#d8576b"
            ],
            [
             0.6666666666666666,
             "#ed7953"
            ],
            [
             0.7777777777777778,
             "#fb9f3a"
            ],
            [
             0.8888888888888888,
             "#fdca26"
            ],
            [
             1,
             "#f0f921"
            ]
           ],
           "sequentialminus": [
            [
             0,
             "#0d0887"
            ],
            [
             0.1111111111111111,
             "#46039f"
            ],
            [
             0.2222222222222222,
             "#7201a8"
            ],
            [
             0.3333333333333333,
             "#9c179e"
            ],
            [
             0.4444444444444444,
             "#bd3786"
            ],
            [
             0.5555555555555556,
             "#d8576b"
            ],
            [
             0.6666666666666666,
             "#ed7953"
            ],
            [
             0.7777777777777778,
             "#fb9f3a"
            ],
            [
             0.8888888888888888,
             "#fdca26"
            ],
            [
             1,
             "#f0f921"
            ]
           ]
          },
          "colorway": [
           "#636efa",
           "#EF553B",
           "#00cc96",
           "#ab63fa",
           "#FFA15A",
           "#19d3f3",
           "#FF6692",
           "#B6E880",
           "#FF97FF",
           "#FECB52"
          ],
          "font": {
           "color": "#2a3f5f"
          },
          "geo": {
           "bgcolor": "white",
           "lakecolor": "white",
           "landcolor": "#E5ECF6",
           "showlakes": true,
           "showland": true,
           "subunitcolor": "white"
          },
          "hoverlabel": {
           "align": "left"
          },
          "hovermode": "closest",
          "mapbox": {
           "style": "light"
          },
          "paper_bgcolor": "white",
          "plot_bgcolor": "#E5ECF6",
          "polar": {
           "angularaxis": {
            "gridcolor": "white",
            "linecolor": "white",
            "ticks": ""
           },
           "bgcolor": "#E5ECF6",
           "radialaxis": {
            "gridcolor": "white",
            "linecolor": "white",
            "ticks": ""
           }
          },
          "scene": {
           "xaxis": {
            "backgroundcolor": "#E5ECF6",
            "gridcolor": "white",
            "gridwidth": 2,
            "linecolor": "white",
            "showbackground": true,
            "ticks": "",
            "zerolinecolor": "white"
           },
           "yaxis": {
            "backgroundcolor": "#E5ECF6",
            "gridcolor": "white",
            "gridwidth": 2,
            "linecolor": "white",
            "showbackground": true,
            "ticks": "",
            "zerolinecolor": "white"
           },
           "zaxis": {
            "backgroundcolor": "#E5ECF6",
            "gridcolor": "white",
            "gridwidth": 2,
            "linecolor": "white",
            "showbackground": true,
            "ticks": "",
            "zerolinecolor": "white"
           }
          },
          "shapedefaults": {
           "line": {
            "color": "#2a3f5f"
           }
          },
          "ternary": {
           "aaxis": {
            "gridcolor": "white",
            "linecolor": "white",
            "ticks": ""
           },
           "baxis": {
            "gridcolor": "white",
            "linecolor": "white",
            "ticks": ""
           },
           "bgcolor": "#E5ECF6",
           "caxis": {
            "gridcolor": "white",
            "linecolor": "white",
            "ticks": ""
           }
          },
          "title": {
           "x": 0.05
          },
          "xaxis": {
           "automargin": true,
           "gridcolor": "white",
           "linecolor": "white",
           "ticks": "",
           "title": {
            "standoff": 15
           },
           "zerolinecolor": "white",
           "zerolinewidth": 2
          },
          "yaxis": {
           "automargin": true,
           "gridcolor": "white",
           "linecolor": "white",
           "ticks": "",
           "title": {
            "standoff": 15
           },
           "zerolinecolor": "white",
           "zerolinewidth": 2
          }
         }
        }
       }
      }
     },
     "metadata": {},
     "output_type": "display_data"
    }
   ],
   "source": [
    "fig6 = go.Figure()\n",
    "fig6.add_trace(go.Scatter(x=y_test['G3'], y=clf_pred.copy(),mode='markers'))\n",
    "fig6.add_trace(go.Scatter(x=y_test['G3'], y=y_test['G3']))\n",
    "fig6.show()"
   ]
  },
  {
   "cell_type": "code",
   "execution_count": null,
   "id": "623fc352",
   "metadata": {},
   "outputs": [],
   "source": []
  }
 ],
 "metadata": {
  "kernelspec": {
   "display_name": "Python 3 (ipykernel)",
   "language": "python",
   "name": "python3"
  },
  "language_info": {
   "codemirror_mode": {
    "name": "ipython",
    "version": 3
   },
   "file_extension": ".py",
   "mimetype": "text/x-python",
   "name": "python",
   "nbconvert_exporter": "python",
   "pygments_lexer": "ipython3",
   "version": "3.9.7"
  }
 },
 "nbformat": 4,
 "nbformat_minor": 5
}
